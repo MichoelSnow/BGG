{
 "cells": [
  {
   "cell_type": "markdown",
   "metadata": {},
   "source": [
    "# Imports and Paths"
   ]
  },
  {
   "cell_type": "code",
   "execution_count": 165,
   "metadata": {},
   "outputs": [],
   "source": [
    "from urllib import request\n",
    "from bs4 import BeautifulSoup, Comment\n",
    "import pandas as pd\n",
    "from datetime import datetime\n",
    "from shutil import copyfile\n",
    "import time\n",
    "import json"
   ]
  },
  {
   "cell_type": "code",
   "execution_count": null,
   "metadata": {},
   "outputs": [],
   "source": [
    "PATH = '../data/'"
   ]
  },
  {
   "cell_type": "code",
   "execution_count": 4,
   "metadata": {},
   "outputs": [],
   "source": [
    "bs_pg = 'https://www.boardgamegeek.com/xmlapi2/'"
   ]
  },
  {
   "cell_type": "markdown",
   "metadata": {},
   "source": [
    "# XML2 API"
   ]
  },
  {
   "cell_type": "markdown",
   "metadata": {},
   "source": [
    "Base URI: /xmlapi2/thing?parameters\n",
    "- id=NNN\t\n",
    "  - Specifies the id of the thing(s) to retrieve. To request multiple things with a single query, NNN can specify a comma-delimited list of ids.\n",
    "- type=THINGTYPE\t\n",
    "  - Specifies that, regardless of the type of thing asked for by id, the results are filtered by the THINGTYPE(s) specified. Multiple THINGTYPEs can be specified in a comma-delimited list.\n",
    "- versions=1\t\n",
    "  - Returns version info for the item.\n",
    "- videos = 1\t\n",
    "  - Returns videos for the item.\n",
    "- stats=1\t\t\n",
    "  - Returns ranking and rating stats for the item.\n",
    "- historical=1\t\t\n",
    "  - Returns historical data over time. See page parameter.\n",
    "- marketplace=1\t\t\n",
    "  - Returns marketplace data.\n",
    "- comments=1\t\t\n",
    "  - Returns all comments about the item. Also includes ratings when commented. See page parameter.\n",
    "- ratingcomments=1\t\t\n",
    "  - Returns all ratings for the item. Also includes comments when rated. See page parameter. The ratingcomments and comments parameters cannot be used together, as the output always appears in the \\<comments\\> node of the XML; comments parameter takes precedence if both are specified. Ratings are sorted in descending rating value, based on the highest rating they have assigned to that item (each item in the collection can have a different rating).\n",
    "- page=NNN\t\t\n",
    "  - Defaults to 1, controls the page of data to see for historical info, comments, and ratings data.\n",
    "- pagesize=NNN\t\t\n",
    "  - Set the number of records to return in paging. Minimum is 10, maximum is 100.\n",
    "- from=YYYY-MM-DD\t\t\n",
    "  - Not currently supported.\n",
    "- to=YYYY-MM-DD\t\t\n",
    "  - Not currently supported."
   ]
  },
  {
   "cell_type": "markdown",
   "metadata": {},
   "source": [
    "# Get the id's of the top 2000 board games"
   ]
  },
  {
   "cell_type": "code",
   "execution_count": 50,
   "metadata": {},
   "outputs": [],
   "source": [
    "pg_gm_rnks = 'https://boardgamegeek.com/browse/boardgame/page/'"
   ]
  },
  {
   "cell_type": "code",
   "execution_count": 51,
   "metadata": {},
   "outputs": [],
   "source": [
    "pg_num = 1\n",
    "pg = request.urlopen(f'{pg_gm_rnks}{str(pg_num)}')\n",
    "soup = BeautifulSoup(pg, 'html.parser')"
   ]
  },
  {
   "cell_type": "code",
   "execution_count": 53,
   "metadata": {},
   "outputs": [],
   "source": [
    "def extract_gm_id(soup):\n",
    "    rows = soup.find('div', {'id': 'collection'}).find_all('tr')[1:]\n",
    "    id_list = []\n",
    "    for row in rows:\n",
    "        id_list.append(int(row.find_all('a')[1]['href'].split('/')[2]))\n",
    "    return id_list"
   ]
  },
  {
   "cell_type": "code",
   "execution_count": 80,
   "metadata": {},
   "outputs": [],
   "source": [
    "gm_ids = []\n",
    "for pg_num in range(1,21):\n",
    "    pg = request.urlopen(f'{pg_gm_rnks}{str(pg_num)}')\n",
    "    soup = BeautifulSoup(pg, 'html.parser')\n",
    "    gm_ids += extract_gm_id(soup)"
   ]
  },
  {
   "cell_type": "code",
   "execution_count": 81,
   "metadata": {},
   "outputs": [
    {
     "data": {
      "text/plain": [
       "2000"
      ]
     },
     "execution_count": 81,
     "metadata": {},
     "output_type": "execute_result"
    }
   ],
   "source": [
    "len(gm_ids)"
   ]
  },
  {
   "cell_type": "code",
   "execution_count": 113,
   "metadata": {},
   "outputs": [
    {
     "data": {
      "text/plain": [
       "17329"
      ]
     },
     "execution_count": 113,
     "metadata": {},
     "output_type": "execute_result"
    }
   ],
   "source": [
    "gm_ids[750]"
   ]
  },
  {
   "cell_type": "markdown",
   "metadata": {},
   "source": [
    "# Extract the info for each game"
   ]
  },
  {
   "cell_type": "code",
   "execution_count": 57,
   "metadata": {},
   "outputs": [],
   "source": [
    "bs_pg = 'https://www.boardgamegeek.com/xmlapi2/'"
   ]
  },
  {
   "cell_type": "markdown",
   "metadata": {},
   "source": [
    "## Using the extracted game id's"
   ]
  },
  {
   "cell_type": "code",
   "execution_count": 129,
   "metadata": {},
   "outputs": [],
   "source": [
    "bs_pg_gm = f'{bs_pg}thing?type=boardgame&stats=1&ratingcomments=1&page=1&pagesize=10&id='"
   ]
  },
  {
   "cell_type": "code",
   "execution_count": 139,
   "metadata": {},
   "outputs": [],
   "source": [
    "def extract_game_item(item):\n",
    "    gm_dict = {}\n",
    "    field_int = ['yearpublished', 'minplayers', 'maxplayers', 'playingtime', 'minplaytime', 'maxplaytime', 'minage']\n",
    "    field_categ = ['boardgamecategory', 'boardgamemechanic', 'boardgamefamily','boardgamedesigner', 'boardgameartist', 'boardgamepublisher']\n",
    "    field_rank = [x['friendlyname'] for x in item.find_all('rank')]\n",
    "    field_stats = ['usersrated', 'average', 'bayesaverage', 'stddev', 'median', 'owned', 'trading', 'wanting', 'wishing', 'numcomments', 'numweights', 'averageweight']\n",
    "    gm_dict['name'] = item.find('name')['value']\n",
    "    gm_dict['id'] = item['id']\n",
    "    gm_dict['num_of_rankings'] = int(item.find('comments')['totalitems'])\n",
    "    for i in field_int:\n",
    "        field_val = item.find(i)\n",
    "        if field_val is None:\n",
    "            gm_dict[i] = -1\n",
    "        else:\n",
    "            gm_dict[i] = int(field_val['value'])\n",
    "    for i in field_categ:\n",
    "        gm_dict[i] = [x['value'] for x in item.find_all('link',{'type':i})]\n",
    "    for i in field_rank:\n",
    "        field_val = item.find('rank',{'friendlyname':i})\n",
    "        if field_val is None or field_val['value'] == 'Not Ranked':\n",
    "            gm_dict[i.replace(' ','')] = -1\n",
    "        else:\n",
    "            gm_dict[i.replace(' ','')] = int(field_val['value'])\n",
    "    for i in field_stats:\n",
    "        field_val = item.find(i)\n",
    "        if field_val is None:\n",
    "            gm_dict[i] = -1\n",
    "        else:\n",
    "            gm_dict[i] = float(field_val['value'])\n",
    "    return gm_dict"
   ]
  },
  {
   "cell_type": "code",
   "execution_count": 144,
   "metadata": {},
   "outputs": [],
   "source": [
    "aa = f'{bs_pg_gm}{str(idx)}'"
   ]
  },
  {
   "cell_type": "code",
   "execution_count": 148,
   "metadata": {},
   "outputs": [],
   "source": [
    "gm_list = []\n",
    "idx_split = 4\n",
    "idx_size = int(len(gm_ids)/idx_split)\n",
    "for i in range(idx_split):\n",
    "    idx = str(gm_ids[i*idx_size:(i+1)*idx_size]).replace(' ','')[1:-1]   \n",
    "    pg = request.urlopen(f'{bs_pg_gm}{str(idx)}')\n",
    "    xsoup = BeautifulSoup(pg, 'xml')\n",
    "    gm_list += [extract_game_item(x) for x in xsoup.find_all('item')]\n",
    "df = pd.DataFrame(gm_list)"
   ]
  },
  {
   "cell_type": "code",
   "execution_count": 150,
   "metadata": {
    "scrolled": true
   },
   "outputs": [],
   "source": [
    "df.to_csv(f'../data/bgg_top{len(gm_ids)}_{str(datetime.now().date())}.csv', index=False)"
   ]
  },
  {
   "cell_type": "code",
   "execution_count": 149,
   "metadata": {},
   "outputs": [
    {
     "data": {
      "text/plain": [
       "(2000, 38)"
      ]
     },
     "execution_count": 149,
     "metadata": {},
     "output_type": "execute_result"
    }
   ],
   "source": [
    "df.shape"
   ]
  },
  {
   "cell_type": "markdown",
   "metadata": {},
   "source": [
    "## Iterating through every possible id"
   ]
  },
  {
   "cell_type": "markdown",
   "metadata": {},
   "source": [
    "You can't get games by bgg ranking, so I will go through every game, extract their info and then go back and extract info based on rank"
   ]
  },
  {
   "cell_type": "code",
   "execution_count": 11,
   "metadata": {},
   "outputs": [],
   "source": [
    "bs_pg_gm = f'{bs_pg}thing?type=boardgame&stats=1&id='"
   ]
  },
  {
   "cell_type": "code",
   "execution_count": 136,
   "metadata": {},
   "outputs": [],
   "source": [
    "!ls '../data/'"
   ]
  },
  {
   "cell_type": "code",
   "execution_count": 73,
   "metadata": {},
   "outputs": [],
   "source": [
    "def extract_game_data(soup):\n",
    "    gm_dict = {}\n",
    "    field_int = ['yearpublished', 'minplayers', 'maxplayers', 'playingtime', 'minplaytime', 'maxplaytime', 'minage']\n",
    "    field_categ = ['boardgamecategory', 'boardgamemechanic', 'boardgamefamily','boardgamedesigner', 'boardgameartist', 'boardgamepublisher']\n",
    "    field_rank = [x['friendlyname'] for x in soup.find_all('rank')]\n",
    "    field_stats = ['usersrated', 'average', 'bayesaverage', 'stddev', 'median', 'owned', 'trading', 'wanting', 'wishing', 'numcomments', 'numweights', 'averageweight']\n",
    "    gm_dict['name'] = soup.find('name')['value']\n",
    "    gm_dict['id'] = soup.find('item')['id']\n",
    "    for i in field_int:\n",
    "        field_val = soup.find(i)\n",
    "        if field_val is None:\n",
    "            gm_dict[i] = -1\n",
    "        else:\n",
    "            gm_dict[i] = int(field_val['value'])\n",
    "    for i in field_categ:\n",
    "        gm_dict[i] = [x['value'] for x in soup.find_all('link',{'type':i})]\n",
    "    for i in field_rank:\n",
    "        field_val = soup.find('rank',{'friendlyname':i})\n",
    "        if field_val is None:\n",
    "            gm_dict[i] = -1\n",
    "        else:\n",
    "            gm_dict[i] = int(field_val['value'])\n",
    "    for i in field_stats:\n",
    "        field_val = soup.find(i)\n",
    "        if field_val is None:\n",
    "            gm_dict[i] = -1\n",
    "        else:\n",
    "            gm_dict[i] = float(field_val['value'])\n",
    "    return gm_dict"
   ]
  },
  {
   "cell_type": "code",
   "execution_count": 184,
   "metadata": {},
   "outputs": [],
   "source": [
    "def extract_game_item(item):\n",
    "    gm_dict = {}\n",
    "    field_int = ['yearpublished', 'minplayers', 'maxplayers', 'playingtime', 'minplaytime', 'maxplaytime', 'minage']\n",
    "    field_categ = ['boardgamecategory', 'boardgamemechanic', 'boardgamefamily','boardgamedesigner', 'boardgameartist', 'boardgamepublisher']\n",
    "    field_rank = [x['friendlyname'] for x in item.find_all('rank')]\n",
    "    field_stats = ['usersrated', 'average', 'bayesaverage', 'stddev', 'median', 'owned', 'trading', 'wanting', 'wishing', 'numcomments', 'numweights', 'averageweight']\n",
    "    gm_dict['name'] = item.find('name')['value']\n",
    "    gm_dict['id'] = item['id']\n",
    "    for i in field_int:\n",
    "        field_val = item.find(i)\n",
    "        if field_val is None:\n",
    "            gm_dict[i] = -1\n",
    "        else:\n",
    "            gm_dict[i] = int(field_val['value'])\n",
    "    for i in field_categ:\n",
    "        gm_dict[i] = [x['value'] for x in item.find_all('link',{'type':i})]\n",
    "    for i in field_rank:\n",
    "        field_val = item.find('rank',{'friendlyname':i})\n",
    "        if field_val is None or field_val['value'] == 'Not Ranked':\n",
    "            gm_dict[i.replace(' ','')] = -1\n",
    "        else:\n",
    "            gm_dict[i.replace(' ','')] = int(field_val['value'])\n",
    "    for i in field_stats:\n",
    "        field_val = item.find(i)\n",
    "        if field_val is None:\n",
    "            gm_dict[i] = -1\n",
    "        else:\n",
    "            gm_dict[i] = float(field_val['value'])\n",
    "    return gm_dict"
   ]
  },
  {
   "cell_type": "code",
   "execution_count": 181,
   "metadata": {},
   "outputs": [],
   "source": [
    "gm_list = []"
   ]
  },
  {
   "cell_type": "code",
   "execution_count": 149,
   "metadata": {},
   "outputs": [
    {
     "name": "stdout",
     "output_type": "stream",
     "text": [
      "CPU times: user 40.3 s, sys: 188 ms, total: 40.5 s\n",
      "Wall time: 1min 3s\n"
     ]
    }
   ],
   "source": [
    "idx_start = 0\n",
    "idx_dist = 1000\n",
    "idx = str(tuple(range(idx_start, idx_start+idx_dist))).replace(' ','')[1:-1]\n",
    "pg = request.urlopen(f'{bs_pg_gm}{str(idx)}')\n",
    "soup = BeautifulSoup(pg, 'xml')\n",
    "gm_list += [extract_game_item(x) for x in soup.find_all('item')]"
   ]
  },
  {
   "cell_type": "code",
   "execution_count": 189,
   "metadata": {
    "scrolled": true
   },
   "outputs": [
    {
     "name": "stdout",
     "output_type": "stream",
     "text": [
      "1000 855 14:57:40\n",
      "2000 1702 14:58:20\n",
      "3000 2569 14:58:59\n",
      "4000 3460 14:59:37\n",
      "5000 4320 15:00:12\n",
      "6000 5221 15:00:48\n",
      "7000 6108 15:01:21\n",
      "8000 7002 15:01:57\n",
      "9000 7842 15:02:29\n",
      "10000 8727 15:03:03\n",
      "11000 9625 15:04:14\n",
      "12000 10522 15:05:21\n",
      "13000 11415 15:06:31\n",
      "14000 12273 15:07:42\n",
      "15000 13160 15:08:49\n",
      "16000 14035 15:09:57\n",
      "17000 14909 15:11:03\n",
      "18000 15781 15:12:04\n",
      "19000 16629 15:12:58\n",
      "20000 17479 15:14:04\n",
      "21000 18316 15:15:04\n",
      "22000 19158 15:16:01\n",
      "23000 20012 15:17:03\n",
      "24000 20868 15:17:59\n",
      "25000 21749 15:19:00\n",
      "26000 22626 15:20:02\n",
      "27000 23487 15:21:04\n",
      "28000 24369 15:22:15\n",
      "29000 25240 15:23:19\n",
      "30000 26122 15:24:25\n",
      "31000 26977 15:25:26\n",
      "32000 27828 15:26:23\n",
      "33000 28706 15:27:26\n",
      "34000 29566 15:28:27\n",
      "35000 30419 15:29:30\n",
      "36000 31301 15:30:35\n",
      "37000 32211 15:31:39\n",
      "38000 33083 15:32:38\n",
      "39000 33932 15:33:45\n",
      "40000 34742 15:34:48\n",
      "41000 35492 15:35:38\n",
      "42000 36132 15:36:32\n",
      "43000 36770 15:37:23\n",
      "44000 37215 15:38:02\n",
      "45000 37297 15:38:14\n",
      "46000 37366 15:38:27\n",
      "47000 37507 15:38:45\n",
      "48000 37607 15:38:59\n",
      "49000 37661 15:39:13\n",
      "50000 37744 15:39:26\n",
      "51000 37834 15:39:40\n",
      "52000 37973 15:39:57\n",
      "53000 38061 15:40:11\n"
     ]
    },
    {
     "ename": "ValueError",
     "evalue": "invalid literal for int() with base 10: ''",
     "output_type": "error",
     "traceback": [
      "\u001b[0;31m---------------------------------------------------------------------------\u001b[0m",
      "\u001b[0;31mValueError\u001b[0m                                Traceback (most recent call last)",
      "\u001b[0;32m<ipython-input-189-ae1ccec5256a>\u001b[0m in \u001b[0;36m<module>\u001b[0;34m\u001b[0m\n\u001b[1;32m      6\u001b[0m     \u001b[0mpg\u001b[0m \u001b[0;34m=\u001b[0m \u001b[0mrequest\u001b[0m\u001b[0;34m.\u001b[0m\u001b[0murlopen\u001b[0m\u001b[0;34m(\u001b[0m\u001b[0;34mf'{bs_pg_gm}{str(idx)}'\u001b[0m\u001b[0;34m)\u001b[0m\u001b[0;34m\u001b[0m\u001b[0m\n\u001b[1;32m      7\u001b[0m     \u001b[0msoup\u001b[0m \u001b[0;34m=\u001b[0m \u001b[0mBeautifulSoup\u001b[0m\u001b[0;34m(\u001b[0m\u001b[0mpg\u001b[0m\u001b[0;34m,\u001b[0m \u001b[0;34m'xml'\u001b[0m\u001b[0;34m)\u001b[0m\u001b[0;34m\u001b[0m\u001b[0m\n\u001b[0;32m----> 8\u001b[0;31m     \u001b[0mgm_list\u001b[0m \u001b[0;34m+=\u001b[0m \u001b[0;34m[\u001b[0m\u001b[0mextract_game_item\u001b[0m\u001b[0;34m(\u001b[0m\u001b[0mx\u001b[0m\u001b[0;34m)\u001b[0m \u001b[0;32mfor\u001b[0m \u001b[0mx\u001b[0m \u001b[0;32min\u001b[0m \u001b[0msoup\u001b[0m\u001b[0;34m.\u001b[0m\u001b[0mfind_all\u001b[0m\u001b[0;34m(\u001b[0m\u001b[0;34m'item'\u001b[0m\u001b[0;34m)\u001b[0m\u001b[0;34m]\u001b[0m\u001b[0;34m\u001b[0m\u001b[0m\n\u001b[0m\u001b[1;32m      9\u001b[0m     \u001b[0mdf\u001b[0m \u001b[0;34m=\u001b[0m \u001b[0mpd\u001b[0m\u001b[0;34m.\u001b[0m\u001b[0mDataFrame\u001b[0m\u001b[0;34m(\u001b[0m\u001b[0mgm_list\u001b[0m\u001b[0;34m)\u001b[0m\u001b[0;34m\u001b[0m\u001b[0m\n\u001b[1;32m     10\u001b[0m     \u001b[0;32mif\u001b[0m \u001b[0midx_start\u001b[0m \u001b[0;34m>\u001b[0m \u001b[0;36m0\u001b[0m\u001b[0;34m:\u001b[0m\u001b[0;34m\u001b[0m\u001b[0m\n",
      "\u001b[0;32m<ipython-input-189-ae1ccec5256a>\u001b[0m in \u001b[0;36m<listcomp>\u001b[0;34m(.0)\u001b[0m\n\u001b[1;32m      6\u001b[0m     \u001b[0mpg\u001b[0m \u001b[0;34m=\u001b[0m \u001b[0mrequest\u001b[0m\u001b[0;34m.\u001b[0m\u001b[0murlopen\u001b[0m\u001b[0;34m(\u001b[0m\u001b[0;34mf'{bs_pg_gm}{str(idx)}'\u001b[0m\u001b[0;34m)\u001b[0m\u001b[0;34m\u001b[0m\u001b[0m\n\u001b[1;32m      7\u001b[0m     \u001b[0msoup\u001b[0m \u001b[0;34m=\u001b[0m \u001b[0mBeautifulSoup\u001b[0m\u001b[0;34m(\u001b[0m\u001b[0mpg\u001b[0m\u001b[0;34m,\u001b[0m \u001b[0;34m'xml'\u001b[0m\u001b[0;34m)\u001b[0m\u001b[0;34m\u001b[0m\u001b[0m\n\u001b[0;32m----> 8\u001b[0;31m     \u001b[0mgm_list\u001b[0m \u001b[0;34m+=\u001b[0m \u001b[0;34m[\u001b[0m\u001b[0mextract_game_item\u001b[0m\u001b[0;34m(\u001b[0m\u001b[0mx\u001b[0m\u001b[0;34m)\u001b[0m \u001b[0;32mfor\u001b[0m \u001b[0mx\u001b[0m \u001b[0;32min\u001b[0m \u001b[0msoup\u001b[0m\u001b[0;34m.\u001b[0m\u001b[0mfind_all\u001b[0m\u001b[0;34m(\u001b[0m\u001b[0;34m'item'\u001b[0m\u001b[0;34m)\u001b[0m\u001b[0;34m]\u001b[0m\u001b[0;34m\u001b[0m\u001b[0m\n\u001b[0m\u001b[1;32m      9\u001b[0m     \u001b[0mdf\u001b[0m \u001b[0;34m=\u001b[0m \u001b[0mpd\u001b[0m\u001b[0;34m.\u001b[0m\u001b[0mDataFrame\u001b[0m\u001b[0;34m(\u001b[0m\u001b[0mgm_list\u001b[0m\u001b[0;34m)\u001b[0m\u001b[0;34m\u001b[0m\u001b[0m\n\u001b[1;32m     10\u001b[0m     \u001b[0;32mif\u001b[0m \u001b[0midx_start\u001b[0m \u001b[0;34m>\u001b[0m \u001b[0;36m0\u001b[0m\u001b[0;34m:\u001b[0m\u001b[0;34m\u001b[0m\u001b[0m\n",
      "\u001b[0;32m<ipython-input-184-82751f0949e2>\u001b[0m in \u001b[0;36mextract_game_item\u001b[0;34m(item)\u001b[0m\n\u001b[1;32m     12\u001b[0m             \u001b[0mgm_dict\u001b[0m\u001b[0;34m[\u001b[0m\u001b[0mi\u001b[0m\u001b[0;34m]\u001b[0m \u001b[0;34m=\u001b[0m \u001b[0;34m-\u001b[0m\u001b[0;36m1\u001b[0m\u001b[0;34m\u001b[0m\u001b[0m\n\u001b[1;32m     13\u001b[0m         \u001b[0;32melse\u001b[0m\u001b[0;34m:\u001b[0m\u001b[0;34m\u001b[0m\u001b[0m\n\u001b[0;32m---> 14\u001b[0;31m             \u001b[0mgm_dict\u001b[0m\u001b[0;34m[\u001b[0m\u001b[0mi\u001b[0m\u001b[0;34m]\u001b[0m \u001b[0;34m=\u001b[0m \u001b[0mint\u001b[0m\u001b[0;34m(\u001b[0m\u001b[0mfield_val\u001b[0m\u001b[0;34m[\u001b[0m\u001b[0;34m'value'\u001b[0m\u001b[0;34m]\u001b[0m\u001b[0;34m)\u001b[0m\u001b[0;34m\u001b[0m\u001b[0m\n\u001b[0m\u001b[1;32m     15\u001b[0m     \u001b[0;32mfor\u001b[0m \u001b[0mi\u001b[0m \u001b[0;32min\u001b[0m \u001b[0mfield_categ\u001b[0m\u001b[0;34m:\u001b[0m\u001b[0;34m\u001b[0m\u001b[0m\n\u001b[1;32m     16\u001b[0m         \u001b[0mgm_dict\u001b[0m\u001b[0;34m[\u001b[0m\u001b[0mi\u001b[0m\u001b[0;34m]\u001b[0m \u001b[0;34m=\u001b[0m \u001b[0;34m[\u001b[0m\u001b[0mx\u001b[0m\u001b[0;34m[\u001b[0m\u001b[0;34m'value'\u001b[0m\u001b[0;34m]\u001b[0m \u001b[0;32mfor\u001b[0m \u001b[0mx\u001b[0m \u001b[0;32min\u001b[0m \u001b[0mitem\u001b[0m\u001b[0;34m.\u001b[0m\u001b[0mfind_all\u001b[0m\u001b[0;34m(\u001b[0m\u001b[0;34m'link'\u001b[0m\u001b[0;34m,\u001b[0m\u001b[0;34m{\u001b[0m\u001b[0;34m'type'\u001b[0m\u001b[0;34m:\u001b[0m\u001b[0mi\u001b[0m\u001b[0;34m}\u001b[0m\u001b[0;34m)\u001b[0m\u001b[0;34m]\u001b[0m\u001b[0;34m\u001b[0m\u001b[0m\n",
      "\u001b[0;31mValueError\u001b[0m: invalid literal for int() with base 10: ''"
     ]
    }
   ],
   "source": [
    "gm_list = []\n",
    "idx_dist = 10**3\n",
    "idx_max = 10**5\n",
    "for idx_start in range(0,idx_max,idx_dist):    \n",
    "    idx = str(tuple(range(idx_start, idx_start+idx_dist))).replace(' ','')[1:-1]\n",
    "    pg = request.urlopen(f'{bs_pg_gm}{str(idx)}')\n",
    "    soup = BeautifulSoup(pg, 'xml')\n",
    "    gm_list += [extract_game_item(x) for x in soup.find_all('item')]\n",
    "    df = pd.DataFrame(gm_list)\n",
    "    if idx_start > 0:\n",
    "        copyfile('../data/all_game_data.csv','../data/all_game_data_backup.csv')\n",
    "    df.to_csv('../data/all_game_data.csv', index=False)\n",
    "    print(idx_start+idx_dist, len(gm_list), str(datetime.now().time())[:8])"
   ]
  },
  {
   "cell_type": "markdown",
   "metadata": {},
   "source": [
    "# Get the users and ratings for each game"
   ]
  },
  {
   "cell_type": "markdown",
   "metadata": {},
   "source": [
    "Order the games by the total number of comments and then group them togather in groups of 200"
   ]
  },
  {
   "cell_type": "code",
   "execution_count": 163,
   "metadata": {},
   "outputs": [],
   "source": [
    "id_by_num_of_rankings = df.loc[df.num_of_rankings.sort_values().index,'id'].astype(int).tolist()"
   ]
  },
  {
   "cell_type": "code",
   "execution_count": 122,
   "metadata": {},
   "outputs": [],
   "source": [
    "all_game_dict = {gm_id_lookup:gm_comment_dict}"
   ]
  },
  {
   "cell_type": "code",
   "execution_count": 126,
   "metadata": {},
   "outputs": [
    {
     "data": {
      "text/plain": [
       "10"
      ]
     },
     "execution_count": 126,
     "metadata": {},
     "output_type": "execute_result"
    }
   ],
   "source": [
    "len(all_game_dict)"
   ]
  },
  {
   "cell_type": "code",
   "execution_count": 182,
   "metadata": {},
   "outputs": [
    {
     "data": {
      "text/plain": [
       "752"
      ]
     },
     "execution_count": 182,
     "metadata": {},
     "output_type": "execute_result"
    }
   ],
   "source": [
    "df['num_of_rankings'].loc[df.id==str(id_by_num_of_rankings[idx_start+idx_dist])].iloc[0]"
   ]
  },
  {
   "cell_type": "code",
   "execution_count": 183,
   "metadata": {},
   "outputs": [
    {
     "data": {
      "text/plain": [
       "752"
      ]
     },
     "execution_count": 183,
     "metadata": {},
     "output_type": "execute_result"
    }
   ],
   "source": [
    "df.loc[df.id==str(id_by_num_of_rankings[idx_start+idx_dist]),'num_of_rankings'].iloc[0]"
   ]
  },
  {
   "cell_type": "code",
   "execution_count": 185,
   "metadata": {},
   "outputs": [
    {
     "data": {
      "text/plain": [
       "200"
      ]
     },
     "execution_count": 185,
     "metadata": {},
     "output_type": "execute_result"
    }
   ],
   "source": [
    "aa = csoup.find_all('comments')"
   ]
  },
  {
   "cell_type": "code",
   "execution_count": 205,
   "metadata": {},
   "outputs": [],
   "source": [
    "all_game_dict2 = {}"
   ]
  },
  {
   "cell_type": "code",
   "execution_count": null,
   "metadata": {},
   "outputs": [],
   "source": []
  },
  {
   "cell_type": "code",
   "execution_count": 206,
   "metadata": {
    "scrolled": true
   },
   "outputs": [
    {
     "data": {
      "text/plain": [
       "{'JohnCoveyou': '10',\n",
       " 'Jonas Thierry': '10',\n",
       " 'pmthompson': '10',\n",
       " 'Shleaky': '10',\n",
       " 'iafmars': '10',\n",
       " 'inmyeye': '10',\n",
       " 'ankara': '10',\n",
       " 'dfwgeek': '10',\n",
       " 'Flying Pip': '10',\n",
       " 'antilles2210': '10',\n",
       " 'Sekahedo': '10',\n",
       " 'PAND4RK': '10',\n",
       " 'Phil1221': '10',\n",
       " 'mountainfire': '10',\n",
       " 'Meepletopia': '10',\n",
       " 'JohnnyCrow17': '10',\n",
       " 'IntaglioDragon': '10',\n",
       " 'meberl': '10',\n",
       " 'leobpfb': '10',\n",
       " 'neidiana': '10',\n",
       " 'ironbuckeye': '10',\n",
       " 'JellyfishSilver': '10',\n",
       " 'ilgarrone': '10',\n",
       " 'Necrofear00': '10',\n",
       " 'ssj71': '10',\n",
       " 'adampudliner': '10',\n",
       " 'phurridog': '10',\n",
       " 'unlimitedgaming': '10',\n",
       " 'gdttek': '10',\n",
       " 'engrraf': '10',\n",
       " 'Tolkana': '9.8',\n",
       " 'Hetajeta': '9.75',\n",
       " 'MMats': '9',\n",
       " 'Balargon': '9',\n",
       " 'crucius': '9',\n",
       " 'MagiRev': '9',\n",
       " 'ChewyTKE609': '9',\n",
       " 'Mvalentino': '9',\n",
       " 'sgclouthier': '9',\n",
       " 'nsgocev': '9',\n",
       " 'ReverendGamer': '9',\n",
       " 'illy': '9',\n",
       " 'jeremyslayton': '9',\n",
       " 'joefling34': '9',\n",
       " 'Zelgadiss': '9',\n",
       " 'khari': '9',\n",
       " 'The Meeples Champ': '9',\n",
       " 'tehflash': '9',\n",
       " 'michael_witman': '9',\n",
       " 'Nico_RJ': '9',\n",
       " 'Ddlagarry': '9',\n",
       " 'CaptMilo': '9',\n",
       " 'tobywan': '9',\n",
       " 'Scullyveritas': '9',\n",
       " 'Palaeobiologist': '9',\n",
       " 'hchan33': '9',\n",
       " 'kawker': '9',\n",
       " 'Fitzchevalerie': '9',\n",
       " 'Doppelbock': '9',\n",
       " '4homunculi': '9',\n",
       " 'Pseudomonass': '9',\n",
       " 'herozer0': '9',\n",
       " 'Thrylos': '9',\n",
       " 'Androtopia': '9',\n",
       " 'RobyNico05': '9',\n",
       " 'gruenspan47': '9',\n",
       " 'knowcat': '9',\n",
       " 'Peasantserf': '9',\n",
       " 'Earthami': '9',\n",
       " 'bombermm': '9',\n",
       " 'thewheelman84': '9',\n",
       " 'Axelmango': '9',\n",
       " 'DannyCGaming': '9',\n",
       " 'AmazonWitchDoctor': '9',\n",
       " 'Captain Shagrat': '9',\n",
       " 'HammerHead1284': '9',\n",
       " 'houseofun': '9',\n",
       " 'Ashtala': '9',\n",
       " 'cutoutllama': '9',\n",
       " 'Ndureault': '9',\n",
       " 'NerwenGreen': '9',\n",
       " 'bluebomber74': '9',\n",
       " 'barbapere': '9',\n",
       " 'gg0027': '9',\n",
       " 'Bugaguy': '9',\n",
       " 'Bumgurgle': '9',\n",
       " 'tapanther': '9',\n",
       " 'Tuetenclown': '9',\n",
       " 'Najve': '9',\n",
       " 'seasnan': '9',\n",
       " 'tommcphee': '9',\n",
       " 'GedTheFlayer': '9',\n",
       " 'ggaiotto': '9',\n",
       " 'Ugogreevy': '9',\n",
       " 'sadartist': '9',\n",
       " 'Ultraspank35': '9',\n",
       " 'CzarGarrett': '9',\n",
       " 'mitTch': '8.9',\n",
       " 'great_bradini': '8.9',\n",
       " 'SpuDy': '8.7'}"
      ]
     },
     "execution_count": 206,
     "metadata": {},
     "output_type": "execute_result"
    }
   ],
   "source": [
    "{x['username']:x['rating'] for x in item.find_all('comment')}"
   ]
  },
  {
   "cell_type": "code",
   "execution_count": 220,
   "metadata": {},
   "outputs": [
    {
     "data": {
      "text/plain": [
       "752"
      ]
     },
     "execution_count": 220,
     "metadata": {},
     "output_type": "execute_result"
    }
   ],
   "source": [
    "comments_total"
   ]
  },
  {
   "cell_type": "code",
   "execution_count": null,
   "metadata": {},
   "outputs": [
    {
     "name": "stdout",
     "output_type": "stream",
     "text": [
      "0 23:00:00\n",
      "200 23:00:20\n",
      "400 23:02:41\n",
      "600 23:06:06\n",
      "800 23:10:30\n"
     ]
    }
   ],
   "source": [
    "bs_comments = 'https://www.boardgamegeek.com/xmlapi2/thing?ratingcomments=1&' \n",
    "idx_dist = 200\n",
    "for idx_start in range(0,len(id_by_num_of_rankings),idx_dist):\n",
    "    print(idx_start, str(datetime.now().time())[:8])\n",
    "    idx = str(id_by_num_of_rankings[idx_start:idx_start+idx_dist]).replace(' ','')[1:-1]\n",
    "    pg_ct = 1\n",
    "    comments_total = df.loc[df.id==str(id_by_num_of_rankings[idx_start+idx_dist]),'num_of_rankings'].iloc[0]\n",
    "    pg = request.urlopen(f'{bs_comments}id={idx}&page={pg_ct}')\n",
    "    csoup = BeautifulSoup(pg, 'xml')\n",
    "    for idx2, item in enumerate(csoup.find_all('comments')):\n",
    "        all_game_dict[id_by_num_of_rankings[idx_start+idx2]] = {x['username']:x['rating'] for x in item.find_all('comment')}\n",
    "    while pg_ct*100 < comments_total:\n",
    "        pg_ct += 1\n",
    "        pg = request.urlopen(f'{bs_comments}id={idx}&page={pg_ct}')\n",
    "        csoup = BeautifulSoup(pg, 'xml')\n",
    "        for idx2, item in enumerate(csoup.find_all('comments')):\n",
    "            dict_loc = id_by_num_of_rankings[idx_start+idx2]\n",
    "            if item.find_all('comment') is not None:\n",
    "                all_game_dict[dict_loc].update({x['username']:x['rating'] for x in item.find_all('comment')})\n",
    "    with open('../data/all_game_dict_v2.json', 'w') as fp:\n",
    "        json.dump(all_game_dict, fp)    "
   ]
  },
  {
   "cell_type": "code",
   "execution_count": 224,
   "metadata": {},
   "outputs": [
    {
     "data": {
      "text/plain": [
       "[237,\n",
       " 302,\n",
       " 343,\n",
       " 346,\n",
       " 351,\n",
       " 354,\n",
       " 352,\n",
       " 360,\n",
       " 361,\n",
       " 378,\n",
       " 375,\n",
       " 379,\n",
       " 388,\n",
       " 392,\n",
       " 393,\n",
       " 398,\n",
       " 398,\n",
       " 398,\n",
       " 398,\n",
       " 403,\n",
       " 413,\n",
       " 423,\n",
       " 424,\n",
       " 428,\n",
       " 427,\n",
       " 429,\n",
       " 429,\n",
       " 429,\n",
       " 432,\n",
       " 433,\n",
       " 435,\n",
       " 433,\n",
       " 438,\n",
       " 437,\n",
       " 438,\n",
       " 443,\n",
       " 446,\n",
       " 449,\n",
       " 451,\n",
       " 455,\n",
       " 450,\n",
       " 460,\n",
       " 462,\n",
       " 464,\n",
       " 464,\n",
       " 468,\n",
       " 473,\n",
       " 473,\n",
       " 475,\n",
       " 476,\n",
       " 479,\n",
       " 471,\n",
       " 476,\n",
       " 481,\n",
       " 479,\n",
       " 489,\n",
       " 487,\n",
       " 494,\n",
       " 494,\n",
       " 497,\n",
       " 496,\n",
       " 499,\n",
       " 501,\n",
       " 498,\n",
       " 511,\n",
       " 518,\n",
       " 518,\n",
       " 518,\n",
       " 520,\n",
       " 525,\n",
       " 530,\n",
       " 533,\n",
       " 532,\n",
       " 531,\n",
       " 537,\n",
       " 537,\n",
       " 532,\n",
       " 540,\n",
       " 540,\n",
       " 542,\n",
       " 536,\n",
       " 545,\n",
       " 547,\n",
       " 552,\n",
       " 553,\n",
       " 548,\n",
       " 556,\n",
       " 559,\n",
       " 538,\n",
       " 565,\n",
       " 564,\n",
       " 562,\n",
       " 566,\n",
       " 561,\n",
       " 567,\n",
       " 561,\n",
       " 568,\n",
       " 568,\n",
       " 574,\n",
       " 575,\n",
       " 574,\n",
       " 576,\n",
       " 574,\n",
       " 585,\n",
       " 585,\n",
       " 588,\n",
       " 591,\n",
       " 590,\n",
       " 590,\n",
       " 597,\n",
       " 594,\n",
       " 597,\n",
       " 599,\n",
       " 602,\n",
       " 602,\n",
       " 606,\n",
       " 604,\n",
       " 605,\n",
       " 608,\n",
       " 599,\n",
       " 612,\n",
       " 621,\n",
       " 621,\n",
       " 624,\n",
       " 624,\n",
       " 622,\n",
       " 625,\n",
       " 627,\n",
       " 615,\n",
       " 626,\n",
       " 627,\n",
       " 630,\n",
       " 630,\n",
       " 632,\n",
       " 630,\n",
       " 633,\n",
       " 631,\n",
       " 630,\n",
       " 638,\n",
       " 636,\n",
       " 640,\n",
       " 639,\n",
       " 636,\n",
       " 643,\n",
       " 641,\n",
       " 651,\n",
       " 651,\n",
       " 654,\n",
       " 654,\n",
       " 655,\n",
       " 655,\n",
       " 648,\n",
       " 660,\n",
       " 658,\n",
       " 656,\n",
       " 663,\n",
       " 668,\n",
       " 671,\n",
       " 672,\n",
       " 672,\n",
       " 675,\n",
       " 676,\n",
       " 673,\n",
       " 676,\n",
       " 680,\n",
       " 686,\n",
       " 687,\n",
       " 689,\n",
       " 698,\n",
       " 698,\n",
       " 698,\n",
       " 694,\n",
       " 698,\n",
       " 701,\n",
       " 703,\n",
       " 705,\n",
       " 705,\n",
       " 706,\n",
       " 706,\n",
       " 706,\n",
       " 713,\n",
       " 713,\n",
       " 717,\n",
       " 721,\n",
       " 725,\n",
       " 726,\n",
       " 736,\n",
       " 734,\n",
       " 738,\n",
       " 738,\n",
       " 737,\n",
       " 739,\n",
       " 742,\n",
       " 742,\n",
       " 736,\n",
       " 744,\n",
       " 744,\n",
       " 747,\n",
       " 743,\n",
       " 751]"
      ]
     },
     "execution_count": 224,
     "metadata": {},
     "output_type": "execute_result"
    }
   ],
   "source": [
    "[len(all_game_dict2[x]) for x in all_game_dict2.keys()]"
   ]
  },
  {
   "cell_type": "code",
   "execution_count": 215,
   "metadata": {},
   "outputs": [],
   "source": [
    "all_game_dict2[dict_loc].update({})"
   ]
  },
  {
   "cell_type": "code",
   "execution_count": 213,
   "metadata": {},
   "outputs": [
    {
     "data": {
      "text/plain": [
       "dict_keys([63170])"
      ]
     },
     "execution_count": 213,
     "metadata": {},
     "output_type": "execute_result"
    }
   ],
   "source": [
    "all_game_dict2.keys()"
   ]
  },
  {
   "cell_type": "code",
   "execution_count": 219,
   "metadata": {},
   "outputs": [
    {
     "data": {
      "text/plain": [
       "198"
      ]
     },
     "execution_count": 219,
     "metadata": {},
     "output_type": "execute_result"
    }
   ],
   "source": [
    "len(all_game_dict2[63170])"
   ]
  },
  {
   "cell_type": "code",
   "execution_count": 128,
   "metadata": {
    "scrolled": true
   },
   "outputs": [
    {
     "name": "stdout",
     "output_type": "stream",
     "text": [
      "182028 10 20:17:50\n",
      "182028 20 20:18:13\n",
      "182028 30 20:18:35\n",
      "182028 40 20:19:00\n",
      "182028 50 20:19:24\n",
      "182028 60 20:19:49\n",
      "182028 70 20:20:13\n",
      "182028 80 20:20:38\n",
      "182028 90 20:21:02\n",
      "182028 100 20:21:27\n",
      "182028 110 20:21:51\n",
      "182028 120 20:22:15\n",
      "182028 130 20:22:40\n",
      "167791 10 20:23:19\n",
      "167791 20 20:23:45\n",
      "167791 30 20:24:12\n",
      "167791 40 20:24:38\n",
      "167791 50 20:25:04\n",
      "167791 60 20:25:31\n",
      "167791 70 20:25:57\n",
      "167791 80 20:26:23\n",
      "167791 90 20:26:50\n",
      "167791 100 20:27:16\n",
      "167791 110 20:27:42\n",
      "167791 120 20:28:08\n",
      "167791 130 20:28:34\n",
      "167791 140 20:29:01\n",
      "167791 150 20:29:27\n",
      "167791 160 20:29:53\n",
      "167791 170 20:30:20\n",
      "167791 180 20:30:47\n",
      "167791 190 20:31:13\n",
      "167791 200 20:31:39\n",
      "167791 210 20:32:05\n",
      "167791 220 20:32:32\n",
      "167791 230 20:32:58\n",
      "167791 240 20:33:25\n",
      "167791 250 20:33:51\n",
      "167791 260 20:34:17\n",
      "167791 270 20:34:43\n",
      "167791 280 20:35:09\n",
      "167791 290 20:35:32\n",
      "167791 300 20:35:54\n",
      "12333 10 20:36:26\n",
      "12333 20 20:36:53\n",
      "12333 30 20:37:19\n",
      "12333 40 20:37:45\n",
      "12333 50 20:38:12\n",
      "12333 60 20:38:39\n",
      "12333 70 20:39:05\n",
      "12333 80 20:39:32\n",
      "12333 90 20:39:58\n",
      "12333 100 20:40:25\n",
      "12333 110 20:40:51\n",
      "12333 120 20:41:18\n",
      "12333 130 20:41:44\n",
      "12333 140 20:42:11\n",
      "12333 150 20:42:37\n",
      "12333 160 20:43:04\n",
      "12333 170 20:43:30\n",
      "12333 180 20:43:57\n",
      "12333 190 20:44:23\n",
      "12333 200 20:44:50\n",
      "12333 210 20:45:16\n",
      "12333 220 20:45:43\n",
      "12333 230 20:46:10\n",
      "12333 240 20:46:36\n",
      "12333 250 20:47:03\n",
      "12333 260 20:47:29\n",
      "12333 270 20:47:56\n",
      "12333 280 20:48:22\n",
      "12333 290 20:48:48\n",
      "12333 300 20:49:14\n",
      "12333 310 20:49:38\n",
      "12333 320 20:50:00\n",
      "187645 10 20:50:39\n",
      "187645 20 20:51:03\n",
      "187645 30 20:51:28\n",
      "187645 40 20:51:52\n",
      "187645 50 20:52:17\n",
      "187645 60 20:52:42\n",
      "187645 70 20:53:06\n",
      "187645 80 20:53:30\n",
      "187645 90 20:53:55\n",
      "187645 100 20:54:19\n",
      "187645 110 20:54:44\n",
      "187645 120 20:55:08\n",
      "187645 130 20:55:33\n",
      "187645 140 20:55:57\n",
      "169786 10 20:56:33\n",
      "169786 20 20:56:55\n",
      "169786 30 20:57:20\n",
      "169786 40 20:57:46\n",
      "169786 50 20:58:13\n",
      "169786 60 20:58:39\n",
      "169786 70 20:59:05\n",
      "169786 80 20:59:41\n",
      "169786 90 21:00:07\n",
      "169786 100 21:00:34\n",
      "169786 110 21:01:01\n",
      "169786 120 21:01:28\n",
      "169786 130 21:01:55\n",
      "169786 140 21:02:22\n",
      "169786 150 21:02:48\n",
      "169786 160 21:03:15\n",
      "169786 170 21:03:41\n",
      "169786 180 21:04:08\n",
      "169786 190 21:04:35\n",
      "169786 200 21:05:02\n",
      "169786 210 21:05:29\n",
      "169786 220 21:05:56\n",
      "169786 230 21:06:23\n",
      "169786 240 21:06:50\n",
      "169786 250 21:07:17\n",
      "169786 260 21:07:43\n",
      "169786 270 21:08:10\n",
      "169786 280 21:08:36\n",
      "169786 290 21:09:03\n",
      "169786 300 21:09:30\n",
      "169786 310 21:09:57\n",
      "169786 320 21:10:24\n",
      "220308 10 21:11:04\n",
      "220308 20 21:11:28\n",
      "220308 30 21:11:51\n",
      "220308 40 21:12:15\n",
      "220308 50 21:12:39\n",
      "220308 60 21:13:02\n",
      "120677 10 21:13:39\n",
      "120677 20 21:14:05\n",
      "120677 30 21:14:31\n",
      "120677 40 21:14:57\n",
      "120677 50 21:15:24\n",
      "120677 60 21:15:50\n",
      "120677 70 21:16:17\n",
      "120677 80 21:16:44\n",
      "120677 90 21:17:10\n",
      "120677 100 21:17:36\n",
      "120677 110 21:18:02\n",
      "120677 120 21:18:29\n",
      "120677 130 21:18:55\n",
      "120677 140 21:19:22\n",
      "120677 150 21:19:48\n",
      "120677 160 21:20:14\n",
      "120677 170 21:20:41\n",
      "120677 180 21:21:07\n",
      "120677 190 21:21:34\n",
      "120677 200 21:22:00\n",
      "120677 210 21:22:26\n",
      "120677 220 21:22:52\n",
      "120677 230 21:23:18\n",
      "120677 240 21:23:44\n",
      "120677 250 21:24:10\n",
      "120677 260 21:24:36\n",
      "120677 270 21:25:02\n",
      "120677 280 21:25:28\n",
      "120677 290 21:25:54\n",
      "120677 300 21:26:20\n",
      "193738 10 21:26:59\n",
      "193738 20 21:27:23\n",
      "193738 30 21:27:47\n",
      "193738 40 21:28:12\n",
      "193738 50 21:28:37\n",
      "193738 60 21:29:01\n",
      "193738 70 21:29:26\n",
      "193738 80 21:29:50\n",
      "193738 90 21:30:15\n",
      "193738 100 21:30:40\n",
      "193738 110 21:31:04\n",
      "193738 120 21:31:29\n",
      "193738 130 21:31:53\n",
      "193738 140 21:32:18\n",
      "193738 150 21:32:43\n"
     ]
    }
   ],
   "source": [
    "bs_comments = 'https://www.boardgamegeek.com/xmlapi2/thing?ratingcomments=1&' \n",
    "\n",
    "# gm_id_lookup = gm_ids[0]\n",
    "for gm_id_lookup in gm_ids[2:10]:\n",
    "    pg_ct = 1\n",
    "    pg = request.urlopen(f'{bs_comments}id={gm_id_lookup}&page={pg_ct}')\n",
    "    csoup = BeautifulSoup(pg, 'xml')\n",
    "    comments_total = int(csoup.find('comments')['totalitems'])\n",
    "    gm_comment_dict = {x['username']:x['rating'] for x in csoup.find_all('comment')}\n",
    "    while pg_ct*100 < comments_total:\n",
    "        pg_ct += 1\n",
    "        pg = request.urlopen(f'{bs_comments}id={gm_id_lookup}&page={pg_ct}')\n",
    "        csoup = BeautifulSoup(pg, 'xml')\n",
    "        gm_comment_dict.update({x['username']:x['rating'] for x in csoup.find_all('comment')})\n",
    "        time.sleep(2)\n",
    "        if pg_ct*100%10**3 == 0:\n",
    "            print(gm_id_lookup, pg_ct, str(datetime.now().time())[:8])\n",
    "    all_game_dict[gm_id_lookup] = gm_comment_dict"
   ]
  },
  {
   "cell_type": "code",
   "execution_count": 166,
   "metadata": {},
   "outputs": [],
   "source": [
    "with open('../data/all_game_dict.json', 'w') as fp:\n",
    "    json.dump(all_game_dict, fp)"
   ]
  },
  {
   "cell_type": "code",
   "execution_count": 103,
   "metadata": {},
   "outputs": [],
   "source": [
    "pg = request.urlopen(f'{bs_comments}id={gm_id_lookup}&page={str(pg_ct)}')\n",
    "csoup = BeautifulSoup(pg, 'xml')"
   ]
  },
  {
   "cell_type": "code",
   "execution_count": 105,
   "metadata": {},
   "outputs": [
    {
     "data": {
      "text/plain": [
       "'https://www.boardgamegeek.com/xmlapi2/thing?ratingcomments=1&id=174430&pg=2'"
      ]
     },
     "execution_count": 105,
     "metadata": {},
     "output_type": "execute_result"
    }
   ],
   "source": [
    "f'{bs_comments}id={gm_id_lookup}&pg={str(pg_ct)}'"
   ]
  },
  {
   "cell_type": "code",
   "execution_count": 104,
   "metadata": {},
   "outputs": [
    {
     "data": {
      "text/plain": [
       "<?xml version=\"1.0\" encoding=\"utf-8\"?>\n",
       "<items termsofuse=\"https://boardgamegeek.com/xmlapi/termsofuse\"><item id=\"174430\" type=\"boardgame\">\n",
       "<thumbnail>https://cf.geekdo-images.com/thumb/img/e7GyV4PaNtwmalU-EQAGecwoBSI=/fit-in/200x150/pic2437871.jpg</thumbnail>\n",
       "<image>https://cf.geekdo-images.com/original/img/lDN358RgcYvQfYYN6Oy2TXpifyM=/0x0/pic2437871.jpg</image>\n",
       "<name sortindex=\"1\" type=\"primary\" value=\"Gloomhaven\"/>\n",
       "<name sortindex=\"1\" type=\"alternate\" value=\"幽城迷港\"/>\n",
       "<description>Gloomhaven  is a game of Euro-inspired tactical combat in a persistent world of shifting motives. Players will take on the role of a wandering adventurer with their own special set of skills and their own reasons for traveling to this dark corner of the world. Players must work together out of necessity to clear out menacing dungeons and forgotten ruins. In the process, they will enhance their abilities with experience and loot, discover new locations to explore and plunder, and expand an ever-branching story fueled by the decisions they make.&amp;#10;&amp;#10;This is a game with a persistent and changing world that is ideally played over many game sessions. After a scenario, players will make decisions on what to do, which will determine how the story continues, kind of like a &amp;ldquo;Choose Your Own Adventure&amp;rdquo; book. Playing through a scenario is a cooperative affair where players will fight against automated monsters using an innovative card system to determine the order of play and what a player does on their turn.&amp;#10;&amp;#10;Each turn, a player chooses two cards to play out of their hand. The number on the top card determines their initiative for the round. Each card also has a top and bottom power, and when it is a player&amp;rsquo;s turn in the initiative order, they determine whether to use the top power of one card and the bottom power of the other, or vice-versa. Players must be careful, though, because over time they will permanently lose cards from their hands. If they take too long to clear a dungeon, they may end up exhausted and be forced to retreat.&amp;#10;&amp;#10;</description>\n",
       "<yearpublished value=\"2017\"/>\n",
       "<minplayers value=\"1\"/>\n",
       "<maxplayers value=\"4\"/>\n",
       "<poll name=\"suggested_numplayers\" title=\"User Suggested Number of Players\" totalvotes=\"524\">\n",
       "<results numplayers=\"1\">\n",
       "<result numvotes=\"61\" value=\"Best\"/>\n",
       "<result numvotes=\"227\" value=\"Recommended\"/>\n",
       "<result numvotes=\"106\" value=\"Not Recommended\"/>\n",
       "</results>\n",
       "<results numplayers=\"2\">\n",
       "<result numvotes=\"121\" value=\"Best\"/>\n",
       "<result numvotes=\"292\" value=\"Recommended\"/>\n",
       "<result numvotes=\"33\" value=\"Not Recommended\"/>\n",
       "</results>\n",
       "<results numplayers=\"3\">\n",
       "<result numvotes=\"252\" value=\"Best\"/>\n",
       "<result numvotes=\"179\" value=\"Recommended\"/>\n",
       "<result numvotes=\"10\" value=\"Not Recommended\"/>\n",
       "</results>\n",
       "<results numplayers=\"4\">\n",
       "<result numvotes=\"176\" value=\"Best\"/>\n",
       "<result numvotes=\"213\" value=\"Recommended\"/>\n",
       "<result numvotes=\"42\" value=\"Not Recommended\"/>\n",
       "</results>\n",
       "<results numplayers=\"4+\">\n",
       "<result numvotes=\"2\" value=\"Best\"/>\n",
       "<result numvotes=\"19\" value=\"Recommended\"/>\n",
       "<result numvotes=\"279\" value=\"Not Recommended\"/>\n",
       "</results>\n",
       "</poll>\n",
       "<playingtime value=\"120\"/>\n",
       "<minplaytime value=\"60\"/>\n",
       "<maxplaytime value=\"120\"/>\n",
       "<minage value=\"12\"/>\n",
       "<poll name=\"suggested_playerage\" title=\"User Suggested Player Age\" totalvotes=\"133\">\n",
       "<results>\n",
       "<result numvotes=\"2\" value=\"2\"/>\n",
       "<result numvotes=\"0\" value=\"3\"/>\n",
       "<result numvotes=\"0\" value=\"4\"/>\n",
       "<result numvotes=\"0\" value=\"5\"/>\n",
       "<result numvotes=\"0\" value=\"6\"/>\n",
       "<result numvotes=\"3\" value=\"8\"/>\n",
       "<result numvotes=\"22\" value=\"10\"/>\n",
       "<result numvotes=\"37\" value=\"12\"/>\n",
       "<result numvotes=\"59\" value=\"14\"/>\n",
       "<result numvotes=\"7\" value=\"16\"/>\n",
       "<result numvotes=\"1\" value=\"18\"/>\n",
       "<result numvotes=\"2\" value=\"21 and up\"/>\n",
       "</results>\n",
       "</poll>\n",
       "<poll name=\"language_dependence\" title=\"Language Dependence\" totalvotes=\"29\">\n",
       "<results>\n",
       "<result level=\"1\" numvotes=\"0\" value=\"No necessary in-game text\"/>\n",
       "<result level=\"2\" numvotes=\"0\" value=\"Some necessary text - easily memorized or small crib sheet\"/>\n",
       "<result level=\"3\" numvotes=\"2\" value=\"Moderate in-game text - needs crib sheet or paste ups\"/>\n",
       "<result level=\"4\" numvotes=\"23\" value=\"Extensive use of text - massive conversion needed to be playable\"/>\n",
       "<result level=\"5\" numvotes=\"4\" value=\"Unplayable in another language\"/>\n",
       "</results>\n",
       "</poll>\n",
       "<link id=\"1022\" type=\"boardgamecategory\" value=\"Adventure\"/>\n",
       "<link id=\"1020\" type=\"boardgamecategory\" value=\"Exploration\"/>\n",
       "<link id=\"1010\" type=\"boardgamecategory\" value=\"Fantasy\"/>\n",
       "<link id=\"1046\" type=\"boardgamecategory\" value=\"Fighting\"/>\n",
       "<link id=\"1047\" type=\"boardgamecategory\" value=\"Miniatures\"/>\n",
       "<link id=\"2018\" type=\"boardgamemechanic\" value=\"Campaign / Battle Card Driven\"/>\n",
       "<link id=\"2023\" type=\"boardgamemechanic\" value=\"Cooperative Play\"/>\n",
       "<link id=\"2676\" type=\"boardgamemechanic\" value=\"Grid Movement\"/>\n",
       "<link id=\"2040\" type=\"boardgamemechanic\" value=\"Hand Management\"/>\n",
       "<link id=\"2011\" type=\"boardgamemechanic\" value=\"Modular Board\"/>\n",
       "<link id=\"2028\" type=\"boardgamemechanic\" value=\"Role Playing\"/>\n",
       "<link id=\"2020\" type=\"boardgamemechanic\" value=\"Simultaneous Action Selection\"/>\n",
       "<link id=\"2027\" type=\"boardgamemechanic\" value=\"Storytelling\"/>\n",
       "<link id=\"2015\" type=\"boardgamemechanic\" value=\"Variable Player Powers\"/>\n",
       "<link id=\"24281\" type=\"boardgamefamily\" value=\"Campaign Games\"/>\n",
       "<link id=\"25158\" type=\"boardgamefamily\" value=\"Components: Miniatures\"/>\n",
       "<link id=\"8374\" type=\"boardgamefamily\" value=\"Crowdfunding: Kickstarter\"/>\n",
       "<link id=\"45610\" type=\"boardgamefamily\" value=\"Gloomhaven Universe\"/>\n",
       "<link id=\"25404\" type=\"boardgamefamily\" value=\"Legacy\"/>\n",
       "<link id=\"5666\" type=\"boardgamefamily\" value=\"Solitaire Games\"/>\n",
       "<link id=\"250337\" type=\"boardgameexpansion\" value=\"Gloomhaven: Forgotten Circles\"/>\n",
       "<link id=\"226868\" type=\"boardgameexpansion\" value=\"Gloomhaven: Solo Scenarios\"/>\n",
       "<link id=\"231934\" type=\"boardgameexpansion\" value=\"Gloomhaven: The End of the World (Promo Scenario)\"/>\n",
       "<link id=\"69802\" type=\"boardgamedesigner\" value=\"Isaac Childres\"/>\n",
       "<link id=\"77084\" type=\"boardgameartist\" value=\"Alexandr Elichev\"/>\n",
       "<link id=\"78961\" type=\"boardgameartist\" value=\"Josh T. McDowell\"/>\n",
       "<link id=\"84269\" type=\"boardgameartist\" value=\"Alvaro Nebot\"/>\n",
       "<link id=\"27425\" type=\"boardgamepublisher\" value=\"Cephalofair Games\"/>\n",
       "<link id=\"4304\" type=\"boardgamepublisher\" value=\"Albi\"/>\n",
       "<link id=\"22380\" type=\"boardgamepublisher\" value=\"Feuerland Spiele\"/>\n",
       "<link id=\"18852\" type=\"boardgamepublisher\" value=\"Hobby World\"/>\n",
       "<comments page=\"1\" totalitems=\"18873\">\n",
       "<comment rating=\"10\" username=\"clarkkent22\" value=\"\"/>\n",
       "<comment rating=\"10\" username=\"Garroc\" value=\"Kickstarter\"/>\n",
       "<comment rating=\"10\" username=\"Neva Kee\" value=\"\"/>\n",
       "<comment rating=\"10\" username=\"Chris Coyote\" value=\"Awesome. By far the best dungeon crawler I have played yet, with an ingenious legacy system on top. Highly recommended.\"/>\n",
       "<comment rating=\"10\" username=\"Beaushek\" value=\"If you know and want what you're getting, you'll be thrilled.  The game is big, stressful, and interesting.  The value is, of course, huge.  I see two issues with the game.  The rulebook is very big and you'll need your own storage solution.  Normally, I'll dock part of a point because of issues like that, but this might be my favorite game of all time.  I'm not docking points for needing to use a Plano box, when this game has occupied all of my thoughts.  It's excellent.\"/>\n",
       "<comment rating=\"10\" username=\"ravenpolar\" value=\"\"/>\n",
       "<comment rating=\"10\" username=\"brenmcgovern\" value=\"\"/>\n",
       "<comment rating=\"10\" username=\"grovermerc\" value=\"\"/>\n",
       "<comment rating=\"10\" username=\"Ronnyknox\" value=\"\"/>\n",
       "<comment rating=\"10\" username=\"webs05\" value=\"\"/>\n",
       "<comment rating=\"10\" username=\"Iguloy\" value=\"Kickstarted. Standee version.  WOW. I can't emphasize enough how amazing this game is. Best game of 2017 for me, hands down. This is like a dream come true, I couldn't have asked for better. If you like Legacy games and dungeon crawls... please make yourself a gift and get this. You cannot not play this!  #1 BEST Dungeon crawl #1 BEST Legacy game #1 BEST Cooperative game  Also one of my SO's favorite games.  Update after 25 plays : I have now played 25 games of Gloomhaven on normal mode (23W-2L) in 3 weeks and I still can't wait to play some more. I haven't played a single other board game since I joined this amazing world. I prefer it with 2 or 3 players. With 4 it's a bit too long (I've played 1 game, but the scenario was pretty long also) but I'd need to try it again just to be sure.  Update after ending the main story: We have now returned to playing other games as there is less addiction to unlock stuff and since we &quot;finished&quot; the game. But boy this was the only thing we could get ourselves to play in 2-3 months. We played over 80 hours I'm pretty sure and we were playing mostly 2-player. This game has a lot to unravel. But for some reason when the campaign was finished we completely stopped. I must say the last two characters we unlocked and played were support characters and the combination in a 2-player game was less interesting. Waiting for an expansion!\"/>\n",
       "<comment rating=\"10\" username=\"Slyght\" value=\"\"/>\n",
       "<comment rating=\"10\" username=\"Leonce\" value=\"\"/>\n",
       "<comment rating=\"10\" username=\"Wretched Git\" value=\"\"/>\n",
       "<comment rating=\"10\" username=\"rlphay\" value=\"After play testing this game early in the development I can say that it has come a long way and well worth getting. There is high replay value in this game and endless adventures that make it worth every penny spent. And the unique gameplay is unlike anything out there so you will not be playing the different version of some other game.\"/>\n",
       "<comment rating=\"10\" username=\"testicleez\" value=\"\"/>\n",
       "<comment rating=\"10\" username=\"crwills\" value=\"Kickstarted\"/>\n",
       "<comment rating=\"10\" username=\"WeeGee\" value=\"Very fun game but I found it too difficult with two characters. Don't have the table space to do 3 characters. \"/>\n",
       "<comment rating=\"10\" username=\"Azil3\" value=\"\"/>\n",
       "<comment rating=\"10\" username=\"robbin 1\" value=\"NR. 1!!!\"/>\n",
       "<comment rating=\"10\" username=\"mcscowl\" value=\"One of my absolute favorite games. Not saying this as the graphic designer, but as a gamer.\"/>\n",
       "<comment rating=\"10\" username=\"kittenhoarder\" value=\"\"/>\n",
       "<comment rating=\"10\" username=\"Kitarja\" value=\"\"/>\n",
       "<comment rating=\"10\" username=\"Shampoo4you\" value=\"\"/>\n",
       "<comment rating=\"10\" username=\"Blood Demon\" value=\"\"/>\n",
       "<comment rating=\"10\" username=\"stevelabny\" value=\"\"/>\n",
       "<comment rating=\"10\" username=\"vardamir\" value=\"Damn, I love this game (So much). Coop wasn't my cup of tea, but this one is an exception. I love how players plan their turns, initiative orders, hand management, character progressions, enemy AI, the campaign and story line, the theme and illustrations, various characters with different play styles, retirement and deck building element in the game. Definitely beats Eclipse from the throne.\"/>\n",
       "<comment rating=\"10\" username=\"Aspudde\" value=\"2017\"/>\n",
       "<comment rating=\"10\" username=\"Zottelmonster\" value=\"\"/>\n",
       "<comment rating=\"10\" username=\"gimmster\" value=\"\"/>\n",
       "<comment rating=\"10\" username=\"Clinton\" value=\"\"/>\n",
       "<comment rating=\"10\" username=\"nadurgin\" value=\"Wow, amazing game!  The combat system is the best I have seen yet in a game of this type!\"/>\n",
       "<comment rating=\"10\" username=\"mergryphon\" value=\"\"/>\n",
       "<comment rating=\"10\" username=\"darcypennell\" value=\"\"/>\n",
       "<comment rating=\"10\" username=\"snorman\" value=\"\"/>\n",
       "<comment rating=\"10\" username=\"LouisDavid\" value=\"- NOT RECEIVED for what it is, and what it does, this game has to be a 10 \"/>\n",
       "<comment rating=\"10\" username=\"Quotho\" value=\"\"/>\n",
       "<comment rating=\"10\" username=\"davidcoleman\" value=\"Most played group game. I plan to play it solo after the group is finished using a printed off map, and perhaps doing things differently. \"/>\n",
       "<comment rating=\"10\" username=\"camidon\" value=\"Fantastic card-based dungeon-crawl campaign game. Isaac Childres has crafted what so many gamers have been looking for: a true fantasy campaign system. There's story. There's character progression. The world is alive. Skirting a 10 rating.  Yes there are some &quot;legacy&quot; elements, but I'll gladly replay this again just with the minor permanent alterations\"/>\n",
       "<comment rating=\"10\" username=\"repairmanjack\" value=\"\"/>\n",
       "<comment rating=\"10\" username=\"benjamininja\" value=\"\"/>\n",
       "<comment rating=\"10\" username=\"jamarre2\" value=\"\"/>\n",
       "<comment rating=\"10\" username=\"tilde72\" value=\"It is an amazing achievement for one person to design and develop a game like this. It truly is 'Skyrim in a box' - a great story development mixed with sophisticated dungeon crawler tactics. My only 10 besides Mage Knight at the moment. \"/>\n",
       "<comment rating=\"10\" username=\"bwarner34\" value=\"Best dungeon crawler I've played, both in terms of storyline and in terms of the gameplay. The amount of content is incredible.\"/>\n",
       "<comment rating=\"10\" username=\"olafpkyou\" value=\"\"/>\n",
       "<comment rating=\"10\" username=\"thesumo5\" value=\"I may change this rating after more plays (but not by much), but this is about as perfect for me as a game gets.  I don't do a lot of 10s, this is a gem.\"/>\n",
       "<comment rating=\"10\" username=\"Tarkan\" value=\"\"/>\n",
       "<comment rating=\"10\" username=\"Electric421\" value=\"\"/>\n",
       "<comment rating=\"10\" username=\"Husky Seahawk\" value=\"The more I have played this game the more I seem to like it. The hand management makes the dungeon crawling and combat tense and satisfying. The character customization is excellent with tons of equipment, lots of cards to build your hand, and ways to adjust your combat deck. Battle goals provide variability to every scenario, and the career goals give you a sense of purpose. Since starting this campaign, I have spent every single day thinking about playing the next scenario.\"/>\n",
       "<comment rating=\"10\" username=\"Vinnalott\" value=\"\"/>\n",
       "<comment rating=\"10\" username=\"chemicalroman\" value=\"Febrero 2017\"/>\n",
       "<comment rating=\"10\" username=\"adjacentbeastman\" value=\"\"/>\n",
       "<comment rating=\"10\" username=\"geobaldi5\" value=\"*Kickstarter Edition*  I'm going to go ahead and call it right now.  I feel this will be the top game of the year for 2017.  As of this note, four campaign missions have been played and the game is just getting better and better as you progress through it.  Really looking forward to seeing how the world, story, and characters flesh out over the massive campaign.\"/>\n",
       "<comment rating=\"10\" username=\"Firetracker\" value=\"\"/>\n",
       "<comment rating=\"10\" username=\"Sassycat\" value=\"Absolutely ludicrous amount of content in the box, branching storyline, amazingly unique combat system, fascinatingly different classes, exciting and challenging sense of progression and a fantasy world that shies away from traditional tropes and strikes off on its own path.  Probably most telling of all, I have thought about this game every day since my first playthrough. I cannnot wait to play it again and again. Easy GotY contender, highly deserving of a 10 and I just love it.\"/>\n",
       "<comment rating=\"10\" username=\"MountainRoot\" value=\"\"/>\n",
       "<comment rating=\"10\" username=\"dpbernath\" value=\"Backed on Kickstarter May well be my favorite game of all time 2018\"/>\n",
       "<comment rating=\"10\" username=\"Kyellan\" value=\"Gloomhaven has almost entirely consumed my gaming time. Its gameplay definitely favors its Eurogame roots, but it offers RPG growth/customization, story, and legacy consequences. There are many important decisions, both tactical and strategic. Four-player sessions can take a few hours, but we still sometimes play multiple scenarios in a day, when we have the time.\"/>\n",
       "<comment rating=\"10\" username=\"Suit Sage\" value=\"\"/>\n",
       "<comment rating=\"10\" username=\"bwt2q\" value=\"Gloomhaven is, at the time I wrote this, the #1 ranked game on BGG.  I think the consistently high ratings are well deserved.  I have really enjoyed the 7.5 games I've played so far (we're mid-mission right now!).  Gloomhaven is, first and foremost, a kind of optimization puzzle that you solve with 1-3 of your friends.  It has received much criticism because the puzzle is mostly the same, which I think misses the point.  This an excellent puzzle, with a large number of truly meaningful decisions, and scenarios that have very finely honed difficulty.  It's like a book of Crosswords or Sodoku - if you don't like the puzzle, a whole book will seem boring.  But if you like the puzzle, then it's great.  I find the puzzle of Gloomhaven to be absolutely enthralling, and the scenarios do a great job, IMO, of mixing it up enough that I don't feel like I'm just rinse and repeating my way through the game.  YMMV.  If you're thinking about buying it, you should know that you can play the first scenario for FREE with any of the first 6 classes on Tabletopia.  See if you like the puzzle before sinking $100 into it.  Aside from the main game, Gloomhaven's scenarios and campaign are really a labor of love, and it shows throughout.  There are way more enemies here than there really need to be, but it sure is nice to not fight the same 6 enemies all the time.  The standees work well, and keep the game affordable, so I appreciate them even if I still want minis.  Likewise for the character classes - 17 is more variety than most people will ever see, but it's there for those who want to explore.  I love that you are supposed to play the game to unlock the classes.  Each individual class has an individual set of higher level cards that become accessible as they level up, plus individualized perks that make their modifier deck better.  The modifier deck is brilliant, by the way, and the way you can improve it is simple yet fantastic - one of the many &quot;little&quot; touches that makes Gloomhaven such an amazing creation.  Lastly, I want to mention that I am currently playing Gloomhaven with my kids, who are 11, 9, and 7.  My youngest definitely needs a lot of help figuring out what she wants to do.  I give the 9yo some advice each turn about general group strategy and he plays competently, although not always optimally.  My 11yo plays with zero advice (he wouldn't listen anyway), and plays very well.  It's been a great experience.\"/>\n",
       "<comment rating=\"10\" username=\"oskarkapsel\" value=\"\"/>\n",
       "<comment rating=\"10\" username=\"wildinferno\" value=\"Just a great amazing experience. I got lucky I came across this on Kickstarter back in Oct 2015.\"/>\n",
       "<comment rating=\"10\" username=\"Morthai\" value=\"\"/>\n",
       "<comment rating=\"10\" username=\"Akrimas\" value=\"This game is one of the best if not the best dungeon crawler I have ever played. Without spoiling too much - this is an outstanding game and everyone even remotely interested int he genre should try it.\"/>\n",
       "<comment rating=\"10\" username=\"Vex85\" value=\"As a playtester I think its pretty more an 11 as a 10 :)   \"/>\n",
       "<comment rating=\"10\" username=\"pixel pusher\" value=\"Incredible game. Certainly not perfect and I had hoped for more outside of the combat, but what is there is very entertaining. Haven't tired of it yet.   The primary focus of the game is the card play for your actions and the optimization puzzle that presents. Things are dynamic enough that situation never plays out the same and you have a multitude of solutions to getting through things. It takes about 3+ play throughs to see all content. The reality is that your game is going to go differently than someone elses.  The game gives off a rpg video game vibe with branching story decision paths as well as which missions you choose to complete and when influencing how things play out. Fire Emblem/final fantasy tactics the board game? Less Baulders gate and more tactical strategy Jrpg mixed with some Mage Knight &quot;lite&quot;. That may sound like the best thing ever to you or the worst.   Some may prefer games like Shadows of Brimstone over this game. Certainly do your research before buying this. This is definitely a euro game design style. No dice chucking.  Looking forward to what else this designer comes up with.  The version I got was $60 from the first kickstarter. A friend of mine wants it now but he has to pay $140. Ouch. It's a great game and if I had to do it again I'd pay the $140 but no more than that.  I rate the game a 9 because the legacy aspect makes a score of 10 impossible if strictly going by BGG's ranking descriptions. However I would unofficially declare it a 10 while you are playing it.  edit: I should also note that I find this game very compelling. Probably the most compelling board game I own. I want to play this every chance I get. I want to play it like I do my most favorite computer games. I have  board games I like a lot, but nothing this compelling to date. This game is really a 10 on my list. It is one of my top 10. Certainly one of my top 5.  edit: I have since found ways to make the game non-permanent. Removable stickers and resources have made it possible for us to replay this numerous times now. So I have bumped my rating up to a 10. Seriously one of the very best games I've played and owned to date.\"/>\n",
       "<comment rating=\"10\" username=\"blakdeth\" value=\"\"/>\n",
       "<comment rating=\"10\" username=\"zenmazster\" value=\"\"/>\n",
       "<comment rating=\"10\" username=\"opticode\" value=\"\"/>\n",
       "<comment rating=\"10\" username=\"ReinhartTR\" value=\"This game is a solid ten. It is the [i]only[/i] ten in my collection. It is [i]that[/i] good. The base of the game is it's tactical dungeon crawling mechanics and they are breathtaking. But what elevates this [i]masterpiece[/i] to the upper echelons of glory and immortality in the hobby is the legacy aspects. You aren't destroying things, you are [i]building[/i]. Improving the town, unlocking new (wildly varied) classes, slowly sussing out the secrets of the town, the world, opening envelopes, discovering secrets and watching it all unfold before you. Retiring characters gives you new experiences, both as classes and town/road events where you encounter your retired characters. It also gives you access to a book which further fleshes out the world. Some argue the game doesn't have enough story but there is enough there to enthrall me and help keep my interested in enjoying the marvelous system that Isaac Childres has created, and the world he has envisioned. Everyone I have put this in front of has said something similar, if you can find this for a reasonable price, buy it. Hell, even if the price is [i]slightly[/i] unreasonable, you should still buy it. It's worth every penny.  You can read my review [geekurl=/thread/1720130/welcome-gloomhaven-initial-impressions-now-50-less]here[/geekurl] if you're interested. It is by far my best review, but it's also the longest.\"/>\n",
       "<comment rating=\"10\" username=\"bandersnatch1110\" value=\"\"/>\n",
       "<comment rating=\"10\" username=\"Anemelos\" value=\"\"/>\n",
       "<comment rating=\"10\" username=\"Moggrym\" value=\"\"/>\n",
       "<comment rating=\"10\" username=\"Ghanaka\" value=\"\"/>\n",
       "<comment rating=\"10\" username=\"sonofachung\" value=\"3\"/>\n",
       "<comment rating=\"10\" username=\"Murdockus\" value=\"\"/>\n",
       "<comment rating=\"10\" username=\"sighlance\" value=\" Wow, the last time I was so exited while playing a game was when I played my first game of Mage Knight. The gameplay feels so awesome that Isaac must have spent a very long time polishing it. I immediately want to play this again! \"/>\n",
       "<comment rating=\"10\" username=\"Dimaradona\" value=\"\"/>\n",
       "<comment rating=\"10\" username=\"robert_stringer22888\" value=\"Amazing\"/>\n",
       "<comment rating=\"10\" username=\"Slumpy\" value=\"\"/>\n",
       "<comment rating=\"10\" username=\"EtherealPaints\" value=\"Best Dungeon Crawler I've ever played.\"/>\n",
       "<comment rating=\"10\" username=\"Terraformer\" value=\"Had to [lay a few before judging as so much hype. It really is a fully solid 10. Unique and glorious. Sowell balanced, and character classes different from each other but o much more subtle than a normal adventure romp. Love it.\"/>\n",
       "<comment rating=\"10\" username=\"greatredwarrior\" value=\"A simply incredible game.  On one level, it's a dungeon crawler, but the mechanics of battle using the cards, combined with &quot;resting&quot; and the variable levels/difficulty of the dungeons makes for every scenario being interesting and frequently quite challenging.  Where the game shines though (and gets a 10) is in the campaign.  Unlocking new scenarios, advancing along your personal quest, interacting with the larger world and seeing the city of Gloomhaven grow and improve (or not!).  The non-Tolkien nature of the world is also a breath of fresh air.  Very fun and highly recommended.  Unsleeved\"/>\n",
       "<comment rating=\"10\" username=\"Darik777\" value=\"An epic adventure that revolutionizes Dungeon Crawlers.  Pros: -Very interesting tactical decisions -Varied &amp; relatively deep deterministic combat (much deeper than your usual dice-chucker) -Varied character classes and playstyles -Looting! Lots of new items to discover -A Story that grows with every new scenario -Absolutely incredible value for money in that big box.  Cons: -Somewhat fiddly -Lots of bits and pieces makes storage inconvenient -Manual isn't very streamlined (although I've seen much worse).  The best dungeon-crawler out there as of 2017.  One of my top games ever.\"/>\n",
       "<comment rating=\"10\" username=\"Dathras\" value=\"\"/>\n",
       "<comment rating=\"10\" username=\"Johnny K\" value=\"\"/>\n",
       "<comment rating=\"10\" username=\"Bajahobo\" value=\"\"/>\n",
       "<comment rating=\"10\" username=\"Drigan\" value=\"\"/>\n",
       "<comment rating=\"10\" username=\"Chubby\" value=\"\"/>\n",
       "<comment rating=\"10\" username=\"Druaightagh\" value=\"Believe the hype!  It is near perfect for me (a RPG in a box/dungeon crawler/legacy game fan).\"/>\n",
       "<comment rating=\"10\" username=\"valpocarnie\" value=\"\"/>\n",
       "<comment rating=\"10\" username=\"glick9\" value=\"\"/>\n",
       "<comment rating=\"10\" username=\"kirby_j3\" value=\"\"/>\n",
       "<comment rating=\"10\" username=\"RamMegiddo\" value=\"\"/>\n",
       "<comment rating=\"10\" username=\"geoffking\" value=\"\"/>\n",
       "<comment rating=\"10\" username=\"Wickershamb\" value=\"\"/>\n",
       "<comment rating=\"10\" username=\"Ardghal\" value=\"Proud KS Backer! I guess Isaac is going to get immortal with this one. I love Forge War, but this one will probably become a modern classic. BTW I was one of the demo staff at Essen Spiel 2016. GH just plays fantastic!\"/>\n",
       "<comment rating=\"10\" username=\"gabrie\" value=\"\"/>\n",
       "<comment rating=\"10\" username=\"barti18\" value=\"\"/>\n",
       "<comment rating=\"10\" username=\"kzinti\" value=\"\"/>\n",
       "</comments>\n",
       "</item>\n",
       "</items>"
      ]
     },
     "execution_count": 104,
     "metadata": {},
     "output_type": "execute_result"
    }
   ],
   "source": [
    "csoup"
   ]
  },
  {
   "cell_type": "code",
   "execution_count": 98,
   "metadata": {},
   "outputs": [],
   "source": [
    "aa = {x['username']:x['rating'] for x in csoup.find_all('comment')}"
   ]
  },
  {
   "cell_type": "code",
   "execution_count": 107,
   "metadata": {},
   "outputs": [
    {
     "data": {
      "text/plain": [
       "200"
      ]
     },
     "execution_count": 107,
     "metadata": {},
     "output_type": "execute_result"
    }
   ],
   "source": [
    "len(gm_comment_dict)"
   ]
  },
  {
   "cell_type": "code",
   "execution_count": 89,
   "metadata": {},
   "outputs": [],
   "source": [
    "comment_dict = {x['username']:x['rating'] for x in csoup.find_all('comment')}"
   ]
  },
  {
   "cell_type": "code",
   "execution_count": 94,
   "metadata": {},
   "outputs": [
    {
     "data": {
      "text/plain": [
       "{174430: {'clarkkent22': '10',\n",
       "  'Garroc': '10',\n",
       "  'Neva Kee': '10',\n",
       "  'Chris Coyote': '10',\n",
       "  'Beaushek': '10',\n",
       "  'ravenpolar': '10',\n",
       "  'brenmcgovern': '10',\n",
       "  'grovermerc': '10',\n",
       "  'Ronnyknox': '10',\n",
       "  'webs05': '10',\n",
       "  'Iguloy': '10',\n",
       "  'Slyght': '10',\n",
       "  'Leonce': '10',\n",
       "  'Wretched Git': '10',\n",
       "  'rlphay': '10',\n",
       "  'testicleez': '10',\n",
       "  'crwills': '10',\n",
       "  'WeeGee': '10',\n",
       "  'Azil3': '10',\n",
       "  'robbin 1': '10',\n",
       "  'mcscowl': '10',\n",
       "  'kittenhoarder': '10',\n",
       "  'Kitarja': '10',\n",
       "  'Shampoo4you': '10',\n",
       "  'Blood Demon': '10',\n",
       "  'stevelabny': '10',\n",
       "  'vardamir': '10',\n",
       "  'Aspudde': '10',\n",
       "  'Zottelmonster': '10',\n",
       "  'gimmster': '10',\n",
       "  'Clinton': '10',\n",
       "  'nadurgin': '10',\n",
       "  'mergryphon': '10',\n",
       "  'darcypennell': '10',\n",
       "  'snorman': '10',\n",
       "  'LouisDavid': '10',\n",
       "  'Quotho': '10',\n",
       "  'davidcoleman': '10',\n",
       "  'camidon': '10',\n",
       "  'repairmanjack': '10',\n",
       "  'benjamininja': '10',\n",
       "  'jamarre2': '10',\n",
       "  'tilde72': '10',\n",
       "  'bwarner34': '10',\n",
       "  'olafpkyou': '10',\n",
       "  'thesumo5': '10',\n",
       "  'Tarkan': '10',\n",
       "  'Electric421': '10',\n",
       "  'Husky Seahawk': '10',\n",
       "  'Vinnalott': '10',\n",
       "  'chemicalroman': '10',\n",
       "  'adjacentbeastman': '10',\n",
       "  'geobaldi5': '10',\n",
       "  'Firetracker': '10',\n",
       "  'Sassycat': '10',\n",
       "  'MountainRoot': '10',\n",
       "  'dpbernath': '10',\n",
       "  'Kyellan': '10',\n",
       "  'Suit Sage': '10',\n",
       "  'bwt2q': '10',\n",
       "  'oskarkapsel': '10',\n",
       "  'wildinferno': '10',\n",
       "  'Morthai': '10',\n",
       "  'Akrimas': '10',\n",
       "  'Vex85': '10',\n",
       "  'pixel pusher': '10',\n",
       "  'blakdeth': '10',\n",
       "  'zenmazster': '10',\n",
       "  'opticode': '10',\n",
       "  'ReinhartTR': '10',\n",
       "  'bandersnatch1110': '10',\n",
       "  'Anemelos': '10',\n",
       "  'Moggrym': '10',\n",
       "  'Ghanaka': '10',\n",
       "  'sonofachung': '10',\n",
       "  'Murdockus': '10',\n",
       "  'sighlance': '10',\n",
       "  'Dimaradona': '10',\n",
       "  'robert_stringer22888': '10',\n",
       "  'Slumpy': '10',\n",
       "  'EtherealPaints': '10',\n",
       "  'Terraformer': '10',\n",
       "  'greatredwarrior': '10',\n",
       "  'Darik777': '10',\n",
       "  'Dathras': '10',\n",
       "  'Johnny K': '10',\n",
       "  'Bajahobo': '10',\n",
       "  'Drigan': '10',\n",
       "  'Chubby': '10',\n",
       "  'Druaightagh': '10',\n",
       "  'valpocarnie': '10',\n",
       "  'glick9': '10',\n",
       "  'kirby_j3': '10',\n",
       "  'RamMegiddo': '10',\n",
       "  'geoffking': '10',\n",
       "  'Wickershamb': '10',\n",
       "  'Ardghal': '10',\n",
       "  'gabrie': '10',\n",
       "  'barti18': '10',\n",
       "  'kzinti': '10'}}"
      ]
     },
     "execution_count": 94,
     "metadata": {},
     "output_type": "execute_result"
    }
   ],
   "source": [
    "comment_dict"
   ]
  },
  {
   "cell_type": "code",
   "execution_count": 85,
   "metadata": {},
   "outputs": [
    {
     "data": {
      "text/plain": [
       "<?xml version=\"1.0\" encoding=\"utf-8\"?>\n",
       "<items termsofuse=\"https://boardgamegeek.com/xmlapi/termsofuse\"><item id=\"174430\" type=\"boardgame\">\n",
       "<thumbnail>https://cf.geekdo-images.com/thumb/img/e7GyV4PaNtwmalU-EQAGecwoBSI=/fit-in/200x150/pic2437871.jpg</thumbnail>\n",
       "<image>https://cf.geekdo-images.com/original/img/lDN358RgcYvQfYYN6Oy2TXpifyM=/0x0/pic2437871.jpg</image>\n",
       "<name sortindex=\"1\" type=\"primary\" value=\"Gloomhaven\"/>\n",
       "<name sortindex=\"1\" type=\"alternate\" value=\"幽城迷港\"/>\n",
       "<description>Gloomhaven  is a game of Euro-inspired tactical combat in a persistent world of shifting motives. Players will take on the role of a wandering adventurer with their own special set of skills and their own reasons for traveling to this dark corner of the world. Players must work together out of necessity to clear out menacing dungeons and forgotten ruins. In the process, they will enhance their abilities with experience and loot, discover new locations to explore and plunder, and expand an ever-branching story fueled by the decisions they make.&amp;#10;&amp;#10;This is a game with a persistent and changing world that is ideally played over many game sessions. After a scenario, players will make decisions on what to do, which will determine how the story continues, kind of like a &amp;ldquo;Choose Your Own Adventure&amp;rdquo; book. Playing through a scenario is a cooperative affair where players will fight against automated monsters using an innovative card system to determine the order of play and what a player does on their turn.&amp;#10;&amp;#10;Each turn, a player chooses two cards to play out of their hand. The number on the top card determines their initiative for the round. Each card also has a top and bottom power, and when it is a player&amp;rsquo;s turn in the initiative order, they determine whether to use the top power of one card and the bottom power of the other, or vice-versa. Players must be careful, though, because over time they will permanently lose cards from their hands. If they take too long to clear a dungeon, they may end up exhausted and be forced to retreat.&amp;#10;&amp;#10;</description>\n",
       "<yearpublished value=\"2017\"/>\n",
       "<minplayers value=\"1\"/>\n",
       "<maxplayers value=\"4\"/>\n",
       "<poll name=\"suggested_numplayers\" title=\"User Suggested Number of Players\" totalvotes=\"524\">\n",
       "<results numplayers=\"1\">\n",
       "<result numvotes=\"61\" value=\"Best\"/>\n",
       "<result numvotes=\"227\" value=\"Recommended\"/>\n",
       "<result numvotes=\"106\" value=\"Not Recommended\"/>\n",
       "</results>\n",
       "<results numplayers=\"2\">\n",
       "<result numvotes=\"121\" value=\"Best\"/>\n",
       "<result numvotes=\"292\" value=\"Recommended\"/>\n",
       "<result numvotes=\"33\" value=\"Not Recommended\"/>\n",
       "</results>\n",
       "<results numplayers=\"3\">\n",
       "<result numvotes=\"252\" value=\"Best\"/>\n",
       "<result numvotes=\"179\" value=\"Recommended\"/>\n",
       "<result numvotes=\"10\" value=\"Not Recommended\"/>\n",
       "</results>\n",
       "<results numplayers=\"4\">\n",
       "<result numvotes=\"176\" value=\"Best\"/>\n",
       "<result numvotes=\"213\" value=\"Recommended\"/>\n",
       "<result numvotes=\"42\" value=\"Not Recommended\"/>\n",
       "</results>\n",
       "<results numplayers=\"4+\">\n",
       "<result numvotes=\"2\" value=\"Best\"/>\n",
       "<result numvotes=\"19\" value=\"Recommended\"/>\n",
       "<result numvotes=\"279\" value=\"Not Recommended\"/>\n",
       "</results>\n",
       "</poll>\n",
       "<playingtime value=\"120\"/>\n",
       "<minplaytime value=\"60\"/>\n",
       "<maxplaytime value=\"120\"/>\n",
       "<minage value=\"12\"/>\n",
       "<poll name=\"suggested_playerage\" title=\"User Suggested Player Age\" totalvotes=\"133\">\n",
       "<results>\n",
       "<result numvotes=\"2\" value=\"2\"/>\n",
       "<result numvotes=\"0\" value=\"3\"/>\n",
       "<result numvotes=\"0\" value=\"4\"/>\n",
       "<result numvotes=\"0\" value=\"5\"/>\n",
       "<result numvotes=\"0\" value=\"6\"/>\n",
       "<result numvotes=\"3\" value=\"8\"/>\n",
       "<result numvotes=\"22\" value=\"10\"/>\n",
       "<result numvotes=\"37\" value=\"12\"/>\n",
       "<result numvotes=\"59\" value=\"14\"/>\n",
       "<result numvotes=\"7\" value=\"16\"/>\n",
       "<result numvotes=\"1\" value=\"18\"/>\n",
       "<result numvotes=\"2\" value=\"21 and up\"/>\n",
       "</results>\n",
       "</poll>\n",
       "<poll name=\"language_dependence\" title=\"Language Dependence\" totalvotes=\"29\">\n",
       "<results>\n",
       "<result level=\"1\" numvotes=\"0\" value=\"No necessary in-game text\"/>\n",
       "<result level=\"2\" numvotes=\"0\" value=\"Some necessary text - easily memorized or small crib sheet\"/>\n",
       "<result level=\"3\" numvotes=\"2\" value=\"Moderate in-game text - needs crib sheet or paste ups\"/>\n",
       "<result level=\"4\" numvotes=\"23\" value=\"Extensive use of text - massive conversion needed to be playable\"/>\n",
       "<result level=\"5\" numvotes=\"4\" value=\"Unplayable in another language\"/>\n",
       "</results>\n",
       "</poll>\n",
       "<link id=\"1022\" type=\"boardgamecategory\" value=\"Adventure\"/>\n",
       "<link id=\"1020\" type=\"boardgamecategory\" value=\"Exploration\"/>\n",
       "<link id=\"1010\" type=\"boardgamecategory\" value=\"Fantasy\"/>\n",
       "<link id=\"1046\" type=\"boardgamecategory\" value=\"Fighting\"/>\n",
       "<link id=\"1047\" type=\"boardgamecategory\" value=\"Miniatures\"/>\n",
       "<link id=\"2018\" type=\"boardgamemechanic\" value=\"Campaign / Battle Card Driven\"/>\n",
       "<link id=\"2023\" type=\"boardgamemechanic\" value=\"Cooperative Play\"/>\n",
       "<link id=\"2676\" type=\"boardgamemechanic\" value=\"Grid Movement\"/>\n",
       "<link id=\"2040\" type=\"boardgamemechanic\" value=\"Hand Management\"/>\n",
       "<link id=\"2011\" type=\"boardgamemechanic\" value=\"Modular Board\"/>\n",
       "<link id=\"2028\" type=\"boardgamemechanic\" value=\"Role Playing\"/>\n",
       "<link id=\"2020\" type=\"boardgamemechanic\" value=\"Simultaneous Action Selection\"/>\n",
       "<link id=\"2027\" type=\"boardgamemechanic\" value=\"Storytelling\"/>\n",
       "<link id=\"2015\" type=\"boardgamemechanic\" value=\"Variable Player Powers\"/>\n",
       "<link id=\"24281\" type=\"boardgamefamily\" value=\"Campaign Games\"/>\n",
       "<link id=\"25158\" type=\"boardgamefamily\" value=\"Components: Miniatures\"/>\n",
       "<link id=\"8374\" type=\"boardgamefamily\" value=\"Crowdfunding: Kickstarter\"/>\n",
       "<link id=\"45610\" type=\"boardgamefamily\" value=\"Gloomhaven Universe\"/>\n",
       "<link id=\"25404\" type=\"boardgamefamily\" value=\"Legacy\"/>\n",
       "<link id=\"5666\" type=\"boardgamefamily\" value=\"Solitaire Games\"/>\n",
       "<link id=\"250337\" type=\"boardgameexpansion\" value=\"Gloomhaven: Forgotten Circles\"/>\n",
       "<link id=\"226868\" type=\"boardgameexpansion\" value=\"Gloomhaven: Solo Scenarios\"/>\n",
       "<link id=\"231934\" type=\"boardgameexpansion\" value=\"Gloomhaven: The End of the World (Promo Scenario)\"/>\n",
       "<link id=\"69802\" type=\"boardgamedesigner\" value=\"Isaac Childres\"/>\n",
       "<link id=\"77084\" type=\"boardgameartist\" value=\"Alexandr Elichev\"/>\n",
       "<link id=\"78961\" type=\"boardgameartist\" value=\"Josh T. McDowell\"/>\n",
       "<link id=\"84269\" type=\"boardgameartist\" value=\"Alvaro Nebot\"/>\n",
       "<link id=\"27425\" type=\"boardgamepublisher\" value=\"Cephalofair Games\"/>\n",
       "<link id=\"4304\" type=\"boardgamepublisher\" value=\"Albi\"/>\n",
       "<link id=\"22380\" type=\"boardgamepublisher\" value=\"Feuerland Spiele\"/>\n",
       "<link id=\"18852\" type=\"boardgamepublisher\" value=\"Hobby World\"/>\n",
       "<comments page=\"1\" totalitems=\"18872\">\n",
       "<comment rating=\"10\" username=\"clarkkent22\" value=\"\"/>\n",
       "<comment rating=\"10\" username=\"Garroc\" value=\"Kickstarter\"/>\n",
       "<comment rating=\"10\" username=\"Neva Kee\" value=\"\"/>\n",
       "<comment rating=\"10\" username=\"Chris Coyote\" value=\"Awesome. By far the best dungeon crawler I have played yet, with an ingenious legacy system on top. Highly recommended.\"/>\n",
       "<comment rating=\"10\" username=\"Beaushek\" value=\"If you know and want what you're getting, you'll be thrilled.  The game is big, stressful, and interesting.  The value is, of course, huge.  I see two issues with the game.  The rulebook is very big and you'll need your own storage solution.  Normally, I'll dock part of a point because of issues like that, but this might be my favorite game of all time.  I'm not docking points for needing to use a Plano box, when this game has occupied all of my thoughts.  It's excellent.\"/>\n",
       "<comment rating=\"10\" username=\"ravenpolar\" value=\"\"/>\n",
       "<comment rating=\"10\" username=\"brenmcgovern\" value=\"\"/>\n",
       "<comment rating=\"10\" username=\"grovermerc\" value=\"\"/>\n",
       "<comment rating=\"10\" username=\"Ronnyknox\" value=\"\"/>\n",
       "<comment rating=\"10\" username=\"webs05\" value=\"\"/>\n",
       "<comment rating=\"10\" username=\"Iguloy\" value=\"Kickstarted. Standee version.  WOW. I can't emphasize enough how amazing this game is. Best game of 2017 for me, hands down. This is like a dream come true, I couldn't have asked for better. If you like Legacy games and dungeon crawls... please make yourself a gift and get this. You cannot not play this!  #1 BEST Dungeon crawl #1 BEST Legacy game #1 BEST Cooperative game  Also one of my SO's favorite games.  Update after 25 plays : I have now played 25 games of Gloomhaven on normal mode (23W-2L) in 3 weeks and I still can't wait to play some more. I haven't played a single other board game since I joined this amazing world. I prefer it with 2 or 3 players. With 4 it's a bit too long (I've played 1 game, but the scenario was pretty long also) but I'd need to try it again just to be sure.  Update after ending the main story: We have now returned to playing other games as there is less addiction to unlock stuff and since we &quot;finished&quot; the game. But boy this was the only thing we could get ourselves to play in 2-3 months. We played over 80 hours I'm pretty sure and we were playing mostly 2-player. This game has a lot to unravel. But for some reason when the campaign was finished we completely stopped. I must say the last two characters we unlocked and played were support characters and the combination in a 2-player game was less interesting. Waiting for an expansion!\"/>\n",
       "<comment rating=\"10\" username=\"Slyght\" value=\"\"/>\n",
       "<comment rating=\"10\" username=\"Leonce\" value=\"\"/>\n",
       "<comment rating=\"10\" username=\"Wretched Git\" value=\"\"/>\n",
       "<comment rating=\"10\" username=\"rlphay\" value=\"After play testing this game early in the development I can say that it has come a long way and well worth getting. There is high replay value in this game and endless adventures that make it worth every penny spent. And the unique gameplay is unlike anything out there so you will not be playing the different version of some other game.\"/>\n",
       "<comment rating=\"10\" username=\"testicleez\" value=\"\"/>\n",
       "<comment rating=\"10\" username=\"crwills\" value=\"Kickstarted\"/>\n",
       "<comment rating=\"10\" username=\"WeeGee\" value=\"Very fun game but I found it too difficult with two characters. Don't have the table space to do 3 characters. \"/>\n",
       "<comment rating=\"10\" username=\"Azil3\" value=\"\"/>\n",
       "<comment rating=\"10\" username=\"robbin 1\" value=\"NR. 1!!!\"/>\n",
       "<comment rating=\"10\" username=\"mcscowl\" value=\"One of my absolute favorite games. Not saying this as the graphic designer, but as a gamer.\"/>\n",
       "<comment rating=\"10\" username=\"kittenhoarder\" value=\"\"/>\n",
       "<comment rating=\"10\" username=\"Kitarja\" value=\"\"/>\n",
       "<comment rating=\"10\" username=\"Shampoo4you\" value=\"\"/>\n",
       "<comment rating=\"10\" username=\"Blood Demon\" value=\"\"/>\n",
       "<comment rating=\"10\" username=\"stevelabny\" value=\"\"/>\n",
       "<comment rating=\"10\" username=\"vardamir\" value=\"Damn, I love this game (So much). Coop wasn't my cup of tea, but this one is an exception. I love how players plan their turns, initiative orders, hand management, character progressions, enemy AI, the campaign and story line, the theme and illustrations, various characters with different play styles, retirement and deck building element in the game. Definitely beats Eclipse from the throne.\"/>\n",
       "<comment rating=\"10\" username=\"Aspudde\" value=\"2017\"/>\n",
       "<comment rating=\"10\" username=\"Zottelmonster\" value=\"\"/>\n",
       "<comment rating=\"10\" username=\"gimmster\" value=\"\"/>\n",
       "<comment rating=\"10\" username=\"Clinton\" value=\"\"/>\n",
       "<comment rating=\"10\" username=\"nadurgin\" value=\"Wow, amazing game!  The combat system is the best I have seen yet in a game of this type!\"/>\n",
       "<comment rating=\"10\" username=\"mergryphon\" value=\"\"/>\n",
       "<comment rating=\"10\" username=\"darcypennell\" value=\"\"/>\n",
       "<comment rating=\"10\" username=\"snorman\" value=\"\"/>\n",
       "<comment rating=\"10\" username=\"LouisDavid\" value=\"- NOT RECEIVED for what it is, and what it does, this game has to be a 10 \"/>\n",
       "<comment rating=\"10\" username=\"Quotho\" value=\"\"/>\n",
       "<comment rating=\"10\" username=\"davidcoleman\" value=\"Most played group game. I plan to play it solo after the group is finished using a printed off map, and perhaps doing things differently. \"/>\n",
       "<comment rating=\"10\" username=\"camidon\" value=\"Fantastic card-based dungeon-crawl campaign game. Isaac Childres has crafted what so many gamers have been looking for: a true fantasy campaign system. There's story. There's character progression. The world is alive. Skirting a 10 rating.  Yes there are some &quot;legacy&quot; elements, but I'll gladly replay this again just with the minor permanent alterations\"/>\n",
       "<comment rating=\"10\" username=\"repairmanjack\" value=\"\"/>\n",
       "<comment rating=\"10\" username=\"benjamininja\" value=\"\"/>\n",
       "<comment rating=\"10\" username=\"jamarre2\" value=\"\"/>\n",
       "<comment rating=\"10\" username=\"tilde72\" value=\"It is an amazing achievement for one person to design and develop a game like this. It truly is 'Skyrim in a box' - a great story development mixed with sophisticated dungeon crawler tactics. My only 10 besides Mage Knight at the moment. \"/>\n",
       "<comment rating=\"10\" username=\"bwarner34\" value=\"Best dungeon crawler I've played, both in terms of storyline and in terms of the gameplay. The amount of content is incredible.\"/>\n",
       "<comment rating=\"10\" username=\"olafpkyou\" value=\"\"/>\n",
       "<comment rating=\"10\" username=\"thesumo5\" value=\"I may change this rating after more plays (but not by much), but this is about as perfect for me as a game gets.  I don't do a lot of 10s, this is a gem.\"/>\n",
       "<comment rating=\"10\" username=\"Tarkan\" value=\"\"/>\n",
       "<comment rating=\"10\" username=\"Electric421\" value=\"\"/>\n",
       "<comment rating=\"10\" username=\"Husky Seahawk\" value=\"The more I have played this game the more I seem to like it. The hand management makes the dungeon crawling and combat tense and satisfying. The character customization is excellent with tons of equipment, lots of cards to build your hand, and ways to adjust your combat deck. Battle goals provide variability to every scenario, and the career goals give you a sense of purpose. Since starting this campaign, I have spent every single day thinking about playing the next scenario.\"/>\n",
       "<comment rating=\"10\" username=\"Vinnalott\" value=\"\"/>\n",
       "<comment rating=\"10\" username=\"chemicalroman\" value=\"Febrero 2017\"/>\n",
       "<comment rating=\"10\" username=\"adjacentbeastman\" value=\"\"/>\n",
       "<comment rating=\"10\" username=\"geobaldi5\" value=\"*Kickstarter Edition*  I'm going to go ahead and call it right now.  I feel this will be the top game of the year for 2017.  As of this note, four campaign missions have been played and the game is just getting better and better as you progress through it.  Really looking forward to seeing how the world, story, and characters flesh out over the massive campaign.\"/>\n",
       "<comment rating=\"10\" username=\"Firetracker\" value=\"\"/>\n",
       "<comment rating=\"10\" username=\"Sassycat\" value=\"Absolutely ludicrous amount of content in the box, branching storyline, amazingly unique combat system, fascinatingly different classes, exciting and challenging sense of progression and a fantasy world that shies away from traditional tropes and strikes off on its own path.  Probably most telling of all, I have thought about this game every day since my first playthrough. I cannnot wait to play it again and again. Easy GotY contender, highly deserving of a 10 and I just love it.\"/>\n",
       "<comment rating=\"10\" username=\"MountainRoot\" value=\"\"/>\n",
       "<comment rating=\"10\" username=\"dpbernath\" value=\"Backed on Kickstarter May well be my favorite game of all time 2018\"/>\n",
       "<comment rating=\"10\" username=\"Kyellan\" value=\"Gloomhaven has almost entirely consumed my gaming time. Its gameplay definitely favors its Eurogame roots, but it offers RPG growth/customization, story, and legacy consequences. There are many important decisions, both tactical and strategic. Four-player sessions can take a few hours, but we still sometimes play multiple scenarios in a day, when we have the time.\"/>\n",
       "<comment rating=\"10\" username=\"Suit Sage\" value=\"\"/>\n",
       "<comment rating=\"10\" username=\"bwt2q\" value=\"Gloomhaven is, at the time I wrote this, the #1 ranked game on BGG.  I think the consistently high ratings are well deserved.  I have really enjoyed the 7.5 games I've played so far (we're mid-mission right now!).  Gloomhaven is, first and foremost, a kind of optimization puzzle that you solve with 1-3 of your friends.  It has received much criticism because the puzzle is mostly the same, which I think misses the point.  This an excellent puzzle, with a large number of truly meaningful decisions, and scenarios that have very finely honed difficulty.  It's like a book of Crosswords or Sodoku - if you don't like the puzzle, a whole book will seem boring.  But if you like the puzzle, then it's great.  I find the puzzle of Gloomhaven to be absolutely enthralling, and the scenarios do a great job, IMO, of mixing it up enough that I don't feel like I'm just rinse and repeating my way through the game.  YMMV.  If you're thinking about buying it, you should know that you can play the first scenario for FREE with any of the first 6 classes on Tabletopia.  See if you like the puzzle before sinking $100 into it.  Aside from the main game, Gloomhaven's scenarios and campaign are really a labor of love, and it shows throughout.  There are way more enemies here than there really need to be, but it sure is nice to not fight the same 6 enemies all the time.  The standees work well, and keep the game affordable, so I appreciate them even if I still want minis.  Likewise for the character classes - 17 is more variety than most people will ever see, but it's there for those who want to explore.  I love that you are supposed to play the game to unlock the classes.  Each individual class has an individual set of higher level cards that become accessible as they level up, plus individualized perks that make their modifier deck better.  The modifier deck is brilliant, by the way, and the way you can improve it is simple yet fantastic - one of the many &quot;little&quot; touches that makes Gloomhaven such an amazing creation.  Lastly, I want to mention that I am currently playing Gloomhaven with my kids, who are 11, 9, and 7.  My youngest definitely needs a lot of help figuring out what she wants to do.  I give the 9yo some advice each turn about general group strategy and he plays competently, although not always optimally.  My 11yo plays with zero advice (he wouldn't listen anyway), and plays very well.  It's been a great experience.\"/>\n",
       "<comment rating=\"10\" username=\"oskarkapsel\" value=\"\"/>\n",
       "<comment rating=\"10\" username=\"wildinferno\" value=\"Just a great amazing experience. I got lucky I came across this on Kickstarter back in Oct 2015.\"/>\n",
       "<comment rating=\"10\" username=\"Morthai\" value=\"\"/>\n",
       "<comment rating=\"10\" username=\"Akrimas\" value=\"This game is one of the best if not the best dungeon crawler I have ever played. Without spoiling too much - this is an outstanding game and everyone even remotely interested int he genre should try it.\"/>\n",
       "<comment rating=\"10\" username=\"Vex85\" value=\"As a playtester I think its pretty more an 11 as a 10 :)   \"/>\n",
       "<comment rating=\"10\" username=\"pixel pusher\" value=\"Incredible game. Certainly not perfect and I had hoped for more outside of the combat, but what is there is very entertaining. Haven't tired of it yet.   The primary focus of the game is the card play for your actions and the optimization puzzle that presents. Things are dynamic enough that situation never plays out the same and you have a multitude of solutions to getting through things. It takes about 3+ play throughs to see all content. The reality is that your game is going to go differently than someone elses.  The game gives off a rpg video game vibe with branching story decision paths as well as which missions you choose to complete and when influencing how things play out. Fire Emblem/final fantasy tactics the board game? Less Baulders gate and more tactical strategy Jrpg mixed with some Mage Knight &quot;lite&quot;. That may sound like the best thing ever to you or the worst.   Some may prefer games like Shadows of Brimstone over this game. Certainly do your research before buying this. This is definitely a euro game design style. No dice chucking.  Looking forward to what else this designer comes up with.  The version I got was $60 from the first kickstarter. A friend of mine wants it now but he has to pay $140. Ouch. It's a great game and if I had to do it again I'd pay the $140 but no more than that.  I rate the game a 9 because the legacy aspect makes a score of 10 impossible if strictly going by BGG's ranking descriptions. However I would unofficially declare it a 10 while you are playing it.  edit: I should also note that I find this game very compelling. Probably the most compelling board game I own. I want to play this every chance I get. I want to play it like I do my most favorite computer games. I have  board games I like a lot, but nothing this compelling to date. This game is really a 10 on my list. It is one of my top 10. Certainly one of my top 5.  edit: I have since found ways to make the game non-permanent. Removable stickers and resources have made it possible for us to replay this numerous times now. So I have bumped my rating up to a 10. Seriously one of the very best games I've played and owned to date.\"/>\n",
       "<comment rating=\"10\" username=\"blakdeth\" value=\"\"/>\n",
       "<comment rating=\"10\" username=\"zenmazster\" value=\"\"/>\n",
       "<comment rating=\"10\" username=\"opticode\" value=\"\"/>\n",
       "<comment rating=\"10\" username=\"ReinhartTR\" value=\"This game is a solid ten. It is the [i]only[/i] ten in my collection. It is [i]that[/i] good. The base of the game is it's tactical dungeon crawling mechanics and they are breathtaking. But what elevates this [i]masterpiece[/i] to the upper echelons of glory and immortality in the hobby is the legacy aspects. You aren't destroying things, you are [i]building[/i]. Improving the town, unlocking new (wildly varied) classes, slowly sussing out the secrets of the town, the world, opening envelopes, discovering secrets and watching it all unfold before you. Retiring characters gives you new experiences, both as classes and town/road events where you encounter your retired characters. It also gives you access to a book which further fleshes out the world. Some argue the game doesn't have enough story but there is enough there to enthrall me and help keep my interested in enjoying the marvelous system that Isaac Childres has created, and the world he has envisioned. Everyone I have put this in front of has said something similar, if you can find this for a reasonable price, buy it. Hell, even if the price is [i]slightly[/i] unreasonable, you should still buy it. It's worth every penny.  You can read my review [geekurl=/thread/1720130/welcome-gloomhaven-initial-impressions-now-50-less]here[/geekurl] if you're interested. It is by far my best review, but it's also the longest.\"/>\n",
       "<comment rating=\"10\" username=\"bandersnatch1110\" value=\"\"/>\n",
       "<comment rating=\"10\" username=\"Anemelos\" value=\"\"/>\n",
       "<comment rating=\"10\" username=\"Moggrym\" value=\"\"/>\n",
       "<comment rating=\"10\" username=\"Ghanaka\" value=\"\"/>\n",
       "<comment rating=\"10\" username=\"sonofachung\" value=\"3\"/>\n",
       "<comment rating=\"10\" username=\"Murdockus\" value=\"\"/>\n",
       "<comment rating=\"10\" username=\"sighlance\" value=\" Wow, the last time I was so exited while playing a game was when I played my first game of Mage Knight. The gameplay feels so awesome that Isaac must have spent a very long time polishing it. I immediately want to play this again! \"/>\n",
       "<comment rating=\"10\" username=\"Dimaradona\" value=\"\"/>\n",
       "<comment rating=\"10\" username=\"robert_stringer22888\" value=\"Amazing\"/>\n",
       "<comment rating=\"10\" username=\"Slumpy\" value=\"\"/>\n",
       "<comment rating=\"10\" username=\"EtherealPaints\" value=\"Best Dungeon Crawler I've ever played.\"/>\n",
       "<comment rating=\"10\" username=\"Terraformer\" value=\"Had to [lay a few before judging as so much hype. It really is a fully solid 10. Unique and glorious. Sowell balanced, and character classes different from each other but o much more subtle than a normal adventure romp. Love it.\"/>\n",
       "<comment rating=\"10\" username=\"greatredwarrior\" value=\"A simply incredible game.  On one level, it's a dungeon crawler, but the mechanics of battle using the cards, combined with &quot;resting&quot; and the variable levels/difficulty of the dungeons makes for every scenario being interesting and frequently quite challenging.  Where the game shines though (and gets a 10) is in the campaign.  Unlocking new scenarios, advancing along your personal quest, interacting with the larger world and seeing the city of Gloomhaven grow and improve (or not!).  The non-Tolkien nature of the world is also a breath of fresh air.  Very fun and highly recommended.  Unsleeved\"/>\n",
       "<comment rating=\"10\" username=\"Darik777\" value=\"An epic adventure that revolutionizes Dungeon Crawlers.  Pros: -Very interesting tactical decisions -Varied &amp; relatively deep deterministic combat (much deeper than your usual dice-chucker) -Varied character classes and playstyles -Looting! Lots of new items to discover -A Story that grows with every new scenario -Absolutely incredible value for money in that big box.  Cons: -Somewhat fiddly -Lots of bits and pieces makes storage inconvenient -Manual isn't very streamlined (although I've seen much worse).  The best dungeon-crawler out there as of 2017.  One of my top games ever.\"/>\n",
       "<comment rating=\"10\" username=\"Dathras\" value=\"\"/>\n",
       "<comment rating=\"10\" username=\"Johnny K\" value=\"\"/>\n",
       "<comment rating=\"10\" username=\"Bajahobo\" value=\"\"/>\n",
       "<comment rating=\"10\" username=\"Drigan\" value=\"\"/>\n",
       "<comment rating=\"10\" username=\"Chubby\" value=\"\"/>\n",
       "<comment rating=\"10\" username=\"Druaightagh\" value=\"Believe the hype!  It is near perfect for me (a RPG in a box/dungeon crawler/legacy game fan).\"/>\n",
       "<comment rating=\"10\" username=\"valpocarnie\" value=\"\"/>\n",
       "<comment rating=\"10\" username=\"glick9\" value=\"\"/>\n",
       "<comment rating=\"10\" username=\"kirby_j3\" value=\"\"/>\n",
       "<comment rating=\"10\" username=\"RamMegiddo\" value=\"\"/>\n",
       "<comment rating=\"10\" username=\"geoffking\" value=\"\"/>\n",
       "<comment rating=\"10\" username=\"Wickershamb\" value=\"\"/>\n",
       "<comment rating=\"10\" username=\"Ardghal\" value=\"Proud KS Backer! I guess Isaac is going to get immortal with this one. I love Forge War, but this one will probably become a modern classic. BTW I was one of the demo staff at Essen Spiel 2016. GH just plays fantastic!\"/>\n",
       "<comment rating=\"10\" username=\"gabrie\" value=\"\"/>\n",
       "<comment rating=\"10\" username=\"barti18\" value=\"\"/>\n",
       "<comment rating=\"10\" username=\"kzinti\" value=\"\"/>\n",
       "</comments>\n",
       "</item>\n",
       "</items>"
      ]
     },
     "execution_count": 85,
     "metadata": {},
     "output_type": "execute_result"
    }
   ],
   "source": [
    "csoup"
   ]
  }
 ],
 "metadata": {
  "kernelspec": {
   "display_name": "Python 3",
   "language": "python",
   "name": "python3"
  },
  "language_info": {
   "codemirror_mode": {
    "name": "ipython",
    "version": 3
   },
   "file_extension": ".py",
   "mimetype": "text/x-python",
   "name": "python",
   "nbconvert_exporter": "python",
   "pygments_lexer": "ipython3",
   "version": "3.7.0"
  }
 },
 "nbformat": 4,
 "nbformat_minor": 2
}
