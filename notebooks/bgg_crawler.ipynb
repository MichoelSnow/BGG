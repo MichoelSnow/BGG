{
 "cells": [
  {
   "cell_type": "markdown",
   "metadata": {},
   "source": [
    "# Imports and Paths"
   ]
  },
  {
   "cell_type": "code",
   "execution_count": 1,
   "metadata": {
    "ExecuteTime": {
     "end_time": "2018-10-08T10:06:19.813249Z",
     "start_time": "2018-10-08T10:06:15.999031Z"
    },
    "init_cell": true
   },
   "outputs": [],
   "source": [
    "from urllib import request\n",
    "from bs4 import BeautifulSoup, Comment\n",
    "import pandas as pd\n",
    "from datetime import datetime\n",
    "from shutil import copyfile\n",
    "import time\n",
    "import json"
   ]
  },
  {
   "cell_type": "code",
   "execution_count": null,
   "metadata": {},
   "outputs": [],
   "source": [
    "PATH = '../data/'"
   ]
  },
  {
   "cell_type": "code",
   "execution_count": 4,
   "metadata": {},
   "outputs": [],
   "source": [
    "bs_pg = 'https://www.boardgamegeek.com/xmlapi2/'"
   ]
  },
  {
   "cell_type": "markdown",
   "metadata": {},
   "source": [
    "# XML2 API"
   ]
  },
  {
   "cell_type": "markdown",
   "metadata": {},
   "source": [
    "Base URI: /xmlapi2/thing?parameters\n",
    "- id=NNN\t\n",
    "  - Specifies the id of the thing(s) to retrieve. To request multiple things with a single query, NNN can specify a comma-delimited list of ids.\n",
    "- type=THINGTYPE\t\n",
    "  - Specifies that, regardless of the type of thing asked for by id, the results are filtered by the THINGTYPE(s) specified. Multiple THINGTYPEs can be specified in a comma-delimited list.\n",
    "- versions=1\t\n",
    "  - Returns version info for the item.\n",
    "- videos = 1\t\n",
    "  - Returns videos for the item.\n",
    "- stats=1\t\t\n",
    "  - Returns ranking and rating stats for the item.\n",
    "- historical=1\t\t\n",
    "  - Returns historical data over time. See page parameter.\n",
    "- marketplace=1\t\t\n",
    "  - Returns marketplace data.\n",
    "- comments=1\t\t\n",
    "  - Returns all comments about the item. Also includes ratings when commented. See page parameter.\n",
    "- ratingcomments=1\t\t\n",
    "  - Returns all ratings for the item. Also includes comments when rated. See page parameter. The ratingcomments and comments parameters cannot be used together, as the output always appears in the \\<comments\\> node of the XML; comments parameter takes precedence if both are specified. Ratings are sorted in descending rating value, based on the highest rating they have assigned to that item (each item in the collection can have a different rating).\n",
    "- page=NNN\t\t\n",
    "  - Defaults to 1, controls the page of data to see for historical info, comments, and ratings data.\n",
    "- pagesize=NNN\t\t\n",
    "  - Set the number of records to return in paging. Minimum is 10, maximum is 100.\n",
    "- from=YYYY-MM-DD\t\t\n",
    "  - Not currently supported.\n",
    "- to=YYYY-MM-DD\t\t\n",
    "  - Not currently supported."
   ]
  },
  {
   "cell_type": "markdown",
   "metadata": {},
   "source": [
    "# Get the id's of the top 2000 board games"
   ]
  },
  {
   "cell_type": "code",
   "execution_count": 2,
   "metadata": {
    "ExecuteTime": {
     "end_time": "2018-10-08T10:06:19.820250Z",
     "start_time": "2018-10-08T10:06:19.815249Z"
    },
    "init_cell": true
   },
   "outputs": [],
   "source": [
    "pg_gm_rnks = 'https://boardgamegeek.com/browse/boardgame/page/'"
   ]
  },
  {
   "cell_type": "code",
   "execution_count": 51,
   "metadata": {},
   "outputs": [],
   "source": [
    "pg_num = 1\n",
    "pg = request.urlopen(f'{pg_gm_rnks}{str(pg_num)}')\n",
    "soup = BeautifulSoup(pg, 'html.parser')"
   ]
  },
  {
   "cell_type": "code",
   "execution_count": 3,
   "metadata": {
    "ExecuteTime": {
     "end_time": "2018-10-08T10:06:19.894254Z",
     "start_time": "2018-10-08T10:06:19.822250Z"
    },
    "init_cell": true
   },
   "outputs": [],
   "source": [
    "def extract_gm_id(soup):\n",
    "    rows = soup.find('div', {'id': 'collection'}).find_all('tr')[1:]\n",
    "    id_list = []\n",
    "    for row in rows:\n",
    "        id_list.append(int(row.find_all('a')[1]['href'].split('/')[2]))\n",
    "    return id_list"
   ]
  },
  {
   "cell_type": "code",
   "execution_count": 4,
   "metadata": {
    "ExecuteTime": {
     "end_time": "2018-10-08T10:06:46.147756Z",
     "start_time": "2018-10-08T10:06:19.896254Z"
    },
    "init_cell": true
   },
   "outputs": [],
   "source": [
    "gm_ids = []\n",
    "for pg_num in range(1,21):\n",
    "    pg = request.urlopen(f'{pg_gm_rnks}{str(pg_num)}')\n",
    "    soup = BeautifulSoup(pg, 'html.parser')\n",
    "    gm_ids += extract_gm_id(soup)"
   ]
  },
  {
   "cell_type": "code",
   "execution_count": 6,
   "metadata": {
    "ExecuteTime": {
     "end_time": "2018-10-07T13:36:17.185115Z",
     "start_time": "2018-10-07T13:36:17.168114Z"
    }
   },
   "outputs": [
    {
     "data": {
      "text/plain": [
       "2000"
      ]
     },
     "execution_count": 6,
     "metadata": {},
     "output_type": "execute_result"
    }
   ],
   "source": [
    "len(gm_ids)"
   ]
  },
  {
   "cell_type": "markdown",
   "metadata": {},
   "source": [
    "# Extract the info for each game"
   ]
  },
  {
   "cell_type": "code",
   "execution_count": 57,
   "metadata": {},
   "outputs": [],
   "source": [
    "bs_pg = 'https://www.boardgamegeek.com/xmlapi2/'"
   ]
  },
  {
   "cell_type": "markdown",
   "metadata": {},
   "source": [
    "## Using the extracted game id's"
   ]
  },
  {
   "cell_type": "code",
   "execution_count": 129,
   "metadata": {},
   "outputs": [],
   "source": [
    "bs_pg_gm = f'{bs_pg}thing?type=boardgame&stats=1&ratingcomments=1&page=1&pagesize=10&id='"
   ]
  },
  {
   "cell_type": "code",
   "execution_count": 139,
   "metadata": {},
   "outputs": [],
   "source": [
    "def extract_game_item(item):\n",
    "    gm_dict = {}\n",
    "    field_int = ['yearpublished', 'minplayers', 'maxplayers', 'playingtime', 'minplaytime', 'maxplaytime', 'minage']\n",
    "    field_categ = ['boardgamecategory', 'boardgamemechanic', 'boardgamefamily','boardgamedesigner', 'boardgameartist', 'boardgamepublisher']\n",
    "    field_rank = [x['friendlyname'] for x in item.find_all('rank')]\n",
    "    field_stats = ['usersrated', 'average', 'bayesaverage', 'stddev', 'median', 'owned', 'trading', 'wanting', 'wishing', 'numcomments', 'numweights', 'averageweight']\n",
    "    gm_dict['name'] = item.find('name')['value']\n",
    "    gm_dict['id'] = item['id']\n",
    "    gm_dict['num_of_rankings'] = int(item.find('comments')['totalitems'])\n",
    "    for i in field_int:\n",
    "        field_val = item.find(i)\n",
    "        if field_val is None:\n",
    "            gm_dict[i] = -1\n",
    "        else:\n",
    "            gm_dict[i] = int(field_val['value'])\n",
    "    for i in field_categ:\n",
    "        gm_dict[i] = [x['value'] for x in item.find_all('link',{'type':i})]\n",
    "    for i in field_rank:\n",
    "        field_val = item.find('rank',{'friendlyname':i})\n",
    "        if field_val is None or field_val['value'] == 'Not Ranked':\n",
    "            gm_dict[i.replace(' ','')] = -1\n",
    "        else:\n",
    "            gm_dict[i.replace(' ','')] = int(field_val['value'])\n",
    "    for i in field_stats:\n",
    "        field_val = item.find(i)\n",
    "        if field_val is None:\n",
    "            gm_dict[i] = -1\n",
    "        else:\n",
    "            gm_dict[i] = float(field_val['value'])\n",
    "    return gm_dict"
   ]
  },
  {
   "cell_type": "code",
   "execution_count": 144,
   "metadata": {},
   "outputs": [],
   "source": [
    "aa = f'{bs_pg_gm}{str(idx)}'"
   ]
  },
  {
   "cell_type": "code",
   "execution_count": 148,
   "metadata": {},
   "outputs": [],
   "source": [
    "gm_list = []\n",
    "idx_split = 4\n",
    "idx_size = int(len(gm_ids)/idx_split)\n",
    "for i in range(idx_split):\n",
    "    idx = str(gm_ids[i*idx_size:(i+1)*idx_size]).replace(' ','')[1:-1]   \n",
    "    pg = request.urlopen(f'{bs_pg_gm}{str(idx)}')\n",
    "    xsoup = BeautifulSoup(pg, 'xml')\n",
    "    gm_list += [extract_game_item(x) for x in xsoup.find_all('item')]\n",
    "df = pd.DataFrame(gm_list)"
   ]
  },
  {
   "cell_type": "code",
   "execution_count": 150,
   "metadata": {
    "scrolled": true
   },
   "outputs": [],
   "source": [
    "df.to_csv(f'../data/bgg_top{len(gm_ids)}_{str(datetime.now().date())}.csv', index=False)"
   ]
  },
  {
   "cell_type": "code",
   "execution_count": 149,
   "metadata": {},
   "outputs": [
    {
     "data": {
      "text/plain": [
       "(2000, 38)"
      ]
     },
     "execution_count": 149,
     "metadata": {},
     "output_type": "execute_result"
    }
   ],
   "source": [
    "df.shape"
   ]
  },
  {
   "cell_type": "markdown",
   "metadata": {},
   "source": [
    "## Iterating through every possible id"
   ]
  },
  {
   "cell_type": "markdown",
   "metadata": {},
   "source": [
    "You can't get games by bgg ranking, so I will go through every game, extract their info and then go back and extract info based on rank"
   ]
  },
  {
   "cell_type": "code",
   "execution_count": 11,
   "metadata": {},
   "outputs": [],
   "source": [
    "bs_pg_gm = f'{bs_pg}thing?type=boardgame&stats=1&id='"
   ]
  },
  {
   "cell_type": "code",
   "execution_count": 136,
   "metadata": {},
   "outputs": [],
   "source": [
    "!ls '../data/'"
   ]
  },
  {
   "cell_type": "code",
   "execution_count": 73,
   "metadata": {},
   "outputs": [],
   "source": [
    "def extract_game_data(soup):\n",
    "    gm_dict = {}\n",
    "    field_int = ['yearpublished', 'minplayers', 'maxplayers', 'playingtime', 'minplaytime', 'maxplaytime', 'minage']\n",
    "    field_categ = ['boardgamecategory', 'boardgamemechanic', 'boardgamefamily','boardgamedesigner', 'boardgameartist', 'boardgamepublisher']\n",
    "    field_rank = [x['friendlyname'] for x in soup.find_all('rank')]\n",
    "    field_stats = ['usersrated', 'average', 'bayesaverage', 'stddev', 'median', 'owned', 'trading', 'wanting', 'wishing', 'numcomments', 'numweights', 'averageweight']\n",
    "    gm_dict['name'] = soup.find('name')['value']\n",
    "    gm_dict['id'] = soup.find('item')['id']\n",
    "    for i in field_int:\n",
    "        field_val = soup.find(i)\n",
    "        if field_val is None:\n",
    "            gm_dict[i] = -1\n",
    "        else:\n",
    "            gm_dict[i] = int(field_val['value'])\n",
    "    for i in field_categ:\n",
    "        gm_dict[i] = [x['value'] for x in soup.find_all('link',{'type':i})]\n",
    "    for i in field_rank:\n",
    "        field_val = soup.find('rank',{'friendlyname':i})\n",
    "        if field_val is None:\n",
    "            gm_dict[i] = -1\n",
    "        else:\n",
    "            gm_dict[i] = int(field_val['value'])\n",
    "    for i in field_stats:\n",
    "        field_val = soup.find(i)\n",
    "        if field_val is None:\n",
    "            gm_dict[i] = -1\n",
    "        else:\n",
    "            gm_dict[i] = float(field_val['value'])\n",
    "    return gm_dict"
   ]
  },
  {
   "cell_type": "code",
   "execution_count": 184,
   "metadata": {},
   "outputs": [],
   "source": [
    "def extract_game_item(item):\n",
    "    gm_dict = {}\n",
    "    field_int = ['yearpublished', 'minplayers', 'maxplayers', 'playingtime', 'minplaytime', 'maxplaytime', 'minage']\n",
    "    field_categ = ['boardgamecategory', 'boardgamemechanic', 'boardgamefamily','boardgamedesigner', 'boardgameartist', 'boardgamepublisher']\n",
    "    field_rank = [x['friendlyname'] for x in item.find_all('rank')]\n",
    "    field_stats = ['usersrated', 'average', 'bayesaverage', 'stddev', 'median', 'owned', 'trading', 'wanting', 'wishing', 'numcomments', 'numweights', 'averageweight']\n",
    "    gm_dict['name'] = item.find('name')['value']\n",
    "    gm_dict['id'] = item['id']\n",
    "    for i in field_int:\n",
    "        field_val = item.find(i)\n",
    "        if field_val is None:\n",
    "            gm_dict[i] = -1\n",
    "        else:\n",
    "            gm_dict[i] = int(field_val['value'])\n",
    "    for i in field_categ:\n",
    "        gm_dict[i] = [x['value'] for x in item.find_all('link',{'type':i})]\n",
    "    for i in field_rank:\n",
    "        field_val = item.find('rank',{'friendlyname':i})\n",
    "        if field_val is None or field_val['value'] == 'Not Ranked':\n",
    "            gm_dict[i.replace(' ','')] = -1\n",
    "        else:\n",
    "            gm_dict[i.replace(' ','')] = int(field_val['value'])\n",
    "    for i in field_stats:\n",
    "        field_val = item.find(i)\n",
    "        if field_val is None:\n",
    "            gm_dict[i] = -1\n",
    "        else:\n",
    "            gm_dict[i] = float(field_val['value'])\n",
    "    return gm_dict"
   ]
  },
  {
   "cell_type": "code",
   "execution_count": 181,
   "metadata": {},
   "outputs": [],
   "source": [
    "gm_list = []"
   ]
  },
  {
   "cell_type": "code",
   "execution_count": 149,
   "metadata": {},
   "outputs": [
    {
     "name": "stdout",
     "output_type": "stream",
     "text": [
      "CPU times: user 40.3 s, sys: 188 ms, total: 40.5 s\n",
      "Wall time: 1min 3s\n"
     ]
    }
   ],
   "source": [
    "idx_start = 0\n",
    "idx_dist = 1000\n",
    "idx = str(tuple(range(idx_start, idx_start+idx_dist))).replace(' ','')[1:-1]\n",
    "pg = request.urlopen(f'{bs_pg_gm}{str(idx)}')\n",
    "soup = BeautifulSoup(pg, 'xml')\n",
    "gm_list += [extract_game_item(x) for x in soup.find_all('item')]"
   ]
  },
  {
   "cell_type": "code",
   "execution_count": null,
   "metadata": {
    "scrolled": true
   },
   "outputs": [],
   "source": [
    "gm_list = []\n",
    "idx_dist = 10**3\n",
    "idx_max = 10**5\n",
    "for idx_start in range(0,idx_max,idx_dist):    \n",
    "    idx = str(tuple(range(idx_start, idx_start+idx_dist))).replace(' ','')[1:-1]\n",
    "    pg = request.urlopen(f'{bs_pg_gm}{str(idx)}')\n",
    "    soup = BeautifulSoup(pg, 'xml')\n",
    "    gm_list += [extract_game_item(x) for x in soup.find_all('item')]\n",
    "    df = pd.DataFrame(gm_list)\n",
    "    if idx_start > 0:\n",
    "        copyfile('../data/all_game_data.csv','../data/all_game_data_backup.csv')\n",
    "    df.to_csv('../data/all_game_data.csv', index=False)\n",
    "    print(idx_start+idx_dist, len(gm_list), str(datetime.now().time())[:8])"
   ]
  },
  {
   "cell_type": "markdown",
   "metadata": {},
   "source": [
    "# Get the users and ratings for each game"
   ]
  },
  {
   "cell_type": "markdown",
   "metadata": {},
   "source": [
    "Order the games by the total number of comments and then group them togather in groups of 200"
   ]
  },
  {
   "cell_type": "code",
   "execution_count": 10,
   "metadata": {
    "ExecuteTime": {
     "end_time": "2018-10-07T13:38:17.704987Z",
     "start_time": "2018-10-07T13:38:17.698987Z"
    }
   },
   "outputs": [],
   "source": [
    "# df = pd.read_csv('../data/bgg_top2000_2018-10-06.csv')\n",
    "id_by_num_of_rankings = df.loc[df.num_of_rankings.sort_values().index,'id'].astype(int).tolist()"
   ]
  },
  {
   "cell_type": "code",
   "execution_count": 30,
   "metadata": {
    "ExecuteTime": {
     "end_time": "2018-10-07T13:55:06.359006Z",
     "start_time": "2018-10-07T13:55:06.344005Z"
    }
   },
   "outputs": [],
   "source": [
    "all_game_dict = {}"
   ]
  },
  {
   "cell_type": "code",
   "execution_count": 37,
   "metadata": {
    "ExecuteTime": {
     "end_time": "2018-10-07T20:31:07.560572Z",
     "start_time": "2018-10-07T16:08:08.751076Z"
    }
   },
   "outputs": [
    {
     "name": "stdout",
     "output_type": "stream",
     "text": [
      "1550 2008126 12:08:08\n",
      "1575 2014672 12:10:45\n",
      "1600 2031252 12:13:46\n",
      "1625 2177285 12:19:50\n",
      "1650 2334238 12:25:59\n",
      "1675 2502166 12:32:34\n",
      "1700 2680657 12:39:33\n",
      "1725 2868930 12:47:12\n",
      "1750 3071828 12:55:44\n",
      "1775 3295446 13:05:09\n",
      "1800 3542580 13:16:22\n",
      "1825 3815879 13:29:22\n",
      "1850 4123695 13:44:43\n",
      "1875 4462964 14:02:17\n",
      "1900 4848207 14:25:24\n",
      "1925 5290386 14:53:00\n",
      "1950 5830990 15:31:07\n",
      "1975 6513175 16:31:07\n"
     ]
    },
    {
     "ename": "IndexError",
     "evalue": "list index out of range",
     "output_type": "error",
     "traceback": [
      "\u001b[1;31m---------------------------------------------------------------------------\u001b[0m",
      "\u001b[1;31mIndexError\u001b[0m                                Traceback (most recent call last)",
      "\u001b[1;32m<ipython-input-37-43b55453dbf5>\u001b[0m in \u001b[0;36m<module>\u001b[1;34m\u001b[0m\n\u001b[0;32m      5\u001b[0m     \u001b[0midx\u001b[0m \u001b[1;33m=\u001b[0m \u001b[0mstr\u001b[0m\u001b[1;33m(\u001b[0m\u001b[0mid_by_num_of_rankings\u001b[0m\u001b[1;33m[\u001b[0m\u001b[0midx_start\u001b[0m\u001b[1;33m:\u001b[0m\u001b[0midx_start\u001b[0m\u001b[1;33m+\u001b[0m\u001b[0midx_dist\u001b[0m\u001b[1;33m]\u001b[0m\u001b[1;33m)\u001b[0m\u001b[1;33m.\u001b[0m\u001b[0mreplace\u001b[0m\u001b[1;33m(\u001b[0m\u001b[1;34m' '\u001b[0m\u001b[1;33m,\u001b[0m\u001b[1;34m''\u001b[0m\u001b[1;33m)\u001b[0m\u001b[1;33m[\u001b[0m\u001b[1;36m1\u001b[0m\u001b[1;33m:\u001b[0m\u001b[1;33m-\u001b[0m\u001b[1;36m1\u001b[0m\u001b[1;33m]\u001b[0m\u001b[1;33m\u001b[0m\u001b[0m\n\u001b[0;32m      6\u001b[0m     \u001b[0mpg_ct\u001b[0m \u001b[1;33m=\u001b[0m \u001b[1;36m1\u001b[0m\u001b[1;33m\u001b[0m\u001b[0m\n\u001b[1;32m----> 7\u001b[1;33m     \u001b[0mcomments_total\u001b[0m \u001b[1;33m=\u001b[0m \u001b[0mdf\u001b[0m\u001b[1;33m.\u001b[0m\u001b[0mloc\u001b[0m\u001b[1;33m[\u001b[0m\u001b[0mdf\u001b[0m\u001b[1;33m.\u001b[0m\u001b[0mid\u001b[0m\u001b[1;33m==\u001b[0m\u001b[0mid_by_num_of_rankings\u001b[0m\u001b[1;33m[\u001b[0m\u001b[0midx_start\u001b[0m\u001b[1;33m+\u001b[0m\u001b[0midx_dist\u001b[0m\u001b[1;33m]\u001b[0m\u001b[1;33m,\u001b[0m\u001b[1;34m'num_of_rankings'\u001b[0m\u001b[1;33m]\u001b[0m\u001b[1;33m.\u001b[0m\u001b[0miloc\u001b[0m\u001b[1;33m[\u001b[0m\u001b[1;36m0\u001b[0m\u001b[1;33m]\u001b[0m\u001b[1;33m\u001b[0m\u001b[0m\n\u001b[0m\u001b[0;32m      8\u001b[0m     \u001b[0mpg\u001b[0m \u001b[1;33m=\u001b[0m \u001b[0mrequest\u001b[0m\u001b[1;33m.\u001b[0m\u001b[0murlopen\u001b[0m\u001b[1;33m(\u001b[0m\u001b[1;34mf'{bs_comments}id={idx}&page={pg_ct}'\u001b[0m\u001b[1;33m)\u001b[0m\u001b[1;33m\u001b[0m\u001b[0m\n\u001b[0;32m      9\u001b[0m     \u001b[0mcsoup\u001b[0m \u001b[1;33m=\u001b[0m \u001b[0mBeautifulSoup\u001b[0m\u001b[1;33m(\u001b[0m\u001b[0mpg\u001b[0m\u001b[1;33m,\u001b[0m \u001b[1;34m'xml'\u001b[0m\u001b[1;33m)\u001b[0m\u001b[1;33m\u001b[0m\u001b[0m\n",
      "\u001b[1;31mIndexError\u001b[0m: list index out of range"
     ]
    }
   ],
   "source": [
    "bs_comments = 'https://www.boardgamegeek.com/xmlapi2/thing?ratingcomments=1&' \n",
    "idx_dist = 25\n",
    "for idx_start in range(1550,len(id_by_num_of_rankings),idx_dist):\n",
    "    print(idx_start, sum(len(all_game_dict[x]) for x in all_game_dict.keys()), str(datetime.now().time())[:8])\n",
    "    idx = str(id_by_num_of_rankings[idx_start:idx_start+idx_dist]).replace(' ','')[1:-1]\n",
    "    pg_ct = 1\n",
    "    comments_total = df.loc[df.id==id_by_num_of_rankings[idx_start+idx_dist],'num_of_rankings'].iloc[0]\n",
    "    pg = request.urlopen(f'{bs_comments}id={idx}&page={pg_ct}')\n",
    "    csoup = BeautifulSoup(pg, 'xml')\n",
    "    for idx2, item in enumerate(csoup.find_all('comments')):\n",
    "        all_game_dict[id_by_num_of_rankings[idx_start+idx2]] = {x['username']:x['rating'] for x in item.find_all('comment')}\n",
    "    while pg_ct*100 < comments_total:\n",
    "        pg_ct += 1\n",
    "        pg = request.urlopen(f'{bs_comments}id={idx}&page={pg_ct}')\n",
    "        csoup = BeautifulSoup(pg, 'xml')\n",
    "        for idx2, item in enumerate(csoup.find_all('comments')):\n",
    "            dict_loc = id_by_num_of_rankings[idx_start+idx2]\n",
    "            if item.find_all('comment') is not None:\n",
    "                all_game_dict[dict_loc].update({x['username']:x['rating'] for x in item.find_all('comment')})\n",
    "        time.sleep(2)\n",
    "    with open('../data/all_game_dict_v3.json', 'w') as fp:\n",
    "        json.dump(all_game_dict, fp)    "
   ]
  },
  {
   "cell_type": "code",
   "execution_count": 58,
   "metadata": {
    "ExecuteTime": {
     "end_time": "2018-10-08T02:38:59.135994Z",
     "start_time": "2018-10-08T02:38:59.130994Z"
    }
   },
   "outputs": [],
   "source": [
    "algd_keys = list(all_game_dict.keys())\n",
    "dict_small = {x:all_game_dict[x] for x in algd_keys[:500]}"
   ]
  },
  {
   "cell_type": "code",
   "execution_count": 59,
   "metadata": {
    "ExecuteTime": {
     "end_time": "2018-10-08T02:39:14.926897Z",
     "start_time": "2018-10-08T02:39:00.833091Z"
    }
   },
   "outputs": [],
   "source": [
    "df2 = pd.DataFrame(dict_small)"
   ]
  },
  {
   "cell_type": "code",
   "execution_count": 60,
   "metadata": {
    "ExecuteTime": {
     "end_time": "2018-10-08T02:39:28.733687Z",
     "start_time": "2018-10-08T02:39:25.434498Z"
    }
   },
   "outputs": [
    {
     "data": {
      "text/plain": [
       "((154776, 500), (5970, 500))"
      ]
     },
     "execution_count": 60,
     "metadata": {},
     "output_type": "execute_result"
    }
   ],
   "source": [
    "df3 = df2.dropna(thresh=50)\n",
    "df2.shape, df3.shape"
   ]
  },
  {
   "cell_type": "code",
   "execution_count": 55,
   "metadata": {
    "ExecuteTime": {
     "end_time": "2018-10-08T02:34:45.094464Z",
     "start_time": "2018-10-08T02:34:45.086463Z"
    }
   },
   "outputs": [
    {
     "data": {
      "text/plain": [
       "((73528, 100), (4337, 100))"
      ]
     },
     "execution_count": 55,
     "metadata": {},
     "output_type": "execute_result"
    }
   ],
   "source": [
    "df2.shape, df3.shape"
   ]
  },
  {
   "cell_type": "code",
   "execution_count": 215,
   "metadata": {},
   "outputs": [],
   "source": [
    "all_game_dict2[dict_loc].update({})"
   ]
  },
  {
   "cell_type": "code",
   "execution_count": 213,
   "metadata": {},
   "outputs": [
    {
     "data": {
      "text/plain": [
       "dict_keys([63170])"
      ]
     },
     "execution_count": 213,
     "metadata": {},
     "output_type": "execute_result"
    }
   ],
   "source": [
    "all_game_dict2.keys()"
   ]
  },
  {
   "cell_type": "code",
   "execution_count": 219,
   "metadata": {},
   "outputs": [
    {
     "data": {
      "text/plain": [
       "198"
      ]
     },
     "execution_count": 219,
     "metadata": {},
     "output_type": "execute_result"
    }
   ],
   "source": [
    "len(all_game_dict2[63170])"
   ]
  },
  {
   "cell_type": "code",
   "execution_count": null,
   "metadata": {
    "scrolled": true
   },
   "outputs": [],
   "source": [
    "bs_comments = 'https://www.boardgamegeek.com/xmlapi2/thing?ratingcomments=1&' \n",
    "\n",
    "# gm_id_lookup = gm_ids[0]\n",
    "for gm_id_lookup in gm_ids[2:10]:\n",
    "    pg_ct = 1\n",
    "    pg = request.urlopen(f'{bs_comments}id={gm_id_lookup}&page={pg_ct}')\n",
    "    csoup = BeautifulSoup(pg, 'xml')\n",
    "    comments_total = int(csoup.find('comments')['totalitems'])\n",
    "    gm_comment_dict = {x['username']:x['rating'] for x in csoup.find_all('comment')}\n",
    "    while pg_ct*100 < comments_total:\n",
    "        pg_ct += 1\n",
    "        pg = request.urlopen(f'{bs_comments}id={gm_id_lookup}&page={pg_ct}')\n",
    "        csoup = BeautifulSoup(pg, 'xml')\n",
    "        gm_comment_dict.update({x['username']:x['rating'] for x in csoup.find_all('comment')})\n",
    "        time.sleep(2)\n",
    "        if pg_ct*100%10**3 == 0:\n",
    "            print(gm_id_lookup, pg_ct, str(datetime.now().time())[:8])\n",
    "    all_game_dict[gm_id_lookup] = gm_comment_dict"
   ]
  },
  {
   "cell_type": "code",
   "execution_count": 166,
   "metadata": {},
   "outputs": [],
   "source": [
    "with open('../data/all_game_dict.json', 'w') as fp:\n",
    "    json.dump(all_game_dict, fp)"
   ]
  },
  {
   "cell_type": "code",
   "execution_count": 103,
   "metadata": {},
   "outputs": [],
   "source": [
    "pg = request.urlopen(f'{bs_comments}id={gm_id_lookup}&page={str(pg_ct)}')\n",
    "csoup = BeautifulSoup(pg, 'xml')"
   ]
  },
  {
   "cell_type": "code",
   "execution_count": 105,
   "metadata": {},
   "outputs": [
    {
     "data": {
      "text/plain": [
       "'https://www.boardgamegeek.com/xmlapi2/thing?ratingcomments=1&id=174430&pg=2'"
      ]
     },
     "execution_count": 105,
     "metadata": {},
     "output_type": "execute_result"
    }
   ],
   "source": [
    "f'{bs_comments}id={gm_id_lookup}&pg={str(pg_ct)}'"
   ]
  },
  {
   "cell_type": "code",
   "execution_count": 98,
   "metadata": {},
   "outputs": [],
   "source": [
    "aa = {x['username']:x['rating'] for x in csoup.find_all('comment')}"
   ]
  },
  {
   "cell_type": "code",
   "execution_count": 107,
   "metadata": {},
   "outputs": [
    {
     "data": {
      "text/plain": [
       "200"
      ]
     },
     "execution_count": 107,
     "metadata": {},
     "output_type": "execute_result"
    }
   ],
   "source": [
    "len(gm_comment_dict)"
   ]
  },
  {
   "cell_type": "code",
   "execution_count": null,
   "metadata": {},
   "outputs": [],
   "source": [
    "comment_dict = {x['username']:x['rating'] for x in csoup.find_all('comment')}"
   ]
  }
 ],
 "metadata": {
  "kernelspec": {
   "display_name": "Python 3",
   "language": "python",
   "name": "python3"
  },
  "language_info": {
   "codemirror_mode": {
    "name": "ipython",
    "version": 3
   },
   "file_extension": ".py",
   "mimetype": "text/x-python",
   "name": "python",
   "nbconvert_exporter": "python",
   "pygments_lexer": "ipython3",
   "version": "3.7.0"
  }
 },
 "nbformat": 4,
 "nbformat_minor": 2
}
