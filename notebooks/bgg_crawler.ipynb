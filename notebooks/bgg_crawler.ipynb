{
 "cells": [
  {
   "cell_type": "markdown",
   "metadata": {},
   "source": [
    "# Imports and Paths"
   ]
  },
  {
   "cell_type": "code",
   "execution_count": 5,
   "metadata": {
    "ExecuteTime": {
     "end_time": "2018-10-08T20:25:32.952906Z",
     "start_time": "2018-10-08T20:25:32.949906Z"
    },
    "init_cell": true
   },
   "outputs": [],
   "source": [
    "from urllib import request\n",
    "from bs4 import BeautifulSoup, Comment\n",
    "import pandas as pd\n",
    "from datetime import datetime\n",
    "from shutil import copyfile\n",
    "import time\n",
    "import json"
   ]
  },
  {
   "cell_type": "code",
   "execution_count": null,
   "metadata": {},
   "outputs": [],
   "source": [
    "PATH = '../data/'"
   ]
  },
  {
   "cell_type": "code",
   "execution_count": 4,
   "metadata": {},
   "outputs": [],
   "source": [
    "bs_pg = 'https://www.boardgamegeek.com/xmlapi2/'"
   ]
  },
  {
   "cell_type": "markdown",
   "metadata": {
    "heading_collapsed": true
   },
   "source": [
    "# XML2 API"
   ]
  },
  {
   "cell_type": "markdown",
   "metadata": {
    "hidden": true
   },
   "source": [
    "Base URI: /xmlapi2/thing?parameters\n",
    "- id=NNN\t\n",
    "  - Specifies the id of the thing(s) to retrieve. To request multiple things with a single query, NNN can specify a comma-delimited list of ids.\n",
    "- type=THINGTYPE\t\n",
    "  - Specifies that, regardless of the type of thing asked for by id, the results are filtered by the THINGTYPE(s) specified. Multiple THINGTYPEs can be specified in a comma-delimited list.\n",
    "- versions=1\t\n",
    "  - Returns version info for the item.\n",
    "- videos = 1\t\n",
    "  - Returns videos for the item.\n",
    "- stats=1\t\t\n",
    "  - Returns ranking and rating stats for the item.\n",
    "- historical=1\t\t\n",
    "  - Returns historical data over time. See page parameter.\n",
    "- marketplace=1\t\t\n",
    "  - Returns marketplace data.\n",
    "- comments=1\t\t\n",
    "  - Returns all comments about the item. Also includes ratings when commented. See page parameter.\n",
    "- ratingcomments=1\t\t\n",
    "  - Returns all ratings for the item. Also includes comments when rated. See page parameter. The ratingcomments and comments parameters cannot be used together, as the output always appears in the \\<comments\\> node of the XML; comments parameter takes precedence if both are specified. Ratings are sorted in descending rating value, based on the highest rating they have assigned to that item (each item in the collection can have a different rating).\n",
    "- page=NNN\t\t\n",
    "  - Defaults to 1, controls the page of data to see for historical info, comments, and ratings data.\n",
    "- pagesize=NNN\t\t\n",
    "  - Set the number of records to return in paging. Minimum is 10, maximum is 100.\n",
    "- from=YYYY-MM-DD\t\t\n",
    "  - Not currently supported.\n",
    "- to=YYYY-MM-DD\t\t\n",
    "  - Not currently supported."
   ]
  },
  {
   "cell_type": "markdown",
   "metadata": {},
   "source": [
    "# Get the id's of the top 2000 board games"
   ]
  },
  {
   "cell_type": "code",
   "execution_count": 2,
   "metadata": {
    "ExecuteTime": {
     "end_time": "2018-10-08T20:24:37.904757Z",
     "start_time": "2018-10-08T20:24:37.901757Z"
    },
    "init_cell": true
   },
   "outputs": [],
   "source": [
    "pg_gm_rnks = 'https://boardgamegeek.com/browse/boardgame/page/'"
   ]
  },
  {
   "cell_type": "code",
   "execution_count": 51,
   "metadata": {},
   "outputs": [],
   "source": [
    "pg_num = 1\n",
    "pg = request.urlopen(f'{pg_gm_rnks}{str(pg_num)}')\n",
    "soup = BeautifulSoup(pg, 'html.parser')"
   ]
  },
  {
   "cell_type": "code",
   "execution_count": 3,
   "metadata": {
    "ExecuteTime": {
     "end_time": "2018-10-08T20:24:37.913758Z",
     "start_time": "2018-10-08T20:24:37.906758Z"
    },
    "init_cell": true
   },
   "outputs": [],
   "source": [
    "def extract_gm_id(soup):\n",
    "    rows = soup.find('div', {'id': 'collection'}).find_all('tr')[1:]\n",
    "    id_list = []\n",
    "    for row in rows:\n",
    "        id_list.append(int(row.find_all('a')[1]['href'].split('/')[2]))\n",
    "    return id_list"
   ]
  },
  {
   "cell_type": "code",
   "execution_count": 4,
   "metadata": {
    "ExecuteTime": {
     "end_time": "2018-10-08T20:25:32.947906Z",
     "start_time": "2018-10-08T20:24:37.915758Z"
    },
    "init_cell": true
   },
   "outputs": [],
   "source": [
    "gm_ids = []\n",
    "for pg_num in range(1,21):\n",
    "    pg = request.urlopen(f'{pg_gm_rnks}{str(pg_num)}')\n",
    "    soup = BeautifulSoup(pg, 'html.parser')\n",
    "    gm_ids += extract_gm_id(soup)"
   ]
  },
  {
   "cell_type": "code",
   "execution_count": 6,
   "metadata": {
    "ExecuteTime": {
     "end_time": "2018-10-07T13:36:17.185115Z",
     "start_time": "2018-10-07T13:36:17.168114Z"
    }
   },
   "outputs": [
    {
     "data": {
      "text/plain": [
       "2000"
      ]
     },
     "execution_count": 6,
     "metadata": {},
     "output_type": "execute_result"
    }
   ],
   "source": [
    "len(gm_ids)"
   ]
  },
  {
   "cell_type": "markdown",
   "metadata": {},
   "source": [
    "# Extract the info for each game"
   ]
  },
  {
   "cell_type": "code",
   "execution_count": 57,
   "metadata": {},
   "outputs": [],
   "source": [
    "bs_pg = 'https://www.boardgamegeek.com/xmlapi2/'"
   ]
  },
  {
   "cell_type": "markdown",
   "metadata": {},
   "source": [
    "## Using the extracted game id's"
   ]
  },
  {
   "cell_type": "code",
   "execution_count": 129,
   "metadata": {},
   "outputs": [],
   "source": [
    "bs_pg_gm = f'{bs_pg}thing?type=boardgame&stats=1&ratingcomments=1&page=1&pagesize=10&id='"
   ]
  },
  {
   "cell_type": "code",
   "execution_count": 139,
   "metadata": {},
   "outputs": [],
   "source": [
    "def extract_game_item(item):\n",
    "    gm_dict = {}\n",
    "    field_int = ['yearpublished', 'minplayers', 'maxplayers', 'playingtime', 'minplaytime', 'maxplaytime', 'minage']\n",
    "    field_categ = ['boardgamecategory', 'boardgamemechanic', 'boardgamefamily','boardgamedesigner', 'boardgameartist', 'boardgamepublisher']\n",
    "    field_rank = [x['friendlyname'] for x in item.find_all('rank')]\n",
    "    field_stats = ['usersrated', 'average', 'bayesaverage', 'stddev', 'median', 'owned', 'trading', 'wanting', 'wishing', 'numcomments', 'numweights', 'averageweight']\n",
    "    gm_dict['name'] = item.find('name')['value']\n",
    "    gm_dict['id'] = item['id']\n",
    "    gm_dict['num_of_rankings'] = int(item.find('comments')['totalitems'])\n",
    "    for i in field_int:\n",
    "        field_val = item.find(i)\n",
    "        if field_val is None:\n",
    "            gm_dict[i] = -1\n",
    "        else:\n",
    "            gm_dict[i] = int(field_val['value'])\n",
    "    for i in field_categ:\n",
    "        gm_dict[i] = [x['value'] for x in item.find_all('link',{'type':i})]\n",
    "    for i in field_rank:\n",
    "        field_val = item.find('rank',{'friendlyname':i})\n",
    "        if field_val is None or field_val['value'] == 'Not Ranked':\n",
    "            gm_dict[i.replace(' ','')] = -1\n",
    "        else:\n",
    "            gm_dict[i.replace(' ','')] = int(field_val['value'])\n",
    "    for i in field_stats:\n",
    "        field_val = item.find(i)\n",
    "        if field_val is None:\n",
    "            gm_dict[i] = -1\n",
    "        else:\n",
    "            gm_dict[i] = float(field_val['value'])\n",
    "    return gm_dict"
   ]
  },
  {
   "cell_type": "code",
   "execution_count": 144,
   "metadata": {},
   "outputs": [],
   "source": [
    "aa = f'{bs_pg_gm}{str(idx)}'"
   ]
  },
  {
   "cell_type": "code",
   "execution_count": 148,
   "metadata": {},
   "outputs": [],
   "source": [
    "gm_list = []\n",
    "idx_split = 4\n",
    "idx_size = int(len(gm_ids)/idx_split)\n",
    "for i in range(idx_split):\n",
    "    idx = str(gm_ids[i*idx_size:(i+1)*idx_size]).replace(' ','')[1:-1]   \n",
    "    pg = request.urlopen(f'{bs_pg_gm}{str(idx)}')\n",
    "    xsoup = BeautifulSoup(pg, 'xml')\n",
    "    gm_list += [extract_game_item(x) for x in xsoup.find_all('item')]\n",
    "df = pd.DataFrame(gm_list)"
   ]
  },
  {
   "cell_type": "code",
   "execution_count": 150,
   "metadata": {
    "scrolled": true
   },
   "outputs": [],
   "source": [
    "df.to_csv(f'../data/bgg_top{len(gm_ids)}_{str(datetime.now().date())}.csv', index=False)"
   ]
  },
  {
   "cell_type": "code",
   "execution_count": 149,
   "metadata": {},
   "outputs": [
    {
     "data": {
      "text/plain": [
       "(2000, 38)"
      ]
     },
     "execution_count": 149,
     "metadata": {},
     "output_type": "execute_result"
    }
   ],
   "source": [
    "df.shape"
   ]
  },
  {
   "cell_type": "markdown",
   "metadata": {
    "heading_collapsed": true
   },
   "source": [
    "## Iterating through every possible id"
   ]
  },
  {
   "cell_type": "markdown",
   "metadata": {
    "hidden": true
   },
   "source": [
    "You can't get games by bgg ranking, so I will go through every game, extract their info and then go back and extract info based on rank"
   ]
  },
  {
   "cell_type": "code",
   "execution_count": 11,
   "metadata": {
    "hidden": true
   },
   "outputs": [],
   "source": [
    "bs_pg_gm = f'{bs_pg}thing?type=boardgame&stats=1&id='"
   ]
  },
  {
   "cell_type": "code",
   "execution_count": 136,
   "metadata": {
    "hidden": true
   },
   "outputs": [],
   "source": [
    "!ls '../data/'"
   ]
  },
  {
   "cell_type": "code",
   "execution_count": 73,
   "metadata": {
    "hidden": true
   },
   "outputs": [],
   "source": [
    "def extract_game_data(soup):\n",
    "    gm_dict = {}\n",
    "    field_int = ['yearpublished', 'minplayers', 'maxplayers', 'playingtime', 'minplaytime', 'maxplaytime', 'minage']\n",
    "    field_categ = ['boardgamecategory', 'boardgamemechanic', 'boardgamefamily','boardgamedesigner', 'boardgameartist', 'boardgamepublisher']\n",
    "    field_rank = [x['friendlyname'] for x in soup.find_all('rank')]\n",
    "    field_stats = ['usersrated', 'average', 'bayesaverage', 'stddev', 'median', 'owned', 'trading', 'wanting', 'wishing', 'numcomments', 'numweights', 'averageweight']\n",
    "    gm_dict['name'] = soup.find('name')['value']\n",
    "    gm_dict['id'] = soup.find('item')['id']\n",
    "    for i in field_int:\n",
    "        field_val = soup.find(i)\n",
    "        if field_val is None:\n",
    "            gm_dict[i] = -1\n",
    "        else:\n",
    "            gm_dict[i] = int(field_val['value'])\n",
    "    for i in field_categ:\n",
    "        gm_dict[i] = [x['value'] for x in soup.find_all('link',{'type':i})]\n",
    "    for i in field_rank:\n",
    "        field_val = soup.find('rank',{'friendlyname':i})\n",
    "        if field_val is None:\n",
    "            gm_dict[i] = -1\n",
    "        else:\n",
    "            gm_dict[i] = int(field_val['value'])\n",
    "    for i in field_stats:\n",
    "        field_val = soup.find(i)\n",
    "        if field_val is None:\n",
    "            gm_dict[i] = -1\n",
    "        else:\n",
    "            gm_dict[i] = float(field_val['value'])\n",
    "    return gm_dict"
   ]
  },
  {
   "cell_type": "code",
   "execution_count": 184,
   "metadata": {
    "hidden": true
   },
   "outputs": [],
   "source": [
    "def extract_game_item(item):\n",
    "    gm_dict = {}\n",
    "    field_int = ['yearpublished', 'minplayers', 'maxplayers', 'playingtime', 'minplaytime', 'maxplaytime', 'minage']\n",
    "    field_categ = ['boardgamecategory', 'boardgamemechanic', 'boardgamefamily','boardgamedesigner', 'boardgameartist', 'boardgamepublisher']\n",
    "    field_rank = [x['friendlyname'] for x in item.find_all('rank')]\n",
    "    field_stats = ['usersrated', 'average', 'bayesaverage', 'stddev', 'median', 'owned', 'trading', 'wanting', 'wishing', 'numcomments', 'numweights', 'averageweight']\n",
    "    gm_dict['name'] = item.find('name')['value']\n",
    "    gm_dict['id'] = item['id']\n",
    "    for i in field_int:\n",
    "        field_val = item.find(i)\n",
    "        if field_val is None:\n",
    "            gm_dict[i] = -1\n",
    "        else:\n",
    "            gm_dict[i] = int(field_val['value'])\n",
    "    for i in field_categ:\n",
    "        gm_dict[i] = [x['value'] for x in item.find_all('link',{'type':i})]\n",
    "    for i in field_rank:\n",
    "        field_val = item.find('rank',{'friendlyname':i})\n",
    "        if field_val is None or field_val['value'] == 'Not Ranked':\n",
    "            gm_dict[i.replace(' ','')] = -1\n",
    "        else:\n",
    "            gm_dict[i.replace(' ','')] = int(field_val['value'])\n",
    "    for i in field_stats:\n",
    "        field_val = item.find(i)\n",
    "        if field_val is None:\n",
    "            gm_dict[i] = -1\n",
    "        else:\n",
    "            gm_dict[i] = float(field_val['value'])\n",
    "    return gm_dict"
   ]
  },
  {
   "cell_type": "code",
   "execution_count": 181,
   "metadata": {
    "hidden": true
   },
   "outputs": [],
   "source": [
    "gm_list = []"
   ]
  },
  {
   "cell_type": "code",
   "execution_count": 149,
   "metadata": {
    "hidden": true
   },
   "outputs": [
    {
     "name": "stdout",
     "output_type": "stream",
     "text": [
      "CPU times: user 40.3 s, sys: 188 ms, total: 40.5 s\n",
      "Wall time: 1min 3s\n"
     ]
    }
   ],
   "source": [
    "idx_start = 0\n",
    "idx_dist = 1000\n",
    "idx = str(tuple(range(idx_start, idx_start+idx_dist))).replace(' ','')[1:-1]\n",
    "pg = request.urlopen(f'{bs_pg_gm}{str(idx)}')\n",
    "soup = BeautifulSoup(pg, 'xml')\n",
    "gm_list += [extract_game_item(x) for x in soup.find_all('item')]"
   ]
  },
  {
   "cell_type": "code",
   "execution_count": null,
   "metadata": {
    "hidden": true,
    "scrolled": true
   },
   "outputs": [],
   "source": [
    "gm_list = []\n",
    "idx_dist = 10**3\n",
    "idx_max = 10**5\n",
    "for idx_start in range(0,idx_max,idx_dist):    \n",
    "    idx = str(tuple(range(idx_start, idx_start+idx_dist))).replace(' ','')[1:-1]\n",
    "    pg = request.urlopen(f'{bs_pg_gm}{str(idx)}')\n",
    "    soup = BeautifulSoup(pg, 'xml')\n",
    "    gm_list += [extract_game_item(x) for x in soup.find_all('item')]\n",
    "    df = pd.DataFrame(gm_list)\n",
    "    if idx_start > 0:\n",
    "        copyfile('../data/all_game_data.csv','../data/all_game_data_backup.csv')\n",
    "    df.to_csv('../data/all_game_data.csv', index=False)\n",
    "    print(idx_start+idx_dist, len(gm_list), str(datetime.now().time())[:8])"
   ]
  },
  {
   "cell_type": "markdown",
   "metadata": {},
   "source": [
    "# Get the users and ratings for each game"
   ]
  },
  {
   "cell_type": "markdown",
   "metadata": {},
   "source": [
    "Order the games by the total number of comments and then group them togather in groups of 200"
   ]
  },
  {
   "cell_type": "code",
   "execution_count": 6,
   "metadata": {
    "ExecuteTime": {
     "end_time": "2018-10-08T20:25:56.281240Z",
     "start_time": "2018-10-08T20:25:56.080229Z"
    }
   },
   "outputs": [],
   "source": [
    "df = pd.read_csv('../data/bgg_top2000_2018-10-06.csv')\n",
    "id_by_num_of_rankings = df.loc[df.num_of_rankings.sort_values().index,'id'].astype(int).tolist()"
   ]
  },
  {
   "cell_type": "code",
   "execution_count": 7,
   "metadata": {
    "ExecuteTime": {
     "end_time": "2018-10-08T20:26:22.701751Z",
     "start_time": "2018-10-08T20:26:22.698751Z"
    }
   },
   "outputs": [],
   "source": [
    "all_game_dict = {}"
   ]
  },
  {
   "cell_type": "code",
   "execution_count": 11,
   "metadata": {
    "ExecuteTime": {
     "end_time": "2018-10-08T22:36:05.991930Z",
     "start_time": "2018-10-08T22:36:05.970929Z"
    }
   },
   "outputs": [
    {
     "data": {
      "text/plain": [
       "80386"
      ]
     },
     "execution_count": 11,
     "metadata": {},
     "output_type": "execute_result"
    }
   ],
   "source": [
    "comments_total"
   ]
  },
  {
   "cell_type": "code",
   "execution_count": 12,
   "metadata": {
    "ExecuteTime": {
     "end_time": "2018-10-08T22:36:23.486931Z",
     "start_time": "2018-10-08T22:36:23.476930Z"
    }
   },
   "outputs": [
    {
     "data": {
      "text/plain": [
       "[32562,\n",
       " 32869,\n",
       " 33158,\n",
       " 33283,\n",
       " 34920,\n",
       " 35921,\n",
       " 35922,\n",
       " 38381,\n",
       " 38746,\n",
       " 40723,\n",
       " 42102,\n",
       " 43678,\n",
       " 43210,\n",
       " 43912,\n",
       " 44012,\n",
       " 44034,\n",
       " 44042,\n",
       " 43980,\n",
       " 44001,\n",
       " 44055,\n",
       " 44056,\n",
       " 43991,\n",
       " 43982,\n",
       " 43960,\n",
       " 43879]"
      ]
     },
     "execution_count": 12,
     "metadata": {},
     "output_type": "execute_result"
    }
   ],
   "source": [
    "[len(all_game_dict[x]) for x in all_game_dict.keys()]"
   ]
  },
  {
   "cell_type": "code",
   "execution_count": 14,
   "metadata": {
    "ExecuteTime": {
     "end_time": "2018-10-08T22:37:23.145343Z",
     "start_time": "2018-10-08T22:37:23.141343Z"
    }
   },
   "outputs": [
    {
     "data": {
      "text/plain": [
       "Index(['AbstractGameRank', 'BoardGameRank', 'Children'sGameRank',\n",
       "       'CustomizableRank', 'FamilyGameRank', 'PartyGameRank', 'RPGItemRank',\n",
       "       'StrategyGameRank', 'ThematicRank', 'WarGameRank', 'average',\n",
       "       'averageweight', 'bayesaverage', 'boardgameartist', 'boardgamecategory',\n",
       "       'boardgamedesigner', 'boardgamefamily', 'boardgamemechanic',\n",
       "       'boardgamepublisher', 'id', 'maxplayers', 'maxplaytime', 'median',\n",
       "       'minage', 'minplayers', 'minplaytime', 'name', 'num_of_rankings',\n",
       "       'numcomments', 'numweights', 'owned', 'playingtime', 'stddev',\n",
       "       'trading', 'usersrated', 'wanting', 'wishing', 'yearpublished'],\n",
       "      dtype='object')"
      ]
     },
     "execution_count": 14,
     "metadata": {},
     "output_type": "execute_result"
    }
   ],
   "source": [
    "df.columns"
   ]
  },
  {
   "cell_type": "code",
   "execution_count": 15,
   "metadata": {
    "ExecuteTime": {
     "end_time": "2018-10-08T22:37:31.348812Z",
     "start_time": "2018-10-08T22:37:31.328811Z"
    }
   },
   "outputs": [
    {
     "data": {
      "text/plain": [
       "6      32676\n",
       "602    32948\n",
       "244    33294\n",
       "10     33409\n",
       "11     34993\n",
       "52     36021\n",
       "78     36061\n",
       "199    38495\n",
       "46     38952\n",
       "119    40870\n",
       "330    42294\n",
       "91     43792\n",
       "217    44846\n",
       "47     45233\n",
       "231    45340\n",
       "33     47926\n",
       "190    50867\n",
       "14     54243\n",
       "18     54923\n",
       "128    56974\n",
       "42     63987\n",
       "72     65009\n",
       "73     77430\n",
       "136    79839\n",
       "292    80386\n",
       "Name: num_of_rankings, dtype: int64"
      ]
     },
     "execution_count": 15,
     "metadata": {},
     "output_type": "execute_result"
    }
   ],
   "source": [
    "df.loc[df.num_of_rankings.sort_values().index,'num_of_rankings'].tail(25)"
   ]
  },
  {
   "cell_type": "code",
   "execution_count": 16,
   "metadata": {
    "ExecuteTime": {
     "end_time": "2018-10-08T22:39:45.191468Z",
     "start_time": "2018-10-08T22:39:40.815217Z"
    }
   },
   "outputs": [],
   "source": [
    "with open('../data/all_game_dict_v4.json', 'w') as fp:\n",
    "    json.dump(all_game_dict, fp)"
   ]
  },
  {
   "cell_type": "code",
   "execution_count": 17,
   "metadata": {
    "ExecuteTime": {
     "end_time": "2018-10-08T22:39:56.367107Z",
     "start_time": "2018-10-08T22:39:56.361107Z"
    }
   },
   "outputs": [
    {
     "data": {
      "text/plain": [
       "443"
      ]
     },
     "execution_count": 17,
     "metadata": {},
     "output_type": "execute_result"
    }
   ],
   "source": [
    "pg_ct"
   ]
  },
  {
   "cell_type": "code",
   "execution_count": 10,
   "metadata": {
    "ExecuteTime": {
     "end_time": "2018-10-08T22:31:02.965598Z",
     "start_time": "2018-10-08T20:27:00.824932Z"
    }
   },
   "outputs": [
    {
     "name": "stdout",
     "output_type": "stream",
     "text": [
      "1975 0 16:27:00\n"
     ]
    },
    {
     "ename": "ConnectionResetError",
     "evalue": "[WinError 10054] An existing connection was forcibly closed by the remote host",
     "output_type": "error",
     "traceback": [
      "\u001b[1;31m---------------------------------------------------------------------------\u001b[0m",
      "\u001b[1;31mConnectionResetError\u001b[0m                      Traceback (most recent call last)",
      "\u001b[1;32m<ipython-input-10-ff1fa3e50d09>\u001b[0m in \u001b[0;36m<module>\u001b[1;34m\u001b[0m\n\u001b[0;32m     13\u001b[0m         \u001b[0mpg_ct\u001b[0m \u001b[1;33m+=\u001b[0m \u001b[1;36m1\u001b[0m\u001b[1;33m\u001b[0m\u001b[0m\n\u001b[0;32m     14\u001b[0m         \u001b[0mpg\u001b[0m \u001b[1;33m=\u001b[0m \u001b[0mrequest\u001b[0m\u001b[1;33m.\u001b[0m\u001b[0murlopen\u001b[0m\u001b[1;33m(\u001b[0m\u001b[1;34mf'{bs_comments}id={idx}&page={pg_ct}'\u001b[0m\u001b[1;33m)\u001b[0m\u001b[1;33m\u001b[0m\u001b[0m\n\u001b[1;32m---> 15\u001b[1;33m         \u001b[0mcsoup\u001b[0m \u001b[1;33m=\u001b[0m \u001b[0mBeautifulSoup\u001b[0m\u001b[1;33m(\u001b[0m\u001b[0mpg\u001b[0m\u001b[1;33m,\u001b[0m \u001b[1;34m'xml'\u001b[0m\u001b[1;33m)\u001b[0m\u001b[1;33m\u001b[0m\u001b[0m\n\u001b[0m\u001b[0;32m     16\u001b[0m         \u001b[1;32mfor\u001b[0m \u001b[0midx2\u001b[0m\u001b[1;33m,\u001b[0m \u001b[0mitem\u001b[0m \u001b[1;32min\u001b[0m \u001b[0menumerate\u001b[0m\u001b[1;33m(\u001b[0m\u001b[0mcsoup\u001b[0m\u001b[1;33m.\u001b[0m\u001b[0mfind_all\u001b[0m\u001b[1;33m(\u001b[0m\u001b[1;34m'comments'\u001b[0m\u001b[1;33m)\u001b[0m\u001b[1;33m)\u001b[0m\u001b[1;33m:\u001b[0m\u001b[1;33m\u001b[0m\u001b[0m\n\u001b[0;32m     17\u001b[0m             \u001b[0mdict_loc\u001b[0m \u001b[1;33m=\u001b[0m \u001b[0mid_by_num_of_rankings\u001b[0m\u001b[1;33m[\u001b[0m\u001b[0midx_start\u001b[0m\u001b[1;33m+\u001b[0m\u001b[0midx2\u001b[0m\u001b[1;33m]\u001b[0m\u001b[1;33m\u001b[0m\u001b[0m\n",
      "\u001b[1;32mf:\\miniconda3\\envs\\bgg\\lib\\site-packages\\bs4\\__init__.py\u001b[0m in \u001b[0;36m__init__\u001b[1;34m(self, markup, features, builder, parse_only, from_encoding, exclude_encodings, **kwargs)\u001b[0m\n\u001b[0;32m    243\u001b[0m \u001b[1;33m\u001b[0m\u001b[0m\n\u001b[0;32m    244\u001b[0m         \u001b[1;32mif\u001b[0m \u001b[0mhasattr\u001b[0m\u001b[1;33m(\u001b[0m\u001b[0mmarkup\u001b[0m\u001b[1;33m,\u001b[0m \u001b[1;34m'read'\u001b[0m\u001b[1;33m)\u001b[0m\u001b[1;33m:\u001b[0m        \u001b[1;31m# It's a file-type object.\u001b[0m\u001b[1;33m\u001b[0m\u001b[0m\n\u001b[1;32m--> 245\u001b[1;33m             \u001b[0mmarkup\u001b[0m \u001b[1;33m=\u001b[0m \u001b[0mmarkup\u001b[0m\u001b[1;33m.\u001b[0m\u001b[0mread\u001b[0m\u001b[1;33m(\u001b[0m\u001b[1;33m)\u001b[0m\u001b[1;33m\u001b[0m\u001b[0m\n\u001b[0m\u001b[0;32m    246\u001b[0m         elif len(markup) <= 256 and (\n\u001b[0;32m    247\u001b[0m                 \u001b[1;33m(\u001b[0m\u001b[0misinstance\u001b[0m\u001b[1;33m(\u001b[0m\u001b[0mmarkup\u001b[0m\u001b[1;33m,\u001b[0m \u001b[0mbytes\u001b[0m\u001b[1;33m)\u001b[0m \u001b[1;32mand\u001b[0m \u001b[1;32mnot\u001b[0m \u001b[1;34mb'<'\u001b[0m \u001b[1;32min\u001b[0m \u001b[0mmarkup\u001b[0m\u001b[1;33m)\u001b[0m\u001b[1;33m\u001b[0m\u001b[0m\n",
      "\u001b[1;32mf:\\miniconda3\\envs\\bgg\\lib\\http\\client.py\u001b[0m in \u001b[0;36mread\u001b[1;34m(self, amt)\u001b[0m\n\u001b[0;32m    452\u001b[0m \u001b[1;33m\u001b[0m\u001b[0m\n\u001b[0;32m    453\u001b[0m             \u001b[1;32mif\u001b[0m \u001b[0mself\u001b[0m\u001b[1;33m.\u001b[0m\u001b[0mchunked\u001b[0m\u001b[1;33m:\u001b[0m\u001b[1;33m\u001b[0m\u001b[0m\n\u001b[1;32m--> 454\u001b[1;33m                 \u001b[1;32mreturn\u001b[0m \u001b[0mself\u001b[0m\u001b[1;33m.\u001b[0m\u001b[0m_readall_chunked\u001b[0m\u001b[1;33m(\u001b[0m\u001b[1;33m)\u001b[0m\u001b[1;33m\u001b[0m\u001b[0m\n\u001b[0m\u001b[0;32m    455\u001b[0m \u001b[1;33m\u001b[0m\u001b[0m\n\u001b[0;32m    456\u001b[0m             \u001b[1;32mif\u001b[0m \u001b[0mself\u001b[0m\u001b[1;33m.\u001b[0m\u001b[0mlength\u001b[0m \u001b[1;32mis\u001b[0m \u001b[1;32mNone\u001b[0m\u001b[1;33m:\u001b[0m\u001b[1;33m\u001b[0m\u001b[0m\n",
      "\u001b[1;32mf:\\miniconda3\\envs\\bgg\\lib\\http\\client.py\u001b[0m in \u001b[0;36m_readall_chunked\u001b[1;34m(self)\u001b[0m\n\u001b[0;32m    562\u001b[0m                 \u001b[1;32mif\u001b[0m \u001b[0mchunk_left\u001b[0m \u001b[1;32mis\u001b[0m \u001b[1;32mNone\u001b[0m\u001b[1;33m:\u001b[0m\u001b[1;33m\u001b[0m\u001b[0m\n\u001b[0;32m    563\u001b[0m                     \u001b[1;32mbreak\u001b[0m\u001b[1;33m\u001b[0m\u001b[0m\n\u001b[1;32m--> 564\u001b[1;33m                 \u001b[0mvalue\u001b[0m\u001b[1;33m.\u001b[0m\u001b[0mappend\u001b[0m\u001b[1;33m(\u001b[0m\u001b[0mself\u001b[0m\u001b[1;33m.\u001b[0m\u001b[0m_safe_read\u001b[0m\u001b[1;33m(\u001b[0m\u001b[0mchunk_left\u001b[0m\u001b[1;33m)\u001b[0m\u001b[1;33m)\u001b[0m\u001b[1;33m\u001b[0m\u001b[0m\n\u001b[0m\u001b[0;32m    565\u001b[0m                 \u001b[0mself\u001b[0m\u001b[1;33m.\u001b[0m\u001b[0mchunk_left\u001b[0m \u001b[1;33m=\u001b[0m \u001b[1;36m0\u001b[0m\u001b[1;33m\u001b[0m\u001b[0m\n\u001b[0;32m    566\u001b[0m             \u001b[1;32mreturn\u001b[0m \u001b[1;34mb''\u001b[0m\u001b[1;33m.\u001b[0m\u001b[0mjoin\u001b[0m\u001b[1;33m(\u001b[0m\u001b[0mvalue\u001b[0m\u001b[1;33m)\u001b[0m\u001b[1;33m\u001b[0m\u001b[0m\n",
      "\u001b[1;32mf:\\miniconda3\\envs\\bgg\\lib\\http\\client.py\u001b[0m in \u001b[0;36m_safe_read\u001b[1;34m(self, amt)\u001b[0m\n\u001b[0;32m    608\u001b[0m         \u001b[0ms\u001b[0m \u001b[1;33m=\u001b[0m \u001b[1;33m[\u001b[0m\u001b[1;33m]\u001b[0m\u001b[1;33m\u001b[0m\u001b[0m\n\u001b[0;32m    609\u001b[0m         \u001b[1;32mwhile\u001b[0m \u001b[0mamt\u001b[0m \u001b[1;33m>\u001b[0m \u001b[1;36m0\u001b[0m\u001b[1;33m:\u001b[0m\u001b[1;33m\u001b[0m\u001b[0m\n\u001b[1;32m--> 610\u001b[1;33m             \u001b[0mchunk\u001b[0m \u001b[1;33m=\u001b[0m \u001b[0mself\u001b[0m\u001b[1;33m.\u001b[0m\u001b[0mfp\u001b[0m\u001b[1;33m.\u001b[0m\u001b[0mread\u001b[0m\u001b[1;33m(\u001b[0m\u001b[0mmin\u001b[0m\u001b[1;33m(\u001b[0m\u001b[0mamt\u001b[0m\u001b[1;33m,\u001b[0m \u001b[0mMAXAMOUNT\u001b[0m\u001b[1;33m)\u001b[0m\u001b[1;33m)\u001b[0m\u001b[1;33m\u001b[0m\u001b[0m\n\u001b[0m\u001b[0;32m    611\u001b[0m             \u001b[1;32mif\u001b[0m \u001b[1;32mnot\u001b[0m \u001b[0mchunk\u001b[0m\u001b[1;33m:\u001b[0m\u001b[1;33m\u001b[0m\u001b[0m\n\u001b[0;32m    612\u001b[0m                 \u001b[1;32mraise\u001b[0m \u001b[0mIncompleteRead\u001b[0m\u001b[1;33m(\u001b[0m\u001b[1;34mb''\u001b[0m\u001b[1;33m.\u001b[0m\u001b[0mjoin\u001b[0m\u001b[1;33m(\u001b[0m\u001b[0ms\u001b[0m\u001b[1;33m)\u001b[0m\u001b[1;33m,\u001b[0m \u001b[0mamt\u001b[0m\u001b[1;33m)\u001b[0m\u001b[1;33m\u001b[0m\u001b[0m\n",
      "\u001b[1;32mf:\\miniconda3\\envs\\bgg\\lib\\socket.py\u001b[0m in \u001b[0;36mreadinto\u001b[1;34m(self, b)\u001b[0m\n\u001b[0;32m    587\u001b[0m         \u001b[1;32mwhile\u001b[0m \u001b[1;32mTrue\u001b[0m\u001b[1;33m:\u001b[0m\u001b[1;33m\u001b[0m\u001b[0m\n\u001b[0;32m    588\u001b[0m             \u001b[1;32mtry\u001b[0m\u001b[1;33m:\u001b[0m\u001b[1;33m\u001b[0m\u001b[0m\n\u001b[1;32m--> 589\u001b[1;33m                 \u001b[1;32mreturn\u001b[0m \u001b[0mself\u001b[0m\u001b[1;33m.\u001b[0m\u001b[0m_sock\u001b[0m\u001b[1;33m.\u001b[0m\u001b[0mrecv_into\u001b[0m\u001b[1;33m(\u001b[0m\u001b[0mb\u001b[0m\u001b[1;33m)\u001b[0m\u001b[1;33m\u001b[0m\u001b[0m\n\u001b[0m\u001b[0;32m    590\u001b[0m             \u001b[1;32mexcept\u001b[0m \u001b[0mtimeout\u001b[0m\u001b[1;33m:\u001b[0m\u001b[1;33m\u001b[0m\u001b[0m\n\u001b[0;32m    591\u001b[0m                 \u001b[0mself\u001b[0m\u001b[1;33m.\u001b[0m\u001b[0m_timeout_occurred\u001b[0m \u001b[1;33m=\u001b[0m \u001b[1;32mTrue\u001b[0m\u001b[1;33m\u001b[0m\u001b[0m\n",
      "\u001b[1;32mf:\\miniconda3\\envs\\bgg\\lib\\ssl.py\u001b[0m in \u001b[0;36mrecv_into\u001b[1;34m(self, buffer, nbytes, flags)\u001b[0m\n\u001b[0;32m   1047\u001b[0m                   \u001b[1;34m\"non-zero flags not allowed in calls to recv_into() on %s\"\u001b[0m \u001b[1;33m%\u001b[0m\u001b[1;33m\u001b[0m\u001b[0m\n\u001b[0;32m   1048\u001b[0m                   self.__class__)\n\u001b[1;32m-> 1049\u001b[1;33m             \u001b[1;32mreturn\u001b[0m \u001b[0mself\u001b[0m\u001b[1;33m.\u001b[0m\u001b[0mread\u001b[0m\u001b[1;33m(\u001b[0m\u001b[0mnbytes\u001b[0m\u001b[1;33m,\u001b[0m \u001b[0mbuffer\u001b[0m\u001b[1;33m)\u001b[0m\u001b[1;33m\u001b[0m\u001b[0m\n\u001b[0m\u001b[0;32m   1050\u001b[0m         \u001b[1;32melse\u001b[0m\u001b[1;33m:\u001b[0m\u001b[1;33m\u001b[0m\u001b[0m\n\u001b[0;32m   1051\u001b[0m             \u001b[1;32mreturn\u001b[0m \u001b[0msuper\u001b[0m\u001b[1;33m(\u001b[0m\u001b[1;33m)\u001b[0m\u001b[1;33m.\u001b[0m\u001b[0mrecv_into\u001b[0m\u001b[1;33m(\u001b[0m\u001b[0mbuffer\u001b[0m\u001b[1;33m,\u001b[0m \u001b[0mnbytes\u001b[0m\u001b[1;33m,\u001b[0m \u001b[0mflags\u001b[0m\u001b[1;33m)\u001b[0m\u001b[1;33m\u001b[0m\u001b[0m\n",
      "\u001b[1;32mf:\\miniconda3\\envs\\bgg\\lib\\ssl.py\u001b[0m in \u001b[0;36mread\u001b[1;34m(self, len, buffer)\u001b[0m\n\u001b[0;32m    906\u001b[0m         \u001b[1;32mtry\u001b[0m\u001b[1;33m:\u001b[0m\u001b[1;33m\u001b[0m\u001b[0m\n\u001b[0;32m    907\u001b[0m             \u001b[1;32mif\u001b[0m \u001b[0mbuffer\u001b[0m \u001b[1;32mis\u001b[0m \u001b[1;32mnot\u001b[0m \u001b[1;32mNone\u001b[0m\u001b[1;33m:\u001b[0m\u001b[1;33m\u001b[0m\u001b[0m\n\u001b[1;32m--> 908\u001b[1;33m                 \u001b[1;32mreturn\u001b[0m \u001b[0mself\u001b[0m\u001b[1;33m.\u001b[0m\u001b[0m_sslobj\u001b[0m\u001b[1;33m.\u001b[0m\u001b[0mread\u001b[0m\u001b[1;33m(\u001b[0m\u001b[0mlen\u001b[0m\u001b[1;33m,\u001b[0m \u001b[0mbuffer\u001b[0m\u001b[1;33m)\u001b[0m\u001b[1;33m\u001b[0m\u001b[0m\n\u001b[0m\u001b[0;32m    909\u001b[0m             \u001b[1;32melse\u001b[0m\u001b[1;33m:\u001b[0m\u001b[1;33m\u001b[0m\u001b[0m\n\u001b[0;32m    910\u001b[0m                 \u001b[1;32mreturn\u001b[0m \u001b[0mself\u001b[0m\u001b[1;33m.\u001b[0m\u001b[0m_sslobj\u001b[0m\u001b[1;33m.\u001b[0m\u001b[0mread\u001b[0m\u001b[1;33m(\u001b[0m\u001b[0mlen\u001b[0m\u001b[1;33m)\u001b[0m\u001b[1;33m\u001b[0m\u001b[0m\n",
      "\u001b[1;31mConnectionResetError\u001b[0m: [WinError 10054] An existing connection was forcibly closed by the remote host"
     ]
    }
   ],
   "source": [
    "bs_comments = 'https://www.boardgamegeek.com/xmlapi2/thing?ratingcomments=1&' \n",
    "idx_dist = 25\n",
    "for idx_start in range(1975,len(id_by_num_of_rankings),idx_dist):\n",
    "    print(idx_start, sum(len(all_game_dict[x]) for x in all_game_dict.keys()), str(datetime.now().time())[:8])\n",
    "    idx = str(id_by_num_of_rankings[idx_start:idx_start+idx_dist]).replace(' ','')[1:-1]\n",
    "    pg_ct = 1\n",
    "    comments_total = df.loc[df.id==id_by_num_of_rankings[idx_start+idx_dist-1],'num_of_rankings'].iloc[0]\n",
    "    pg = request.urlopen(f'{bs_comments}id={idx}&page={pg_ct}')\n",
    "    csoup = BeautifulSoup(pg, 'xml')\n",
    "    for idx2, item in enumerate(csoup.find_all('comments')):\n",
    "        all_game_dict[id_by_num_of_rankings[idx_start+idx2]] = {x['username']:x['rating'] for x in item.find_all('comment')}\n",
    "    while pg_ct*100 < comments_total:\n",
    "        pg_ct += 1\n",
    "        pg = request.urlopen(f'{bs_comments}id={idx}&page={pg_ct}')\n",
    "        csoup = BeautifulSoup(pg, 'xml')\n",
    "        for idx2, item in enumerate(csoup.find_all('comments')):\n",
    "            dict_loc = id_by_num_of_rankings[idx_start+idx2]\n",
    "            if item.find_all('comment') is not None:\n",
    "                all_game_dict[dict_loc].update({x['username']:x['rating'] for x in item.find_all('comment')})\n",
    "        time.sleep(2)\n",
    "    with open('../data/all_game_dict_v4.json', 'w') as fp:\n",
    "        json.dump(all_game_dict, fp)    "
   ]
  },
  {
   "cell_type": "code",
   "execution_count": 58,
   "metadata": {
    "ExecuteTime": {
     "end_time": "2018-10-08T02:38:59.135994Z",
     "start_time": "2018-10-08T02:38:59.130994Z"
    }
   },
   "outputs": [],
   "source": [
    "algd_keys = list(all_game_dict.keys())\n",
    "dict_small = {x:all_game_dict[x] for x in algd_keys[:500]}"
   ]
  },
  {
   "cell_type": "code",
   "execution_count": 59,
   "metadata": {
    "ExecuteTime": {
     "end_time": "2018-10-08T02:39:14.926897Z",
     "start_time": "2018-10-08T02:39:00.833091Z"
    }
   },
   "outputs": [],
   "source": [
    "df2 = pd.DataFrame(dict_small)"
   ]
  },
  {
   "cell_type": "code",
   "execution_count": 60,
   "metadata": {
    "ExecuteTime": {
     "end_time": "2018-10-08T02:39:28.733687Z",
     "start_time": "2018-10-08T02:39:25.434498Z"
    }
   },
   "outputs": [
    {
     "data": {
      "text/plain": [
       "((154776, 500), (5970, 500))"
      ]
     },
     "execution_count": 60,
     "metadata": {},
     "output_type": "execute_result"
    }
   ],
   "source": [
    "df3 = df2.dropna(thresh=50)\n",
    "df2.shape, df3.shape"
   ]
  },
  {
   "cell_type": "code",
   "execution_count": 55,
   "metadata": {
    "ExecuteTime": {
     "end_time": "2018-10-08T02:34:45.094464Z",
     "start_time": "2018-10-08T02:34:45.086463Z"
    }
   },
   "outputs": [
    {
     "data": {
      "text/plain": [
       "((73528, 100), (4337, 100))"
      ]
     },
     "execution_count": 55,
     "metadata": {},
     "output_type": "execute_result"
    }
   ],
   "source": [
    "df2.shape, df3.shape"
   ]
  },
  {
   "cell_type": "code",
   "execution_count": 215,
   "metadata": {},
   "outputs": [],
   "source": [
    "all_game_dict2[dict_loc].update({})"
   ]
  },
  {
   "cell_type": "code",
   "execution_count": 213,
   "metadata": {},
   "outputs": [
    {
     "data": {
      "text/plain": [
       "dict_keys([63170])"
      ]
     },
     "execution_count": 213,
     "metadata": {},
     "output_type": "execute_result"
    }
   ],
   "source": [
    "all_game_dict2.keys()"
   ]
  },
  {
   "cell_type": "code",
   "execution_count": 219,
   "metadata": {},
   "outputs": [
    {
     "data": {
      "text/plain": [
       "198"
      ]
     },
     "execution_count": 219,
     "metadata": {},
     "output_type": "execute_result"
    }
   ],
   "source": [
    "len(all_game_dict2[63170])"
   ]
  },
  {
   "cell_type": "code",
   "execution_count": null,
   "metadata": {
    "scrolled": true
   },
   "outputs": [],
   "source": [
    "bs_comments = 'https://www.boardgamegeek.com/xmlapi2/thing?ratingcomments=1&' \n",
    "\n",
    "# gm_id_lookup = gm_ids[0]\n",
    "for gm_id_lookup in gm_ids[2:10]:\n",
    "    pg_ct = 1\n",
    "    pg = request.urlopen(f'{bs_comments}id={gm_id_lookup}&page={pg_ct}')\n",
    "    csoup = BeautifulSoup(pg, 'xml')\n",
    "    comments_total = int(csoup.find('comments')['totalitems'])\n",
    "    gm_comment_dict = {x['username']:x['rating'] for x in csoup.find_all('comment')}\n",
    "    while pg_ct*100 < comments_total:\n",
    "        pg_ct += 1\n",
    "        pg = request.urlopen(f'{bs_comments}id={gm_id_lookup}&page={pg_ct}')\n",
    "        csoup = BeautifulSoup(pg, 'xml')\n",
    "        gm_comment_dict.update({x['username']:x['rating'] for x in csoup.find_all('comment')})\n",
    "        time.sleep(2)\n",
    "        if pg_ct*100%10**3 == 0:\n",
    "            print(gm_id_lookup, pg_ct, str(datetime.now().time())[:8])\n",
    "    all_game_dict[gm_id_lookup] = gm_comment_dict"
   ]
  },
  {
   "cell_type": "code",
   "execution_count": 166,
   "metadata": {},
   "outputs": [],
   "source": [
    "with open('../data/all_game_dict.json', 'w') as fp:\n",
    "    json.dump(all_game_dict, fp)"
   ]
  },
  {
   "cell_type": "code",
   "execution_count": 103,
   "metadata": {},
   "outputs": [],
   "source": [
    "pg = request.urlopen(f'{bs_comments}id={gm_id_lookup}&page={str(pg_ct)}')\n",
    "csoup = BeautifulSoup(pg, 'xml')"
   ]
  },
  {
   "cell_type": "code",
   "execution_count": 105,
   "metadata": {},
   "outputs": [
    {
     "data": {
      "text/plain": [
       "'https://www.boardgamegeek.com/xmlapi2/thing?ratingcomments=1&id=174430&pg=2'"
      ]
     },
     "execution_count": 105,
     "metadata": {},
     "output_type": "execute_result"
    }
   ],
   "source": [
    "f'{bs_comments}id={gm_id_lookup}&pg={str(pg_ct)}'"
   ]
  },
  {
   "cell_type": "code",
   "execution_count": 98,
   "metadata": {},
   "outputs": [],
   "source": [
    "aa = {x['username']:x['rating'] for x in csoup.find_all('comment')}"
   ]
  },
  {
   "cell_type": "code",
   "execution_count": 107,
   "metadata": {},
   "outputs": [
    {
     "data": {
      "text/plain": [
       "200"
      ]
     },
     "execution_count": 107,
     "metadata": {},
     "output_type": "execute_result"
    }
   ],
   "source": [
    "len(gm_comment_dict)"
   ]
  },
  {
   "cell_type": "code",
   "execution_count": null,
   "metadata": {},
   "outputs": [],
   "source": [
    "comment_dict = {x['username']:x['rating'] for x in csoup.find_all('comment')}"
   ]
  }
 ],
 "metadata": {
  "kernelspec": {
   "display_name": "Python 3",
   "language": "python",
   "name": "python3"
  },
  "language_info": {
   "codemirror_mode": {
    "name": "ipython",
    "version": 3
   },
   "file_extension": ".py",
   "mimetype": "text/x-python",
   "name": "python",
   "nbconvert_exporter": "python",
   "pygments_lexer": "ipython3",
   "version": "3.7.0"
  }
 },
 "nbformat": 4,
 "nbformat_minor": 2
}
