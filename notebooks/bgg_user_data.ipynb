{
 "cells": [
  {
   "cell_type": "markdown",
   "metadata": {},
   "source": [
    "# Imports"
   ]
  },
  {
   "cell_type": "code",
   "execution_count": 6,
   "metadata": {
    "ExecuteTime": {
     "end_time": "2019-05-12T03:05:18.082361Z",
     "start_time": "2019-05-12T03:05:17.893438Z"
    }
   },
   "outputs": [],
   "source": [
    "import pandas as pd\n",
    "import json\n",
    "import os\n",
    "from gensim.utils import simple_preprocess\n",
    "from gensim.models.doc2vec import TaggedDocument, Doc2Vec\n",
    "from gensim.models import Word2Vec\n",
    "from sklearn.decomposition import PCA\n",
    "from sklearn.manifold import TSNE\n",
    "import matplotlib.pyplot as plt\n",
    "import plotly.plotly as py\n",
    "import plotly.graph_objs as go\n",
    "import numpy as np\n",
    "import plotly \n",
    "from collections import Counter\n",
    "from tqdm import tqdm"
   ]
  },
  {
   "cell_type": "code",
   "execution_count": 92,
   "metadata": {
    "ExecuteTime": {
     "end_time": "2019-05-12T12:38:50.077019Z",
     "start_time": "2019-05-12T12:38:50.074451Z"
    }
   },
   "outputs": [],
   "source": [
    "with open('/home/msnow/site_configs/secrets.json', 'r') as fp:\n",
    "    secrets = json.load(fp)"
   ]
  },
  {
   "cell_type": "code",
   "execution_count": 93,
   "metadata": {
    "ExecuteTime": {
     "end_time": "2019-05-12T12:39:16.685004Z",
     "start_time": "2019-05-12T12:39:16.680121Z"
    }
   },
   "outputs": [],
   "source": [
    "plotly.tools.set_credentials_file(username=secrets['plotly']['username'], api_key=secrets['plotly']['api_key'])"
   ]
  },
  {
   "cell_type": "markdown",
   "metadata": {},
   "source": [
    "# Ancillary Functions"
   ]
  },
  {
   "cell_type": "code",
   "execution_count": 40,
   "metadata": {
    "ExecuteTime": {
     "end_time": "2019-05-12T12:07:17.508778Z",
     "start_time": "2019-05-12T12:07:17.496940Z"
    }
   },
   "outputs": [],
   "source": [
    "class EmbedText:\n",
    "\n",
    "    def __init__(self):\n",
    "        # self.df = df\n",
    "        self.model_d2v = None\n",
    "        self.train_corpus = None\n",
    "        # self.text_col = text_col\n",
    "        # self.class_col = class_col\n",
    "\n",
    "    def d2v_setup(self, df: pd.DataFrame, text_col: str, class_col: str = None, emb_size: int = 100):\n",
    "        self.train_corpus = []\n",
    "        for idx, row in df.iterrows():\n",
    "            if class_col is None:\n",
    "                self.train_corpus.append(TaggedDocument(row[text_col], [idx]))\n",
    "            else:\n",
    "                self.train_corpus.append(TaggedDocument(row[text_col], [row[class_col]]))\n",
    "        self.model_d2v = Doc2Vec(vector_size=emb_size, dm=0, min_count=2, workers=6, epochs=1, min_alpha=0.025,\n",
    "                                 alpha=0.025)\n",
    "        self.model_d2v.build_vocab(self.train_corpus)\n",
    "\n",
    "    def d2v_fit(self, epochs: int = 10, decay_rate: float = 0.002):\n",
    "#         print('Fitting Doc2Vec')\n",
    "        for _ in tqdm(range(epochs)):\n",
    "            self.model_d2v.train(self.train_corpus, total_examples=self.model_d2v.corpus_count, epochs=epochs)\n",
    "            self.model_d2v.alpha -= decay_rate\n",
    "            self.model_d2v.min_alpha = self.model_d2v.alpha\n",
    "        return self.model_d2v\n",
    "\n",
    "    def d2v_embed_save(self, loc: str):\n",
    "        self.model_d2v.save(loc)\n",
    "\n",
    "    def d2v_embed_load(self, model_loc: str):\n",
    "        self.model_d2v = Doc2Vec.load(model_loc)\n",
    "\n",
    "    def d2v_vectors(self, df: pd.DataFrame, text_col: str):\n",
    "        return df.loc[:, text_col].map(lambda x: self.model_d2v.infer_vector(x).tolist())\n",
    "\n",
    "    def d2v_wordvecs(self, df: pd.DataFrame, text_col: str) -> pd.Series:\n",
    "        return df.loc[:, text_col].map(\n",
    "            lambda x: np.array([self.model_d2v.wv.word_vec(i) for i in x if i in self.model_d2v.wv.vocab]))"
   ]
  },
  {
   "cell_type": "markdown",
   "metadata": {},
   "source": [
    "# Load Data"
   ]
  },
  {
   "cell_type": "code",
   "execution_count": 29,
   "metadata": {
    "ExecuteTime": {
     "end_time": "2019-05-12T12:01:49.693914Z",
     "start_time": "2019-05-12T12:01:49.335194Z"
    }
   },
   "outputs": [
    {
     "data": {
      "text/plain": [
       "(15000, 48)"
      ]
     },
     "execution_count": 29,
     "metadata": {},
     "output_type": "execute_result"
    }
   ],
   "source": [
    "with open('../src/data/game_info_190509.json', 'r') as fp:\n",
    "    df_game = pd.DataFrame(json.load(fp))\n",
    "df_game.shape    "
   ]
  },
  {
   "cell_type": "code",
   "execution_count": 96,
   "metadata": {
    "ExecuteTime": {
     "end_time": "2019-05-12T12:44:38.170500Z",
     "start_time": "2019-05-12T12:44:31.075384Z"
    }
   },
   "outputs": [
    {
     "data": {
      "text/plain": [
       "((2516474, 4), 14987)"
      ]
     },
     "execution_count": 96,
     "metadata": {},
     "output_type": "execute_result"
    }
   ],
   "source": [
    "with open('../src/data/user_comments_190511.json', 'r') as fp:\n",
    "    comment_list = json.load(fp)\n",
    "df_comments = pd.DataFrame(comment_list)\n",
    "df_comments.shape, df_comments.game_id.nunique()"
   ]
  },
  {
   "cell_type": "code",
   "execution_count": 97,
   "metadata": {
    "ExecuteTime": {
     "end_time": "2019-05-12T12:44:59.026800Z",
     "start_time": "2019-05-12T12:44:41.698896Z"
    }
   },
   "outputs": [
    {
     "data": {
      "text/plain": [
       "((12753513, 3), 14993)"
      ]
     },
     "execution_count": 97,
     "metadata": {},
     "output_type": "execute_result"
    }
   ],
   "source": [
    "with open('../src/data/user_ratings_190511.json', 'r') as fp:\n",
    "    rating_list = json.load(fp)\n",
    "df_ratings = pd.DataFrame(rating_list)\n",
    "df_ratings.shape, df_ratings.game_id.nunique()"
   ]
  },
  {
   "cell_type": "markdown",
   "metadata": {},
   "source": [
    "# Merge Data"
   ]
  },
  {
   "cell_type": "code",
   "execution_count": 22,
   "metadata": {
    "ExecuteTime": {
     "end_time": "2019-05-09T10:52:01.126731Z",
     "start_time": "2019-05-09T10:52:01.122285Z"
    }
   },
   "outputs": [
    {
     "data": {
      "text/plain": [
       "Index(['AbstractGameRank', 'BoardGameRank', 'Children'sGameRank',\n",
       "       'CustomizableRank', 'FamilyGameRank', 'PartyGameRank', 'RPGItemRank',\n",
       "       'StrategyGameRank', 'ThematicRank', 'WarGameRank', 'average',\n",
       "       'averageweight', 'bayesaverage', 'boardgameartist', 'boardgamecategory',\n",
       "       'boardgamecompilation', 'boardgamedesigner', 'boardgameexpansion',\n",
       "       'boardgamefamily', 'boardgameimplementation', 'boardgameintegration',\n",
       "       'boardgamemechanic', 'boardgamepublisher', 'game_id', 'maxplayers',\n",
       "       'maxplaytime', 'median', 'minage', 'minplayers', 'minplaytime', 'name',\n",
       "       'numcomments', 'numweights', 'owned', 'playingtime', 'stddev',\n",
       "       'trading', 'url', 'usersrated', 'wanting', 'wishing', 'yearpublished'],\n",
       "      dtype='object')"
      ]
     },
     "execution_count": 22,
     "metadata": {},
     "output_type": "execute_result"
    }
   ],
   "source": [
    "df_game.columns"
   ]
  },
  {
   "cell_type": "code",
   "execution_count": 53,
   "metadata": {
    "ExecuteTime": {
     "end_time": "2019-05-12T01:59:54.053954Z",
     "start_time": "2019-05-12T01:59:49.156821Z"
    }
   },
   "outputs": [],
   "source": [
    "df_ratings = df_ratings.merge(df_game[['name', 'game_id', 'BoardGameRank']], how='left', on='game_id')\n",
    "df_comments = df_comments.merge(df_game[['name', 'game_id', 'BoardGameRank']], how='left', on='game_id')"
   ]
  },
  {
   "cell_type": "code",
   "execution_count": 54,
   "metadata": {
    "ExecuteTime": {
     "end_time": "2019-05-12T02:00:09.899564Z",
     "start_time": "2019-05-12T02:00:03.002858Z"
    }
   },
   "outputs": [
    {
     "data": {
      "text/html": [
       "<div>\n",
       "<style scoped>\n",
       "    .dataframe tbody tr th:only-of-type {\n",
       "        vertical-align: middle;\n",
       "    }\n",
       "\n",
       "    .dataframe tbody tr th {\n",
       "        vertical-align: top;\n",
       "    }\n",
       "\n",
       "    .dataframe thead th {\n",
       "        text-align: right;\n",
       "    }\n",
       "</style>\n",
       "<table border=\"1\" class=\"dataframe\">\n",
       "  <thead>\n",
       "    <tr style=\"text-align: right;\">\n",
       "      <th></th>\n",
       "      <th></th>\n",
       "      <th>rating</th>\n",
       "    </tr>\n",
       "    <tr>\n",
       "      <th>game_id</th>\n",
       "      <th>BoardGameRank</th>\n",
       "      <th></th>\n",
       "    </tr>\n",
       "  </thead>\n",
       "  <tbody>\n",
       "    <tr>\n",
       "      <th>13</th>\n",
       "      <th>325</th>\n",
       "      <td>85000</td>\n",
       "    </tr>\n",
       "    <tr>\n",
       "      <th>822</th>\n",
       "      <th>150</th>\n",
       "      <td>84600</td>\n",
       "    </tr>\n",
       "    <tr>\n",
       "      <th>30549</th>\n",
       "      <th>75</th>\n",
       "      <td>83000</td>\n",
       "    </tr>\n",
       "    <tr>\n",
       "      <th>68448</th>\n",
       "      <th>45</th>\n",
       "      <td>68800</td>\n",
       "    </tr>\n",
       "    <tr>\n",
       "      <th>36218</th>\n",
       "      <th>76</th>\n",
       "      <td>68100</td>\n",
       "    </tr>\n",
       "  </tbody>\n",
       "</table>\n",
       "</div>"
      ],
      "text/plain": [
       "                       rating\n",
       "game_id BoardGameRank        \n",
       "13      325             85000\n",
       "822     150             84600\n",
       "30549   75              83000\n",
       "68448   45              68800\n",
       "36218   76              68100"
      ]
     },
     "execution_count": 54,
     "metadata": {},
     "output_type": "execute_result"
    }
   ],
   "source": [
    "df_ratings[['game_id', 'BoardGameRank', 'rating']].groupby(['game_id', 'BoardGameRank']).count().sort_values('rating', ascending=False).head()"
   ]
  },
  {
   "cell_type": "markdown",
   "metadata": {},
   "source": [
    "# Create \"sentences\" from board game categories"
   ]
  },
  {
   "cell_type": "code",
   "execution_count": 70,
   "metadata": {
    "ExecuteTime": {
     "end_time": "2019-05-12T12:23:43.451930Z",
     "start_time": "2019-05-12T12:23:43.440278Z"
    }
   },
   "outputs": [],
   "source": [
    "# col_list = ['boardgameartist', 'boardgamedesigner', 'boardgamecategory', 'boardgamefamily', 'boardgamemechanic', 'boardgamepublisher', 'name', 'game_id']\n",
    "col_list = ['boardgamedesigner', 'boardgamecategory', 'boardgamefamily', 'boardgamemechanic', 'name', 'game_id']\n",
    "df_game_vecs = df_game[col_list].copy()"
   ]
  },
  {
   "cell_type": "code",
   "execution_count": 71,
   "metadata": {
    "ExecuteTime": {
     "end_time": "2019-05-12T12:23:44.935267Z",
     "start_time": "2019-05-12T12:23:44.898967Z"
    },
    "scrolled": true
   },
   "outputs": [],
   "source": [
    "df_game_vecs['docs'] = df_game_vecs[col_list[0]]\n",
    "for col in col_list[1:-2]:\n",
    "    df_game_vecs['docs'] = df_game_vecs['docs'] + df_game_vecs[col]\n",
    "df_game_vecs['id_names'] = df_game_vecs.name + df_game_vecs.game_id\n",
    "    "
   ]
  },
  {
   "cell_type": "code",
   "execution_count": 75,
   "metadata": {
    "ExecuteTime": {
     "end_time": "2019-05-12T12:26:08.698583Z",
     "start_time": "2019-05-12T12:25:43.638249Z"
    }
   },
   "outputs": [
    {
     "name": "stderr",
     "output_type": "stream",
     "text": [
      "\n",
      "  0%|          | 0/10 [00:00<?, ?it/s]\u001b[A\n",
      " 10%|█         | 1/10 [00:02<00:21,  2.37s/it]\u001b[A\n",
      " 20%|██        | 2/10 [00:04<00:18,  2.37s/it]\u001b[A\n",
      " 30%|███       | 3/10 [00:07<00:16,  2.37s/it]\u001b[A\n",
      " 40%|████      | 4/10 [00:09<00:14,  2.37s/it]\u001b[A\n",
      " 50%|█████     | 5/10 [00:11<00:11,  2.38s/it]\u001b[A\n",
      " 60%|██████    | 6/10 [00:14<00:09,  2.38s/it]\u001b[A\n",
      " 70%|███████   | 7/10 [00:16<00:07,  2.38s/it]\u001b[A\n",
      " 80%|████████  | 8/10 [00:19<00:04,  2.37s/it]\u001b[A\n",
      " 90%|█████████ | 9/10 [00:21<00:02,  2.37s/it]\u001b[A\n",
      "100%|██████████| 10/10 [00:23<00:00,  2.38s/it]\u001b[A"
     ]
    },
    {
     "data": {
      "text/plain": [
       "<gensim.models.doc2vec.Doc2Vec at 0x7fc5999d7160>"
      ]
     },
     "execution_count": 75,
     "metadata": {},
     "output_type": "execute_result"
    }
   ],
   "source": [
    "d2v = EmbedText()\n",
    "d2v.d2v_setup(df = df_game_vecs, text_col='docs', class_col='name')\n",
    "d2v.d2v_fit()"
   ]
  },
  {
   "cell_type": "code",
   "execution_count": 84,
   "metadata": {
    "ExecuteTime": {
     "end_time": "2019-05-12T12:27:42.863119Z",
     "start_time": "2019-05-12T12:27:42.857005Z"
    }
   },
   "outputs": [
    {
     "data": {
      "text/plain": [
       "[('7 Wonders Duel', 0.9467664361000061),\n",
       " ('Âge de Bronze', 0.7837046980857849),\n",
       " ('Tides of Time', 0.7803778648376465),\n",
       " ('Hadara', 0.7733749747276306),\n",
       " ('Peloponnes Card Game', 0.7644440531730652),\n",
       " ('The Sands of Time', 0.7624205350875854),\n",
       " (\"A Fool's Fortune\", 0.7558571100234985),\n",
       " ('Polis', 0.7505557537078857),\n",
       " ('Sobek', 0.7326430678367615),\n",
       " ('Elysium', 0.7305032014846802),\n",
       " ('Big Monster', 0.7264267206192017),\n",
       " ('Villannex', 0.7263643741607666),\n",
       " ('Diesel Demolition Derby', 0.7240949869155884),\n",
       " ('Innovation', 0.7218561768531799),\n",
       " ('Minute Realms', 0.7193061113357544),\n",
       " ('Pentos', 0.718259871006012),\n",
       " ('Hexemonia', 0.7176440954208374),\n",
       " ('CIV: Carta Impera Victoria', 0.7169272899627686),\n",
       " ('Uchronia', 0.7127091884613037),\n",
       " ('Citadels', 0.7122185230255127)]"
      ]
     },
     "execution_count": 84,
     "metadata": {},
     "output_type": "execute_result"
    }
   ],
   "source": [
    "d2v.model_d2v.docvecs.most_similar('7 Wonders', topn=20)"
   ]
  },
  {
   "cell_type": "code",
   "execution_count": 87,
   "metadata": {
    "ExecuteTime": {
     "end_time": "2019-05-12T12:29:51.880275Z",
     "start_time": "2019-05-12T12:29:37.331803Z"
    },
    "scrolled": true
   },
   "outputs": [],
   "source": [
    "d2v_array = d2v.model_d2v.docvecs.vectors_docs[:2000,:]\n",
    "tsne = TSNE(n_components=2)\n",
    "X_tsne = tsne.fit_transform(d2v_array)"
   ]
  },
  {
   "cell_type": "code",
   "execution_count": 95,
   "metadata": {
    "ExecuteTime": {
     "end_time": "2019-05-12T12:39:32.296606Z",
     "start_time": "2019-05-12T12:39:30.628719Z"
    }
   },
   "outputs": [
    {
     "name": "stderr",
     "output_type": "stream",
     "text": [
      "/home/msnow/miniconda3/envs/data_sci/lib/python3.7/site-packages/IPython/core/display.py:689: UserWarning:\n",
      "\n",
      "Consider using IPython.display.IFrame instead\n",
      "\n"
     ]
    },
    {
     "data": {
      "text/html": [
       "<iframe id=\"igraph\" scrolling=\"no\" style=\"border:none;\" seamless=\"seamless\" src=\"https://plot.ly/~mseinstein/67.embed\" height=\"525px\" width=\"100%\"></iframe>"
      ],
      "text/plain": [
       "<chart_studio.tools.PlotlyDisplay object>"
      ]
     },
     "execution_count": 95,
     "metadata": {},
     "output_type": "execute_result"
    }
   ],
   "source": [
    "vect_size = 2000\n",
    "trace1 = go.Scatter(\n",
    "    x=X_tsne[:,0],\n",
    "    y=X_tsne[:,1],\n",
    "    mode='text',\n",
    "    text = d2v.model_d2v.docvecs.offset2doctag[:vect_size],\n",
    "    textposition='bottom center',\n",
    ")\n",
    "data = [trace1]\n",
    "layout = go.Layout(\n",
    "    margin=dict(\n",
    "        l=0,\n",
    "        r=0,\n",
    "        b=0,\n",
    "        t=0\n",
    "    )\n",
    ")\n",
    "config = {'scrollZoom': True}\n",
    "fig = go.Figure(data=data, layout=layout)\n",
    "py.iplot(fig, filename='d2v_bgg', config=config)"
   ]
  },
  {
   "cell_type": "code",
   "execution_count": 18,
   "metadata": {
    "ExecuteTime": {
     "end_time": "2019-05-12T03:07:22.853926Z",
     "start_time": "2019-05-12T03:07:22.848951Z"
    },
    "scrolled": true
   },
   "outputs": [
    {
     "data": {
      "text/plain": [
       "numpy.ndarray"
      ]
     },
     "execution_count": 18,
     "metadata": {},
     "output_type": "execute_result"
    }
   ],
   "source": [
    "d2v_array = d2v.model_d2v.docvecs.vectors_docs\n",
    "\n",
    "type(d2v_array)"
   ]
  },
  {
   "cell_type": "code",
   "execution_count": 14,
   "metadata": {
    "ExecuteTime": {
     "end_time": "2019-05-12T03:06:51.749500Z",
     "start_time": "2019-05-12T03:06:51.747178Z"
    }
   },
   "outputs": [],
   "source": [
    "aa = d2v.model_d2v.wv.vectors"
   ]
  },
  {
   "cell_type": "code",
   "execution_count": 19,
   "metadata": {
    "ExecuteTime": {
     "end_time": "2019-05-12T03:07:27.398575Z",
     "start_time": "2019-05-12T03:07:27.393391Z"
    }
   },
   "outputs": [
    {
     "data": {
      "text/plain": [
       "(29744, 100)"
      ]
     },
     "execution_count": 19,
     "metadata": {},
     "output_type": "execute_result"
    }
   ],
   "source": [
    "d2v_array.shape"
   ]
  },
  {
   "cell_type": "code",
   "execution_count": 100,
   "metadata": {
    "ExecuteTime": {
     "end_time": "2019-05-12T03:01:36.297435Z",
     "start_time": "2019-05-12T03:01:36.291023Z"
    }
   },
   "outputs": [
    {
     "data": {
      "text/plain": [
       "[(324, 0.9941948652267456),\n",
       " (1685, 0.8426946401596069),\n",
       " ('Catan: Portable Edition', 0.8363494873046875),\n",
       " ('Struggle for Catan', 0.8137760162353516),\n",
       " (2636, 0.8131700754165649),\n",
       " (821, 0.7774920463562012),\n",
       " ('Catan Card Game', 0.7761682868003845),\n",
       " (6402, 0.738957941532135),\n",
       " (5765, 0.738196849822998),\n",
       " ('Catan: Family Edition', 0.7370287775993347),\n",
       " ('Catan Dice Game', 0.7352598905563354),\n",
       " ('Star Trek: Catan', 0.734115719795227),\n",
       " (897, 0.7331305742263794),\n",
       " ('Catan Histories: Rise of the Inkas', 0.7316294312477112),\n",
       " (4751, 0.729112982749939),\n",
       " (4103, 0.7221580743789673),\n",
       " ('Ataxx', 0.7213221788406372),\n",
       " (11963, 0.7177346348762512),\n",
       " ('Catan: Traveler – Compact Edition', 0.7165348529815674),\n",
       " ('Rivals for Catan', 0.7152861952781677)]"
      ]
     },
     "execution_count": 100,
     "metadata": {},
     "output_type": "execute_result"
    }
   ],
   "source": [
    "d2v.model_d2v.docvecs."
   ]
  },
  {
   "cell_type": "code",
   "execution_count": 97,
   "metadata": {
    "ExecuteTime": {
     "end_time": "2019-05-12T03:00:47.218050Z",
     "start_time": "2019-05-12T03:00:47.209587Z"
    }
   },
   "outputs": [
    {
     "data": {
      "text/html": [
       "<div>\n",
       "<style scoped>\n",
       "    .dataframe tbody tr th:only-of-type {\n",
       "        vertical-align: middle;\n",
       "    }\n",
       "\n",
       "    .dataframe tbody tr th {\n",
       "        vertical-align: top;\n",
       "    }\n",
       "\n",
       "    .dataframe thead th {\n",
       "        text-align: right;\n",
       "    }\n",
       "</style>\n",
       "<table border=\"1\" class=\"dataframe\">\n",
       "  <thead>\n",
       "    <tr style=\"text-align: right;\">\n",
       "      <th></th>\n",
       "      <th>boardgameartist</th>\n",
       "      <th>boardgamedesigner</th>\n",
       "      <th>boardgamecategory</th>\n",
       "      <th>boardgamefamily</th>\n",
       "      <th>boardgamemechanic</th>\n",
       "      <th>boardgamepublisher</th>\n",
       "      <th>name</th>\n",
       "      <th>game_id</th>\n",
       "      <th>docs</th>\n",
       "    </tr>\n",
       "  </thead>\n",
       "  <tbody>\n",
       "  </tbody>\n",
       "</table>\n",
       "</div>"
      ],
      "text/plain": [
       "Empty DataFrame\n",
       "Columns: [boardgameartist, boardgamedesigner, boardgamecategory, boardgamefamily, boardgamemechanic, boardgamepublisher, name, game_id, docs]\n",
       "Index: []"
      ]
     },
     "execution_count": 97,
     "metadata": {},
     "output_type": "execute_result"
    }
   ],
   "source": [
    "df_game_vecs.loc[df_game_vecs.name==74]"
   ]
  },
  {
   "cell_type": "code",
   "execution_count": 58,
   "metadata": {
    "ExecuteTime": {
     "end_time": "2019-05-12T02:45:48.931448Z",
     "start_time": "2019-05-12T02:45:48.876143Z"
    },
    "scrolled": true
   },
   "outputs": [
    {
     "data": {
      "text/html": [
       "<div>\n",
       "<style scoped>\n",
       "    .dataframe tbody tr th:only-of-type {\n",
       "        vertical-align: middle;\n",
       "    }\n",
       "\n",
       "    .dataframe tbody tr th {\n",
       "        vertical-align: top;\n",
       "    }\n",
       "\n",
       "    .dataframe thead th {\n",
       "        text-align: right;\n",
       "    }\n",
       "</style>\n",
       "<table border=\"1\" class=\"dataframe\">\n",
       "  <thead>\n",
       "    <tr style=\"text-align: right;\">\n",
       "      <th></th>\n",
       "      <th>0</th>\n",
       "      <th>1</th>\n",
       "    </tr>\n",
       "  </thead>\n",
       "  <tbody>\n",
       "    <tr>\n",
       "      <th>AbstractGameRank</th>\n",
       "      <td>NaN</td>\n",
       "      <td>NaN</td>\n",
       "    </tr>\n",
       "    <tr>\n",
       "      <th>AccessoryRank</th>\n",
       "      <td>NaN</td>\n",
       "      <td>NaN</td>\n",
       "    </tr>\n",
       "    <tr>\n",
       "      <th>AmigaRank</th>\n",
       "      <td>NaN</td>\n",
       "      <td>NaN</td>\n",
       "    </tr>\n",
       "    <tr>\n",
       "      <th>ArcadeRank</th>\n",
       "      <td>NaN</td>\n",
       "      <td>NaN</td>\n",
       "    </tr>\n",
       "    <tr>\n",
       "      <th>AtariSTRank</th>\n",
       "      <td>NaN</td>\n",
       "      <td>NaN</td>\n",
       "    </tr>\n",
       "    <tr>\n",
       "      <th>BoardGameRank</th>\n",
       "      <td>1</td>\n",
       "      <td>2</td>\n",
       "    </tr>\n",
       "    <tr>\n",
       "      <th>Children'sGameRank</th>\n",
       "      <td>NaN</td>\n",
       "      <td>NaN</td>\n",
       "    </tr>\n",
       "    <tr>\n",
       "      <th>Commodore64Rank</th>\n",
       "      <td>NaN</td>\n",
       "      <td>NaN</td>\n",
       "    </tr>\n",
       "    <tr>\n",
       "      <th>CustomizableRank</th>\n",
       "      <td>NaN</td>\n",
       "      <td>NaN</td>\n",
       "    </tr>\n",
       "    <tr>\n",
       "      <th>FamilyGameRank</th>\n",
       "      <td>NaN</td>\n",
       "      <td>NaN</td>\n",
       "    </tr>\n",
       "    <tr>\n",
       "      <th>PartyGameRank</th>\n",
       "      <td>NaN</td>\n",
       "      <td>NaN</td>\n",
       "    </tr>\n",
       "    <tr>\n",
       "      <th>RPGItemRank</th>\n",
       "      <td>NaN</td>\n",
       "      <td>NaN</td>\n",
       "    </tr>\n",
       "    <tr>\n",
       "      <th>StrategyGameRank</th>\n",
       "      <td>1</td>\n",
       "      <td>2</td>\n",
       "    </tr>\n",
       "    <tr>\n",
       "      <th>ThematicRank</th>\n",
       "      <td>1</td>\n",
       "      <td>2</td>\n",
       "    </tr>\n",
       "    <tr>\n",
       "      <th>VideoGameRank</th>\n",
       "      <td>NaN</td>\n",
       "      <td>NaN</td>\n",
       "    </tr>\n",
       "    <tr>\n",
       "      <th>WarGameRank</th>\n",
       "      <td>NaN</td>\n",
       "      <td>NaN</td>\n",
       "    </tr>\n",
       "    <tr>\n",
       "      <th>average</th>\n",
       "      <td>8.90224</td>\n",
       "      <td>8.64276</td>\n",
       "    </tr>\n",
       "    <tr>\n",
       "      <th>averageweight</th>\n",
       "      <td>3.7893</td>\n",
       "      <td>2.8278</td>\n",
       "    </tr>\n",
       "    <tr>\n",
       "      <th>bayesaverage</th>\n",
       "      <td>8.60944</td>\n",
       "      <td>8.48849</td>\n",
       "    </tr>\n",
       "    <tr>\n",
       "      <th>boardgameartist</th>\n",
       "      <td>[Alexandr Elichev, Josh T. McDowell, Alvaro Ne...</td>\n",
       "      <td>[Chris Quilliams]</td>\n",
       "    </tr>\n",
       "    <tr>\n",
       "      <th>boardgamecategory</th>\n",
       "      <td>[Adventure, Exploration, Fantasy, Fighting, Mi...</td>\n",
       "      <td>[Environmental, Medical]</td>\n",
       "    </tr>\n",
       "    <tr>\n",
       "      <th>boardgamecompilation</th>\n",
       "      <td>[]</td>\n",
       "      <td>[]</td>\n",
       "    </tr>\n",
       "    <tr>\n",
       "      <th>boardgamedesigner</th>\n",
       "      <td>[Isaac Childres]</td>\n",
       "      <td>[Rob Daviau, Matt Leacock]</td>\n",
       "    </tr>\n",
       "    <tr>\n",
       "      <th>boardgameexpansion</th>\n",
       "      <td>[Gloomhaven: Forgotten Circles, Gloomhaven: So...</td>\n",
       "      <td>[]</td>\n",
       "    </tr>\n",
       "    <tr>\n",
       "      <th>boardgamefamily</th>\n",
       "      <td>[Campaign Games, Components: Miniatures, Crowd...</td>\n",
       "      <td>[Campaign Games, Legacy, Pandemic]</td>\n",
       "    </tr>\n",
       "    <tr>\n",
       "      <th>boardgameimplementation</th>\n",
       "      <td>[]</td>\n",
       "      <td>[Pandemic Legacy: Season 2, Pandemic]</td>\n",
       "    </tr>\n",
       "    <tr>\n",
       "      <th>boardgameintegration</th>\n",
       "      <td>[]</td>\n",
       "      <td>[]</td>\n",
       "    </tr>\n",
       "    <tr>\n",
       "      <th>boardgamemechanic</th>\n",
       "      <td>[Campaign / Battle Card Driven, Cooperative Pl...</td>\n",
       "      <td>[Action Point Allowance System, Cooperative Pl...</td>\n",
       "    </tr>\n",
       "    <tr>\n",
       "      <th>boardgamepublisher</th>\n",
       "      <td>[Cephalofair Games, Albi, Asmodee, Feuerland S...</td>\n",
       "      <td>[Z-Man Games, Inc., Asterion Press, Devir, Fil...</td>\n",
       "    </tr>\n",
       "    <tr>\n",
       "      <th>game_id</th>\n",
       "      <td>174430</td>\n",
       "      <td>161936</td>\n",
       "    </tr>\n",
       "    <tr>\n",
       "      <th>maxplayers</th>\n",
       "      <td>4</td>\n",
       "      <td>4</td>\n",
       "    </tr>\n",
       "    <tr>\n",
       "      <th>maxplaytime</th>\n",
       "      <td>120</td>\n",
       "      <td>60</td>\n",
       "    </tr>\n",
       "    <tr>\n",
       "      <th>median</th>\n",
       "      <td>0</td>\n",
       "      <td>0</td>\n",
       "    </tr>\n",
       "    <tr>\n",
       "      <th>minage</th>\n",
       "      <td>12</td>\n",
       "      <td>13</td>\n",
       "    </tr>\n",
       "    <tr>\n",
       "      <th>minplayers</th>\n",
       "      <td>1</td>\n",
       "      <td>2</td>\n",
       "    </tr>\n",
       "    <tr>\n",
       "      <th>minplaytime</th>\n",
       "      <td>60</td>\n",
       "      <td>60</td>\n",
       "    </tr>\n",
       "    <tr>\n",
       "      <th>name</th>\n",
       "      <td>Gloomhaven</td>\n",
       "      <td>Pandemic Legacy: Season 1</td>\n",
       "    </tr>\n",
       "    <tr>\n",
       "      <th>numcomments</th>\n",
       "      <td>4908</td>\n",
       "      <td>4955</td>\n",
       "    </tr>\n",
       "    <tr>\n",
       "      <th>numweights</th>\n",
       "      <td>1063</td>\n",
       "      <td>871</td>\n",
       "    </tr>\n",
       "    <tr>\n",
       "      <th>owned</th>\n",
       "      <td>40636</td>\n",
       "      <td>49353</td>\n",
       "    </tr>\n",
       "    <tr>\n",
       "      <th>playingtime</th>\n",
       "      <td>120</td>\n",
       "      <td>60</td>\n",
       "    </tr>\n",
       "    <tr>\n",
       "      <th>stddev</th>\n",
       "      <td>1.60282</td>\n",
       "      <td>1.60869</td>\n",
       "    </tr>\n",
       "    <tr>\n",
       "      <th>trading</th>\n",
       "      <td>208</td>\n",
       "      <td>236</td>\n",
       "    </tr>\n",
       "    <tr>\n",
       "      <th>url</th>\n",
       "      <td>https://boardgamegeek.com/boardgame/174430/glo...</td>\n",
       "      <td>https://boardgamegeek.com/boardgame/161936/pan...</td>\n",
       "    </tr>\n",
       "    <tr>\n",
       "      <th>usersrated</th>\n",
       "      <td>24755</td>\n",
       "      <td>31031</td>\n",
       "    </tr>\n",
       "    <tr>\n",
       "      <th>wanting</th>\n",
       "      <td>1341</td>\n",
       "      <td>779</td>\n",
       "    </tr>\n",
       "    <tr>\n",
       "      <th>wishing</th>\n",
       "      <td>12117</td>\n",
       "      <td>8472</td>\n",
       "    </tr>\n",
       "    <tr>\n",
       "      <th>yearpublished</th>\n",
       "      <td>2017</td>\n",
       "      <td>2015</td>\n",
       "    </tr>\n",
       "  </tbody>\n",
       "</table>\n",
       "</div>"
      ],
      "text/plain": [
       "                                                                         0  \\\n",
       "AbstractGameRank                                                       NaN   \n",
       "AccessoryRank                                                          NaN   \n",
       "AmigaRank                                                              NaN   \n",
       "ArcadeRank                                                             NaN   \n",
       "AtariSTRank                                                            NaN   \n",
       "BoardGameRank                                                            1   \n",
       "Children'sGameRank                                                     NaN   \n",
       "Commodore64Rank                                                        NaN   \n",
       "CustomizableRank                                                       NaN   \n",
       "FamilyGameRank                                                         NaN   \n",
       "PartyGameRank                                                          NaN   \n",
       "RPGItemRank                                                            NaN   \n",
       "StrategyGameRank                                                         1   \n",
       "ThematicRank                                                             1   \n",
       "VideoGameRank                                                          NaN   \n",
       "WarGameRank                                                            NaN   \n",
       "average                                                            8.90224   \n",
       "averageweight                                                       3.7893   \n",
       "bayesaverage                                                       8.60944   \n",
       "boardgameartist          [Alexandr Elichev, Josh T. McDowell, Alvaro Ne...   \n",
       "boardgamecategory        [Adventure, Exploration, Fantasy, Fighting, Mi...   \n",
       "boardgamecompilation                                                    []   \n",
       "boardgamedesigner                                         [Isaac Childres]   \n",
       "boardgameexpansion       [Gloomhaven: Forgotten Circles, Gloomhaven: So...   \n",
       "boardgamefamily          [Campaign Games, Components: Miniatures, Crowd...   \n",
       "boardgameimplementation                                                 []   \n",
       "boardgameintegration                                                    []   \n",
       "boardgamemechanic        [Campaign / Battle Card Driven, Cooperative Pl...   \n",
       "boardgamepublisher       [Cephalofair Games, Albi, Asmodee, Feuerland S...   \n",
       "game_id                                                             174430   \n",
       "maxplayers                                                               4   \n",
       "maxplaytime                                                            120   \n",
       "median                                                                   0   \n",
       "minage                                                                  12   \n",
       "minplayers                                                               1   \n",
       "minplaytime                                                             60   \n",
       "name                                                            Gloomhaven   \n",
       "numcomments                                                           4908   \n",
       "numweights                                                            1063   \n",
       "owned                                                                40636   \n",
       "playingtime                                                            120   \n",
       "stddev                                                             1.60282   \n",
       "trading                                                                208   \n",
       "url                      https://boardgamegeek.com/boardgame/174430/glo...   \n",
       "usersrated                                                           24755   \n",
       "wanting                                                               1341   \n",
       "wishing                                                              12117   \n",
       "yearpublished                                                         2017   \n",
       "\n",
       "                                                                         1  \n",
       "AbstractGameRank                                                       NaN  \n",
       "AccessoryRank                                                          NaN  \n",
       "AmigaRank                                                              NaN  \n",
       "ArcadeRank                                                             NaN  \n",
       "AtariSTRank                                                            NaN  \n",
       "BoardGameRank                                                            2  \n",
       "Children'sGameRank                                                     NaN  \n",
       "Commodore64Rank                                                        NaN  \n",
       "CustomizableRank                                                       NaN  \n",
       "FamilyGameRank                                                         NaN  \n",
       "PartyGameRank                                                          NaN  \n",
       "RPGItemRank                                                            NaN  \n",
       "StrategyGameRank                                                         2  \n",
       "ThematicRank                                                             2  \n",
       "VideoGameRank                                                          NaN  \n",
       "WarGameRank                                                            NaN  \n",
       "average                                                            8.64276  \n",
       "averageweight                                                       2.8278  \n",
       "bayesaverage                                                       8.48849  \n",
       "boardgameartist                                          [Chris Quilliams]  \n",
       "boardgamecategory                                 [Environmental, Medical]  \n",
       "boardgamecompilation                                                    []  \n",
       "boardgamedesigner                               [Rob Daviau, Matt Leacock]  \n",
       "boardgameexpansion                                                      []  \n",
       "boardgamefamily                         [Campaign Games, Legacy, Pandemic]  \n",
       "boardgameimplementation              [Pandemic Legacy: Season 2, Pandemic]  \n",
       "boardgameintegration                                                    []  \n",
       "boardgamemechanic        [Action Point Allowance System, Cooperative Pl...  \n",
       "boardgamepublisher       [Z-Man Games, Inc., Asterion Press, Devir, Fil...  \n",
       "game_id                                                             161936  \n",
       "maxplayers                                                               4  \n",
       "maxplaytime                                                             60  \n",
       "median                                                                   0  \n",
       "minage                                                                  13  \n",
       "minplayers                                                               2  \n",
       "minplaytime                                                             60  \n",
       "name                                             Pandemic Legacy: Season 1  \n",
       "numcomments                                                           4955  \n",
       "numweights                                                             871  \n",
       "owned                                                                49353  \n",
       "playingtime                                                             60  \n",
       "stddev                                                             1.60869  \n",
       "trading                                                                236  \n",
       "url                      https://boardgamegeek.com/boardgame/161936/pan...  \n",
       "usersrated                                                           31031  \n",
       "wanting                                                                779  \n",
       "wishing                                                               8472  \n",
       "yearpublished                                                         2015  "
      ]
     },
     "execution_count": 58,
     "metadata": {},
     "output_type": "execute_result"
    }
   ],
   "source": [
    "df_game.head(2).T"
   ]
  },
  {
   "cell_type": "code",
   "execution_count": null,
   "metadata": {},
   "outputs": [],
   "source": []
  }
 ],
 "metadata": {
  "kernelspec": {
   "display_name": "Python 3",
   "language": "python",
   "name": "python3"
  },
  "language_info": {
   "codemirror_mode": {
    "name": "ipython",
    "version": 3
   },
   "file_extension": ".py",
   "mimetype": "text/x-python",
   "name": "python",
   "nbconvert_exporter": "python",
   "pygments_lexer": "ipython3",
   "version": "3.7.2"
  }
 },
 "nbformat": 4,
 "nbformat_minor": 2
}
