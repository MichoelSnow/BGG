{
 "cells": [
  {
   "cell_type": "markdown",
   "metadata": {},
   "source": [
    "# Imports"
   ]
  },
  {
   "cell_type": "code",
   "execution_count": 1,
   "metadata": {
    "ExecuteTime": {
     "end_time": "2019-04-07T20:43:58.575331Z",
     "start_time": "2019-04-07T20:43:54.372370Z"
    }
   },
   "outputs": [
    {
     "name": "stderr",
     "output_type": "stream",
     "text": [
      "Using TensorFlow backend.\n"
     ]
    }
   ],
   "source": [
    "import pandas as pd\n",
    "import json\n",
    "from plotnine import *\n",
    "import matplotlib.pyplot as plt\n",
    "from gensim.utils import simple_preprocess\n",
    "from gensim.models.doc2vec import TaggedDocument, Doc2Vec\n",
    "from tqdm import tqdm\n",
    "import numpy as np\n",
    "from sklearn.model_selection import train_test_split\n",
    "from keras.utils import to_categorical\n",
    "from keras.layers import Dense, Input, Flatten, Conv1D, MaxPooling1D, Dropout, Activation\n",
    "from keras.models import Model, Sequential\n",
    "from keras.optimizers import SGD\n",
    "from sklearn.preprocessing import MinMaxScaler\n",
    "import keras\n",
    "\n",
    "%matplotlib inline"
   ]
  },
  {
   "cell_type": "markdown",
   "metadata": {},
   "source": [
    "# Load Data"
   ]
  },
  {
   "cell_type": "code",
   "execution_count": 2,
   "metadata": {
    "ExecuteTime": {
     "end_time": "2019-04-07T20:44:02.315956Z",
     "start_time": "2019-04-07T20:44:00.207499Z"
    }
   },
   "outputs": [],
   "source": [
    "with open('/home/msnow/git/bgg/data/crawler/game_comments.json', 'r') as fp:\n",
    "    game_comments = json.load(fp)"
   ]
  },
  {
   "cell_type": "code",
   "execution_count": 3,
   "metadata": {
    "ExecuteTime": {
     "end_time": "2019-04-07T20:44:02.758814Z",
     "start_time": "2019-04-07T20:44:02.317533Z"
    }
   },
   "outputs": [
    {
     "data": {
      "text/html": [
       "<div>\n",
       "<style scoped>\n",
       "    .dataframe tbody tr th:only-of-type {\n",
       "        vertical-align: middle;\n",
       "    }\n",
       "\n",
       "    .dataframe tbody tr th {\n",
       "        vertical-align: top;\n",
       "    }\n",
       "\n",
       "    .dataframe thead th {\n",
       "        text-align: right;\n",
       "    }\n",
       "</style>\n",
       "<table border=\"1\" class=\"dataframe\">\n",
       "  <thead>\n",
       "    <tr style=\"text-align: right;\">\n",
       "      <th></th>\n",
       "      <th>scores</th>\n",
       "      <th>comments</th>\n",
       "    </tr>\n",
       "  </thead>\n",
       "  <tbody>\n",
       "    <tr>\n",
       "      <th>0</th>\n",
       "      <td>10.0</td>\n",
       "      <td>Great, epic 18xx game; after one play, it feel...</td>\n",
       "    </tr>\n",
       "    <tr>\n",
       "      <th>1</th>\n",
       "      <td>10.0</td>\n",
       "      <td>Print and play de Robert Lecuyer</td>\n",
       "    </tr>\n",
       "    <tr>\n",
       "      <th>2</th>\n",
       "      <td>10.0</td>\n",
       "      <td>This is one of my favorite 18xx games .  It ha...</td>\n",
       "    </tr>\n",
       "    <tr>\n",
       "      <th>3</th>\n",
       "      <td>10.0</td>\n",
       "      <td>My current favorite 18xx title.</td>\n",
       "    </tr>\n",
       "    <tr>\n",
       "      <th>4</th>\n",
       "      <td>10.0</td>\n",
       "      <td>I don't love this game, but I have to say, it'...</td>\n",
       "    </tr>\n",
       "  </tbody>\n",
       "</table>\n",
       "</div>"
      ],
      "text/plain": [
       "   scores                                           comments\n",
       "0    10.0  Great, epic 18xx game; after one play, it feel...\n",
       "1    10.0                   Print and play de Robert Lecuyer\n",
       "2    10.0  This is one of my favorite 18xx games .  It ha...\n",
       "3    10.0                    My current favorite 18xx title.\n",
       "4    10.0  I don't love this game, but I have to say, it'..."
      ]
     },
     "execution_count": 3,
     "metadata": {},
     "output_type": "execute_result"
    }
   ],
   "source": [
    "comment_list = []\n",
    "score_list = []\n",
    "for ky in game_comments.keys():\n",
    "    comment_list += game_comments[ky]\n",
    "    score_list += [float(ky)]*len(game_comments[ky])\n",
    "df_comments = pd.DataFrame({'scores': score_list, 'comments': comment_list})\n",
    "df_comments.head()"
   ]
  },
  {
   "cell_type": "code",
   "execution_count": 5,
   "metadata": {
    "ExecuteTime": {
     "end_time": "2019-04-07T20:44:12.999161Z",
     "start_time": "2019-04-07T20:44:12.907812Z"
    }
   },
   "outputs": [
    {
     "data": {
      "text/plain": [
       "((1699992, 2), (200000, 2))"
      ]
     },
     "execution_count": 5,
     "metadata": {},
     "output_type": "execute_result"
    }
   ],
   "source": [
    "df_sample = df_comments.sample(n=2*10**5, random_state=43)\n",
    "df_comments.shape, df_sample.shape"
   ]
  },
  {
   "cell_type": "markdown",
   "metadata": {
    "heading_collapsed": true
   },
   "source": [
    "# EDA"
   ]
  },
  {
   "cell_type": "code",
   "execution_count": 52,
   "metadata": {
    "ExecuteTime": {
     "end_time": "2019-03-28T20:57:57.532787Z",
     "start_time": "2019-03-28T20:57:56.041862Z"
    },
    "hidden": true
   },
   "outputs": [
    {
     "data": {
      "image/png": "[encoded data removed]",
      "text/plain": [
       "<Figure size 640x480 with 1 Axes>"
      ]
     },
     "metadata": {},
     "output_type": "display_data"
    },
    {
     "data": {
      "text/plain": [
       "<ggplot: (-9223363267596462297)>"
      ]
     },
     "execution_count": 52,
     "metadata": {},
     "output_type": "execute_result"
    }
   ],
   "source": [
    "ggplot(df_comments, aes(x='scores')) + geom_histogram(bins=10, fill='cyan')"
   ]
  },
  {
   "cell_type": "code",
   "execution_count": 53,
   "metadata": {
    "ExecuteTime": {
     "end_time": "2019-03-28T20:58:55.075179Z",
     "start_time": "2019-03-28T20:58:54.935138Z"
    },
    "hidden": true
   },
   "outputs": [
    {
     "data": {
      "image/png": "[encoded data removed]",
      "text/plain": [
       "<Figure size 1080x432 with 1 Axes>"
      ]
     },
     "metadata": {
      "needs_background": "light"
     },
     "output_type": "display_data"
    }
   ],
   "source": [
    "plt.figure(figsize=(15,6))\n",
    "plt.hist(df_comments.scores, bins=10);"
   ]
  },
  {
   "cell_type": "markdown",
   "metadata": {},
   "source": [
    "# Process the text"
   ]
  },
  {
   "cell_type": "code",
   "execution_count": 6,
   "metadata": {
    "ExecuteTime": {
     "end_time": "2019-04-07T20:44:23.462535Z",
     "start_time": "2019-04-07T20:44:16.386582Z"
    }
   },
   "outputs": [],
   "source": [
    "df_sample['tokens'] = df_sample.comments.map(lambda x: simple_preprocess(x))"
   ]
  },
  {
   "cell_type": "markdown",
   "metadata": {},
   "source": [
    "# Create the text embedding"
   ]
  },
  {
   "cell_type": "code",
   "execution_count": 7,
   "metadata": {
    "ExecuteTime": {
     "end_time": "2019-04-07T20:44:29.814135Z",
     "start_time": "2019-04-07T20:44:29.804553Z"
    }
   },
   "outputs": [],
   "source": [
    "class EmbedText:\n",
    "\n",
    "    def __init__(self):\n",
    "        self.train_corpus = None\n",
    "\n",
    "    def d2v_setup(self, df: pd.DataFrame, text_col: str, emb_size: int = 100):\n",
    "        self.train_corpus = []\n",
    "        for idx, row in df.iterrows():\n",
    "            self.train_corpus.append(TaggedDocument(row[text_col], [idx]))\n",
    "        self.model_d2v = Doc2Vec(vector_size=emb_size, dm=0, min_count=2, workers=6, epochs=1, min_alpha=0.025, alpha=0.025)\n",
    "        self.model_d2v.build_vocab(self.train_corpus)\n",
    "\n",
    "    def d2v_fit(self, epochs: int = 10, decay_rate: float = 0.002):\n",
    "        for _ in tqdm(range(epochs)):\n",
    "            self.model_d2v.train(self.train_corpus, total_examples=self.model_d2v.corpus_count, epochs=epochs)\n",
    "            self.model_d2v.alpha -= decay_rate\n",
    "            self.model_d2v.min_alpha = self.model_d2v.alpha\n",
    "        return self.model_d2v\n",
    "\n",
    "    def d2v_embed_save(self, loc: str):\n",
    "        self.model_d2v.save(loc)\n",
    "\n",
    "    def d2v_vectors(self, df: pd.DataFrame, text_col: str):\n",
    "        return df.loc[:, text_col].map(lambda x: self.model_d2v.infer_vector(x).tolist())"
   ]
  },
  {
   "cell_type": "code",
   "execution_count": 8,
   "metadata": {
    "ExecuteTime": {
     "end_time": "2019-04-07T20:45:09.491098Z",
     "start_time": "2019-04-07T20:44:34.410489Z"
    }
   },
   "outputs": [
    {
     "name": "stderr",
     "output_type": "stream",
     "text": [
      "100%|██████████| 10/10 [00:23<00:00,  2.34s/it]\n"
     ]
    },
    {
     "data": {
      "text/plain": [
       "<gensim.models.doc2vec.Doc2Vec at 0x7fb7f8223a20>"
      ]
     },
     "execution_count": 8,
     "metadata": {},
     "output_type": "execute_result"
    }
   ],
   "source": [
    "embd_10 = EmbedText()\n",
    "embd_10.d2v_setup(df_sample.sample(n=10**4, random_state=43), text_col='tokens', emb_size=10)\n",
    "embd_10.d2v_fit(epochs=10)"
   ]
  },
  {
   "cell_type": "code",
   "execution_count": 9,
   "metadata": {
    "ExecuteTime": {
     "end_time": "2019-04-07T20:46:11.999438Z",
     "start_time": "2019-04-07T20:45:35.853514Z"
    }
   },
   "outputs": [
    {
     "name": "stderr",
     "output_type": "stream",
     "text": [
      "100%|██████████| 10/10 [00:24<00:00,  2.42s/it]\n"
     ]
    },
    {
     "data": {
      "text/plain": [
       "<gensim.models.doc2vec.Doc2Vec at 0x7fb7cd733128>"
      ]
     },
     "execution_count": 9,
     "metadata": {},
     "output_type": "execute_result"
    }
   ],
   "source": [
    "embd_50 = EmbedText()\n",
    "embd_50.d2v_setup(df_sample.sample(n=10**4, random_state=43), text_col='tokens', emb_size=50)\n",
    "embd_50.d2v_fit(epochs=10)"
   ]
  },
  {
   "cell_type": "code",
   "execution_count": 8,
   "metadata": {
    "ExecuteTime": {
     "end_time": "2019-03-28T22:37:10.063567Z",
     "start_time": "2019-03-28T22:37:08.465233Z"
    }
   },
   "outputs": [],
   "source": [
    "mdl_path = '/home/msnow/git/bgg/data/embed/game_comments_sampled.d2v'\n",
    "embd.d2v_embed_save(mdl_path)"
   ]
  },
  {
   "cell_type": "code",
   "execution_count": 10,
   "metadata": {
    "ExecuteTime": {
     "end_time": "2019-04-07T20:50:38.918624Z",
     "start_time": "2019-04-07T20:49:44.481039Z"
    }
   },
   "outputs": [],
   "source": [
    "df_sample['vectors_10'] = embd_10.d2v_vectors(df_sample, text_col='tokens')\n",
    "df_sample['vectors_50'] = embd_50.d2v_vectors(df_sample, text_col='tokens')"
   ]
  },
  {
   "cell_type": "markdown",
   "metadata": {},
   "source": [
    "# Prepare the data for training"
   ]
  },
  {
   "cell_type": "code",
   "execution_count": 11,
   "metadata": {
    "ExecuteTime": {
     "end_time": "2019-04-07T20:51:30.783434Z",
     "start_time": "2019-04-07T20:51:30.774046Z"
    }
   },
   "outputs": [],
   "source": [
    "def split_data(idx, train_ratio: float = 0.6, val_ratio: float = None, holdout: bool = False, rnd_seed: int = 24):\n",
    "    idx_train, idx_test = train_test_split(idx, test_size= 1-train_ratio, random_state=rnd_seed)\n",
    "    if holdout and val_ratio is not None:\n",
    "        val_ratio_rel = val_ratio / (1 - train_ratio)\n",
    "        idx_test, idx_val = train_test_split(idx_test, test_size=val_ratio_rel, random_state=rnd_seed)\n",
    "    else:\n",
    "        idx_val = None\n",
    "    return idx_train, idx_test, idx_val"
   ]
  },
  {
   "cell_type": "code",
   "execution_count": 12,
   "metadata": {
    "ExecuteTime": {
     "end_time": "2019-04-07T20:51:32.839620Z",
     "start_time": "2019-04-07T20:51:32.827501Z"
    }
   },
   "outputs": [
    {
     "data": {
      "text/plain": [
       "((120000,), (60000,), (20000,))"
      ]
     },
     "execution_count": 12,
     "metadata": {},
     "output_type": "execute_result"
    }
   ],
   "source": [
    "idx_train, idx_test, idx_val = split_data(df_sample.index, holdout=True, val_ratio=0.1)\n",
    "idx_train.shape, idx_test.shape, idx_val.shape"
   ]
  },
  {
   "cell_type": "code",
   "execution_count": 13,
   "metadata": {
    "ExecuteTime": {
     "end_time": "2019-04-07T20:52:16.914424Z",
     "start_time": "2019-04-07T20:52:16.343303Z"
    }
   },
   "outputs": [],
   "source": [
    "sclr = MinMaxScaler().fit(np.reshape(df_sample.scores.values,(-1,1)))\n",
    "y_train = np.squeeze(sclr.transform(np.reshape(df_sample.loc[idx_train, 'scores'].values,(-1,1))))\n",
    "y_test = np.squeeze(sclr.transform(np.reshape(df_sample.loc[idx_test, 'scores'].values,(-1,1))))\n",
    "y_val = np.squeeze(sclr.transform(np.reshape(df_sample.loc[idx_val, 'scores'].values,(-1,1))))\n",
    "x_val_10 = np.array(df_sample.loc[idx_val,'vectors_10'].tolist())\n",
    "x_test_10 = np.array(df_sample.loc[idx_test,'vectors_10'].tolist())\n",
    "x_train_10 = np.array(df_sample.loc[idx_train,'vectors_10'].tolist())\n",
    "x_val_50 = np.array(df_sample.loc[idx_val,'vectors_50'].tolist())\n",
    "x_test_50 = np.array(df_sample.loc[idx_test,'vectors_50'].tolist())\n",
    "x_train_50 = np.array(df_sample.loc[idx_train,'vectors_50'].tolist())"
   ]
  },
  {
   "cell_type": "markdown",
   "metadata": {},
   "source": [
    "# Sequential Model"
   ]
  },
  {
   "cell_type": "code",
   "execution_count": 15,
   "metadata": {
    "ExecuteTime": {
     "end_time": "2019-04-07T20:52:42.639685Z",
     "start_time": "2019-04-07T20:52:40.407002Z"
    }
   },
   "outputs": [
    {
     "name": "stdout",
     "output_type": "stream",
     "text": [
      "WARNING:tensorflow:From /home/msnow/miniconda3/envs/data_sci/lib/python3.7/site-packages/tensorflow/python/framework/op_def_library.py:263: colocate_with (from tensorflow.python.framework.ops) is deprecated and will be removed in a future version.\n",
      "Instructions for updating:\n",
      "Colocations handled automatically by placer.\n",
      "WARNING:tensorflow:From /home/msnow/miniconda3/envs/data_sci/lib/python3.7/site-packages/tensorflow/python/ops/math_ops.py:3066: to_int32 (from tensorflow.python.ops.math_ops) is deprecated and will be removed in a future version.\n",
      "Instructions for updating:\n",
      "Use tf.cast instead.\n",
      "Train on 120000 samples, validate on 60000 samples\n",
      "Epoch 1/3\n",
      "120000/120000 [==============================] - 1s 7us/step - loss: 0.0209 - mean_squared_error: 0.0209 - val_loss: 0.0190 - val_mean_squared_error: 0.0190\n",
      "Epoch 2/3\n",
      "120000/120000 [==============================] - 1s 5us/step - loss: 0.0188 - mean_squared_error: 0.0188 - val_loss: 0.0189 - val_mean_squared_error: 0.0189\n",
      "Epoch 3/3\n",
      "120000/120000 [==============================] - 1s 5us/step - loss: 0.0187 - mean_squared_error: 0.0187 - val_loss: 0.0188 - val_mean_squared_error: 0.0188\n"
     ]
    },
    {
     "data": {
      "text/plain": [
       "<keras.callbacks.History at 0x7fb7cd2fef98>"
      ]
     },
     "execution_count": 15,
     "metadata": {},
     "output_type": "execute_result"
    }
   ],
   "source": [
    "model = Sequential()\n",
    "model.add(Dense(16, activation='relu', input_dim=x_train_10.shape[1]))\n",
    "model.add(Dense(8, activation='relu'))\n",
    "model.add(Dense(1, activation='sigmoid'))\n",
    "# model.compile(loss='mse', optimizer=SGD(lr=0.2), metrics=['mean_squared_error'])\n",
    "model.compile(loss='mse', optimizer='adam', metrics=['mean_squared_error'])\n",
    "model.fit(x_train_10, y_train, epochs=3, batch_size = 128, validation_data=[x_test_10, y_test])"
   ]
  },
  {
   "cell_type": "code",
   "execution_count": 16,
   "metadata": {
    "ExecuteTime": {
     "end_time": "2019-04-07T20:52:51.786519Z",
     "start_time": "2019-04-07T20:52:51.671752Z"
    }
   },
   "outputs": [
    {
     "name": "stdout",
     "output_type": "stream",
     "text": [
      "20000/20000 [==============================] - 0s 5us/step\n"
     ]
    },
    {
     "data": {
      "text/plain": [
       "[0.018490521759539844, 0.018490521759539844]"
      ]
     },
     "execution_count": 16,
     "metadata": {},
     "output_type": "execute_result"
    }
   ],
   "source": [
    "model.evaluate(x_val_10, y_val)"
   ]
  },
  {
   "cell_type": "code",
   "execution_count": 17,
   "metadata": {
    "ExecuteTime": {
     "end_time": "2019-04-07T20:52:57.534260Z",
     "start_time": "2019-04-07T20:52:57.511889Z"
    }
   },
   "outputs": [
    {
     "data": {
      "text/plain": [
       "array([[ 7.26938534,  6.5       ],\n",
       "       [ 8.14490128,  8.5       ],\n",
       "       [ 7.79084349,  9.        ],\n",
       "       [ 7.49051714,  8.5       ],\n",
       "       [ 7.05470085,  8.        ],\n",
       "       [ 7.25369024,  7.        ],\n",
       "       [ 7.37356138,  7.        ],\n",
       "       [ 7.57329988, 10.        ],\n",
       "       [ 7.53865051,  7.        ],\n",
       "       [ 7.06797695,  7.        ]])"
      ]
     },
     "execution_count": 17,
     "metadata": {},
     "output_type": "execute_result"
    }
   ],
   "source": [
    "x_pred = model.predict(x_val_10[:10])\n",
    "np.concatenate((sclr.inverse_transform(x_pred), sclr.inverse_transform(np.reshape(y_val[:10],(-1,1)))),1)"
   ]
  },
  {
   "cell_type": "code",
   "execution_count": null,
   "metadata": {},
   "outputs": [],
   "source": []
  },
  {
   "cell_type": "code",
   "execution_count": 23,
   "metadata": {
    "ExecuteTime": {
     "end_time": "2019-04-07T20:54:21.128355Z",
     "start_time": "2019-04-07T20:54:14.005424Z"
    }
   },
   "outputs": [
    {
     "name": "stdout",
     "output_type": "stream",
     "text": [
      "Train on 120000 samples, validate on 60000 samples\n",
      "Epoch 1/3\n",
      "120000/120000 [==============================] - 2s 20us/step - loss: 0.0191 - mean_squared_error: 0.0191 - val_loss: 0.0181 - val_mean_squared_error: 0.0181\n",
      "Epoch 2/3\n",
      "120000/120000 [==============================] - 2s 19us/step - loss: 0.0179 - mean_squared_error: 0.0179 - val_loss: 0.0179 - val_mean_squared_error: 0.0179\n",
      "Epoch 3/3\n",
      "120000/120000 [==============================] - 2s 19us/step - loss: 0.0178 - mean_squared_error: 0.0178 - val_loss: 0.0179 - val_mean_squared_error: 0.0179\n"
     ]
    },
    {
     "data": {
      "text/plain": [
       "<keras.callbacks.History at 0x7fb76c083cf8>"
      ]
     },
     "execution_count": 23,
     "metadata": {},
     "output_type": "execute_result"
    }
   ],
   "source": [
    "model = Sequential()\n",
    "model.add(Dense(16, activation='relu', input_dim=x_train_50.shape[1]))\n",
    "model.add(Dense(8, activation='relu'))\n",
    "model.add(Dense(1, activation='sigmoid'))\n",
    "# model.compile(loss='mse', optimizer=SGD(lr=0.2), metrics=['mean_squared_error'])\n",
    "model.compile(loss='mse', optimizer='adam', metrics=['mean_squared_error'])\n",
    "model.fit(x_train_50, y_train, epochs=3, batch_size = 32, validation_data=[x_test_50, y_test])"
   ]
  },
  {
   "cell_type": "code",
   "execution_count": 24,
   "metadata": {
    "ExecuteTime": {
     "end_time": "2019-04-07T20:54:25.673115Z",
     "start_time": "2019-04-07T20:54:25.473690Z"
    },
    "scrolled": true
   },
   "outputs": [
    {
     "name": "stdout",
     "output_type": "stream",
     "text": [
      "20000/20000 [==============================] - 0s 10us/step\n"
     ]
    },
    {
     "data": {
      "text/plain": [
       "[0.0175989424854517, 0.0175989424854517]"
      ]
     },
     "execution_count": 24,
     "metadata": {},
     "output_type": "execute_result"
    }
   ],
   "source": [
    "model.evaluate(x_val_50, y_val)"
   ]
  },
  {
   "cell_type": "code",
   "execution_count": 25,
   "metadata": {
    "ExecuteTime": {
     "end_time": "2019-04-07T20:54:27.877354Z",
     "start_time": "2019-04-07T20:54:27.830976Z"
    }
   },
   "outputs": [
    {
     "data": {
      "text/plain": [
       "array([[ 7.48511982,  6.5       ],\n",
       "       [ 7.96741962,  8.5       ],\n",
       "       [ 8.38750553,  9.        ],\n",
       "       [ 7.81949568,  8.5       ],\n",
       "       [ 7.62762451,  8.        ],\n",
       "       [ 7.12237453,  7.        ],\n",
       "       [ 7.72806644,  7.        ],\n",
       "       [ 8.07627773, 10.        ],\n",
       "       [ 7.25026655,  7.        ],\n",
       "       [ 7.15022659,  7.        ]])"
      ]
     },
     "execution_count": 25,
     "metadata": {},
     "output_type": "execute_result"
    }
   ],
   "source": [
    "x_pred = model.predict(x_val_50[:10])\n",
    "np.concatenate((sclr.inverse_transform(x_pred), sclr.inverse_transform(np.reshape(y_val[:10],(-1,1)))),1)"
   ]
  },
  {
   "cell_type": "code",
   "execution_count": null,
   "metadata": {},
   "outputs": [],
   "source": []
  },
  {
   "cell_type": "code",
   "execution_count": null,
   "metadata": {},
   "outputs": [],
   "source": []
  },
  {
   "cell_type": "code",
   "execution_count": 74,
   "metadata": {
    "ExecuteTime": {
     "end_time": "2019-04-07T02:42:27.804291Z",
     "start_time": "2019-04-07T02:42:23.912455Z"
    },
    "scrolled": true
   },
   "outputs": [
    {
     "name": "stdout",
     "output_type": "stream",
     "text": [
      "Epoch 1/6\n",
      "60000/60000 [==============================] - 1s 14us/step - loss: 7.6817 - acc: 0.0000e+00\n",
      "Epoch 2/6\n",
      "60000/60000 [==============================] - 1s 9us/step - loss: 7.3362 - acc: 0.0000e+00\n",
      "Epoch 3/6\n",
      "60000/60000 [==============================] - 1s 9us/step - loss: 7.3260 - acc: 0.0000e+00\n",
      "Epoch 4/6\n",
      "60000/60000 [==============================] - 1s 9us/step - loss: 7.3235 - acc: 0.0000e+00\n",
      "Epoch 5/6\n",
      "60000/60000 [==============================] - 1s 9us/step - loss: 7.3228 - acc: 0.0000e+00\n",
      "Epoch 6/6\n",
      "60000/60000 [==============================] - 1s 9us/step - loss: 7.3227 - acc: 0.0000e+00\n",
      "40000/40000 [==============================] - 0s 6us/step\n"
     ]
    }
   ],
   "source": [
    "model = Sequential()\n",
    "# Dense(64) is a fully-connected layer with 64 hidden units.\n",
    "# in the first layer, you must specify the expected input data shape:\n",
    "# here, 20-dimensional vectors.\n",
    "model.add(Dense(32, activation='relu', input_dim=100))\n",
    "# model.add(Dropout(0.5))\n",
    "# model.add(Dense(32, activation='relu'))\n",
    "# model.add(Dropout(0.5))\n",
    "# model.add(Dense(16, activation='relu'))\n",
    "# model.add(Dropout(0.5))\n",
    "model.add(Dense(1, activation='sigmoid'))\n",
    "\n",
    "# sgd = SGD(lr=0.01, decay=1e-6, momentum=0.9, nesterov=True)\n",
    "# model.compile(loss='categorical_crossentropy',\n",
    "#               optimizer=sgd,\n",
    "#               metrics=['accuracy'])\n",
    "model.compile(loss='mean_squared_error', optimizer='adam', metrics=['acc'])\n",
    "model.fit(train_x, train_y,\n",
    "          epochs=6,\n",
    "          batch_size=64)\n",
    "score = model.evaluate(test_x, test_y, batch_size=128)"
   ]
  },
  {
   "cell_type": "code",
   "execution_count": 75,
   "metadata": {
    "ExecuteTime": {
     "end_time": "2019-04-07T02:42:30.875423Z",
     "start_time": "2019-04-07T02:42:30.869910Z"
    }
   },
   "outputs": [
    {
     "data": {
      "text/plain": [
       "array([-0.29018017, -0.04953381, -1.54176467, ..., -0.02679499,\n",
       "        0.0443393 ,  9.2227916 ])"
      ]
     },
     "execution_count": 75,
     "metadata": {},
     "output_type": "execute_result"
    }
   ],
   "source": [
    "train_y"
   ]
  },
  {
   "cell_type": "code",
   "execution_count": 76,
   "metadata": {
    "ExecuteTime": {
     "end_time": "2019-04-07T02:42:35.070449Z",
     "start_time": "2019-04-07T02:42:35.067187Z"
    }
   },
   "outputs": [
    {
     "data": {
      "text/plain": [
       "array([-2.68902122,  1.45500776,  1.21511293, ..., -0.17123162,\n",
       "       -0.12158073, -7.53054651])"
      ]
     },
     "execution_count": 76,
     "metadata": {},
     "output_type": "execute_result"
    }
   ],
   "source": [
    "test_y"
   ]
  },
  {
   "cell_type": "code",
   "execution_count": 77,
   "metadata": {
    "ExecuteTime": {
     "end_time": "2019-04-07T02:42:39.831560Z",
     "start_time": "2019-04-07T02:42:39.476335Z"
    }
   },
   "outputs": [
    {
     "data": {
      "text/plain": [
       "array([[0.        ],\n",
       "       [0.9973669 ],\n",
       "       [0.988399  ],\n",
       "       ...,\n",
       "       [0.01201296],\n",
       "       [0.01989004],\n",
       "       [0.        ]], dtype=float32)"
      ]
     },
     "execution_count": 77,
     "metadata": {},
     "output_type": "execute_result"
    }
   ],
   "source": [
    "model.predict(test_x)"
   ]
  },
  {
   "cell_type": "code",
   "execution_count": 66,
   "metadata": {
    "ExecuteTime": {
     "end_time": "2019-04-06T14:21:18.592570Z",
     "start_time": "2019-04-06T14:21:18.584575Z"
    }
   },
   "outputs": [
    {
     "data": {
      "text/plain": [
       "[42.80363713378906, 0.001225]"
      ]
     },
     "execution_count": 66,
     "metadata": {},
     "output_type": "execute_result"
    }
   ],
   "source": [
    "score"
   ]
  },
  {
   "cell_type": "markdown",
   "metadata": {},
   "source": [
    "# Model the data"
   ]
  },
  {
   "cell_type": "code",
   "execution_count": 47,
   "metadata": {
    "ExecuteTime": {
     "end_time": "2019-04-05T23:01:53.441281Z",
     "start_time": "2019-04-05T23:01:53.428453Z"
    }
   },
   "outputs": [],
   "source": [
    "def reg_model_build(embed_size: int = 100):\n",
    "    word_input = Input(shape=embed_size)\n",
    "    x = Dense(128, activation='relu')(word_input)\n",
    "    x = Dense(64, activation='relu')(x)\n",
    "    x = Dense(32, activation='relu')(x)\n",
    "    preds = Dense(1, activation='linear')(x)\n",
    "    model = Model(word_input, preds)\n",
    "    return model"
   ]
  },
  {
   "cell_type": "code",
   "execution_count": 48,
   "metadata": {
    "ExecuteTime": {
     "end_time": "2019-04-05T23:01:54.771698Z",
     "start_time": "2019-04-05T23:01:54.748018Z"
    }
   },
   "outputs": [
    {
     "ename": "TypeError",
     "evalue": "'int' object is not iterable",
     "output_type": "error",
     "traceback": [
      "\u001b[0;31m---------------------------------------------------------------------------\u001b[0m",
      "\u001b[0;31mTypeError\u001b[0m                                 Traceback (most recent call last)",
      "\u001b[0;32m<ipython-input-48-05618a8ac7cc>\u001b[0m in \u001b[0;36m<module>\u001b[0;34m\u001b[0m\n\u001b[0;32m----> 1\u001b[0;31m \u001b[0mmodel\u001b[0m \u001b[0;34m=\u001b[0m \u001b[0mreg_model_build\u001b[0m\u001b[0;34m(\u001b[0m\u001b[0membed_size\u001b[0m \u001b[0;34m=\u001b[0m \u001b[0;36m100\u001b[0m\u001b[0;34m)\u001b[0m\u001b[0;34m\u001b[0m\u001b[0;34m\u001b[0m\u001b[0m\n\u001b[0m\u001b[1;32m      2\u001b[0m \u001b[0mmodel\u001b[0m\u001b[0;34m.\u001b[0m\u001b[0mcompile\u001b[0m\u001b[0;34m(\u001b[0m\u001b[0mloss\u001b[0m\u001b[0;34m=\u001b[0m\u001b[0;34m'mean_squared_error'\u001b[0m\u001b[0;34m,\u001b[0m \u001b[0moptimizer\u001b[0m\u001b[0;34m=\u001b[0m\u001b[0;34m'adam'\u001b[0m\u001b[0;34m,\u001b[0m \u001b[0mmetrics\u001b[0m\u001b[0;34m=\u001b[0m\u001b[0;34m[\u001b[0m\u001b[0;34m'acc'\u001b[0m\u001b[0;34m]\u001b[0m\u001b[0;34m)\u001b[0m\u001b[0;34m\u001b[0m\u001b[0;34m\u001b[0m\u001b[0m\n\u001b[1;32m      3\u001b[0m history = model.fit(train_x,\n\u001b[1;32m      4\u001b[0m                     \u001b[0mtrain_y\u001b[0m\u001b[0;34m,\u001b[0m\u001b[0;34m\u001b[0m\u001b[0;34m\u001b[0m\u001b[0m\n\u001b[1;32m      5\u001b[0m                     \u001b[0mvalidation_data\u001b[0m\u001b[0;34m=\u001b[0m\u001b[0;34m(\u001b[0m\u001b[0mtest_x\u001b[0m\u001b[0;34m,\u001b[0m \u001b[0mtest_y\u001b[0m\u001b[0;34m)\u001b[0m\u001b[0;34m,\u001b[0m\u001b[0;34m\u001b[0m\u001b[0;34m\u001b[0m\u001b[0m\n",
      "\u001b[0;32m<ipython-input-47-b4826c0a0d0b>\u001b[0m in \u001b[0;36mreg_model_build\u001b[0;34m(embed_size)\u001b[0m\n\u001b[1;32m      1\u001b[0m \u001b[0;32mdef\u001b[0m \u001b[0mreg_model_build\u001b[0m\u001b[0;34m(\u001b[0m\u001b[0membed_size\u001b[0m\u001b[0;34m:\u001b[0m \u001b[0mint\u001b[0m \u001b[0;34m=\u001b[0m \u001b[0;36m100\u001b[0m\u001b[0;34m)\u001b[0m\u001b[0;34m:\u001b[0m\u001b[0;34m\u001b[0m\u001b[0;34m\u001b[0m\u001b[0m\n\u001b[0;32m----> 2\u001b[0;31m     \u001b[0mword_input\u001b[0m \u001b[0;34m=\u001b[0m \u001b[0mInput\u001b[0m\u001b[0;34m(\u001b[0m\u001b[0mshape\u001b[0m\u001b[0;34m=\u001b[0m\u001b[0membed_size\u001b[0m\u001b[0;34m)\u001b[0m\u001b[0;34m\u001b[0m\u001b[0;34m\u001b[0m\u001b[0m\n\u001b[0m\u001b[1;32m      3\u001b[0m     \u001b[0mx\u001b[0m \u001b[0;34m=\u001b[0m \u001b[0mDense\u001b[0m\u001b[0;34m(\u001b[0m\u001b[0;36m128\u001b[0m\u001b[0;34m,\u001b[0m \u001b[0mactivation\u001b[0m\u001b[0;34m=\u001b[0m\u001b[0;34m'relu'\u001b[0m\u001b[0;34m)\u001b[0m\u001b[0;34m(\u001b[0m\u001b[0mword_input\u001b[0m\u001b[0;34m)\u001b[0m\u001b[0;34m\u001b[0m\u001b[0;34m\u001b[0m\u001b[0m\n\u001b[1;32m      4\u001b[0m     \u001b[0mx\u001b[0m \u001b[0;34m=\u001b[0m \u001b[0mDense\u001b[0m\u001b[0;34m(\u001b[0m\u001b[0;36m64\u001b[0m\u001b[0;34m,\u001b[0m \u001b[0mactivation\u001b[0m\u001b[0;34m=\u001b[0m\u001b[0;34m'relu'\u001b[0m\u001b[0;34m)\u001b[0m\u001b[0;34m(\u001b[0m\u001b[0mx\u001b[0m\u001b[0;34m)\u001b[0m\u001b[0;34m\u001b[0m\u001b[0;34m\u001b[0m\u001b[0m\n\u001b[1;32m      5\u001b[0m     \u001b[0mx\u001b[0m \u001b[0;34m=\u001b[0m \u001b[0mDense\u001b[0m\u001b[0;34m(\u001b[0m\u001b[0;36m32\u001b[0m\u001b[0;34m,\u001b[0m \u001b[0mactivation\u001b[0m\u001b[0;34m=\u001b[0m\u001b[0;34m'relu'\u001b[0m\u001b[0;34m)\u001b[0m\u001b[0;34m(\u001b[0m\u001b[0mx\u001b[0m\u001b[0;34m)\u001b[0m\u001b[0;34m\u001b[0m\u001b[0;34m\u001b[0m\u001b[0m\n",
      "\u001b[0;32m~/miniconda3/envs/data_sci/lib/python3.7/site-packages/keras/engine/input_layer.py\u001b[0m in \u001b[0;36mInput\u001b[0;34m(shape, batch_shape, name, dtype, sparse, tensor)\u001b[0m\n\u001b[1;32m    170\u001b[0m                                    'dimension.')\n\u001b[1;32m    171\u001b[0m     \u001b[0;32mif\u001b[0m \u001b[0mshape\u001b[0m \u001b[0;32mis\u001b[0m \u001b[0;32mnot\u001b[0m \u001b[0;32mNone\u001b[0m \u001b[0;32mand\u001b[0m \u001b[0;32mnot\u001b[0m \u001b[0mbatch_shape\u001b[0m\u001b[0;34m:\u001b[0m\u001b[0;34m\u001b[0m\u001b[0;34m\u001b[0m\u001b[0m\n\u001b[0;32m--> 172\u001b[0;31m         \u001b[0mbatch_shape\u001b[0m \u001b[0;34m=\u001b[0m \u001b[0;34m(\u001b[0m\u001b[0;32mNone\u001b[0m\u001b[0;34m,\u001b[0m\u001b[0;34m)\u001b[0m \u001b[0;34m+\u001b[0m \u001b[0mtuple\u001b[0m\u001b[0;34m(\u001b[0m\u001b[0mshape\u001b[0m\u001b[0;34m)\u001b[0m\u001b[0;34m\u001b[0m\u001b[0;34m\u001b[0m\u001b[0m\n\u001b[0m\u001b[1;32m    173\u001b[0m     \u001b[0;32mif\u001b[0m \u001b[0;32mnot\u001b[0m \u001b[0mdtype\u001b[0m\u001b[0;34m:\u001b[0m\u001b[0;34m\u001b[0m\u001b[0;34m\u001b[0m\u001b[0m\n\u001b[1;32m    174\u001b[0m         \u001b[0mdtype\u001b[0m \u001b[0;34m=\u001b[0m \u001b[0mK\u001b[0m\u001b[0;34m.\u001b[0m\u001b[0mfloatx\u001b[0m\u001b[0;34m(\u001b[0m\u001b[0;34m)\u001b[0m\u001b[0;34m\u001b[0m\u001b[0;34m\u001b[0m\u001b[0m\n",
      "\u001b[0;31mTypeError\u001b[0m: 'int' object is not iterable"
     ]
    }
   ],
   "source": [
    "model = reg_model_build(embed_size = 100)\n",
    "model.compile(loss='mean_squared_error', optimizer='adam', metrics=['acc'])\n",
    "history = model.fit(train_x,\n",
    "                    train_y,\n",
    "                    validation_data=(test_x, test_y),\n",
    "                    epochs=6,\n",
    "                    batch_size=64)"
   ]
  },
  {
   "cell_type": "code",
   "execution_count": null,
   "metadata": {},
   "outputs": [],
   "source": []
  },
  {
   "cell_type": "code",
   "execution_count": null,
   "metadata": {},
   "outputs": [],
   "source": [
    "class Models:\n",
    "\n",
    "    def __init__(self, x_train: np.ndarray, x_test: np.ndarray, y_train: np.ndarray, y_test: np.ndarray,\n",
    "                 x_val: np.ndarray = None, y_val: np.ndarray = None, embed_size: int = 100):\n",
    "        self.embed_size = embed_size\n",
    "        self.model = None\n",
    "        self.x_train = x_train\n",
    "        self.x_test = x_test\n",
    "        self.x_val = x_val\n",
    "        self.y_train = y_train\n",
    "        self.y_test = y_test\n",
    "        self.y_val = y_val\n",
    "        self.history = None\n",
    "        self.herstory = Summary_metrics()\n",
    "\n",
    "    def cnn_build(self, out_class: int = 2):\n",
    "        word_input = Input(shape=(self.embed_size, 1))\n",
    "        x = Conv1D(256, 3, activation='relu')(word_input)\n",
    "        x = MaxPooling1D(3)(x)\n",
    "        x = Conv1D(256, 3, activation='relu')(x)\n",
    "        x = MaxPooling1D(3)(x)\n",
    "        x = Conv1D(128, 3, activation='relu')(x)\n",
    "        x = MaxPooling1D(2)(x)\n",
    "        x = Flatten()(x)\n",
    "        x = Dense(128, activation='relu')(x)\n",
    "        x = Dense(64, activation='relu')(x)\n",
    "        x = Dense(32, activation='relu')(x)\n",
    "        preds = Dense(out_class, activation='softmax')(x)\n",
    "        self.model = Model(word_input, preds)\n",
    "\n",
    "    @staticmethod\n",
    "    def precision(y_true, y_pred):\n",
    "        \"\"\"Precision metric.\n",
    "\n",
    "        Only computes a batch-wise average of precision.\n",
    "\n",
    "        Computes the precision, a metric for multi-label classification of\n",
    "        how many selected items are relevant.\n",
    "        \"\"\"\n",
    "        true_positives = K.sum(K.round(K.clip(y_true * y_pred, 0, 1)))\n",
    "        predicted_positives = K.sum(K.round(K.clip(y_pred, 0, 1)))\n",
    "        precision = true_positives / (predicted_positives + K.epsilon())\n",
    "        return precision\n",
    "\n",
    "\n",
    "    @staticmethod\n",
    "    def recall(y_true, y_pred):\n",
    "        \"\"\"Recall metric.\n",
    "\n",
    "        Only computes a batch-wise average of recall.\n",
    "\n",
    "        Computes the recall, a metric for multi-label classification of\n",
    "        how many relevant items are selected.\n",
    "        \"\"\"\n",
    "        true_positives = K.sum(K.round(K.clip(y_true * y_pred, 0, 1)))\n",
    "        possible_positives = K.sum(K.round(K.clip(y_true, 0, 1)))\n",
    "        recall = true_positives / (possible_positives + K.epsilon())\n",
    "        recall = 5\n",
    "        return recall\n",
    "\n",
    "    def f1(self, y_true, y_pred):\n",
    "        precision = self.precision(y_true, y_pred)\n",
    "        recall = self.recall(y_true, y_pred)\n",
    "        return 2 * ((precision * recall) / (precision + recall + K.epsilon()))\n",
    "\n",
    "    def cnn_compile(self):\n",
    "        self.model.compile(loss='categorical_crossentropy',\n",
    "                           optimizer='adam',\n",
    "                           # metrics=['acc', self.recall, self.precision, self.f1])\n",
    "                           metrics=['acc'])\n",
    "\n",
    "    def cnn_train(self, epochs: int = 10, batch_size: int = 128, class_weight: dict = None):\n",
    "        self.history = self.model.fit(self.x_train,\n",
    "                                      self.y_train,\n",
    "                                      validation_data=(self.x_test, self.y_test),\n",
    "                                      epochs=epochs,\n",
    "                                      batch_size=batch_size,\n",
    "                                      callbacks=[self.herstory],\n",
    "                                      class_weight = class_weight)\n",
    "\n",
    "    def model_save(self, loc: str):\n",
    "        self.model.save(loc)"
   ]
  }
 ],
 "metadata": {
  "kernelspec": {
   "display_name": "Python 3",
   "language": "python",
   "name": "python3"
  },
  "language_info": {
   "codemirror_mode": {
    "name": "ipython",
    "version": 3
   },
   "file_extension": ".py",
   "mimetype": "text/x-python",
   "name": "python",
   "nbconvert_exporter": "python",
   "pygments_lexer": "ipython3",
   "version": "3.7.2"
  }
 },
 "nbformat": 4,
 "nbformat_minor": 2
}
