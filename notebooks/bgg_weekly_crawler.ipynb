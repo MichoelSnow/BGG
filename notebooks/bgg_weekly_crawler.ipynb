{
 "cells": [
  {
   "cell_type": "markdown",
   "metadata": {},
   "source": [
    "# Imports and Paths"
   ]
  },
  {
   "cell_type": "code",
   "execution_count": 1,
   "metadata": {
    "ExecuteTime": {
     "end_time": "2018-12-29T21:25:32.373363Z",
     "start_time": "2018-12-29T21:25:32.358175Z"
    }
   },
   "outputs": [],
   "source": [
    "import urllib3\n",
    "http = urllib3.PoolManager()"
   ]
  },
  {
   "cell_type": "code",
   "execution_count": 2,
   "metadata": {
    "ExecuteTime": {
     "end_time": "2018-12-29T21:25:33.169910Z",
     "start_time": "2018-12-29T21:25:32.987303Z"
    },
    "init_cell": true
   },
   "outputs": [],
   "source": [
    "from urllib import request\n",
    "from bs4 import BeautifulSoup, Comment\n",
    "import pandas as pd\n",
    "from datetime import datetime\n",
    "# from shutil import copyfile\n",
    "# import time\n",
    "import json"
   ]
  },
  {
   "cell_type": "markdown",
   "metadata": {
    "heading_collapsed": true
   },
   "source": [
    "# Load in previous list of games"
   ]
  },
  {
   "cell_type": "code",
   "execution_count": 9,
   "metadata": {
    "hidden": true
   },
   "outputs": [],
   "source": [
    "df_gms_lst = pd.read_csv('../data/bgg_top2000_2018-10-06.csv')"
   ]
  },
  {
   "cell_type": "code",
   "execution_count": 11,
   "metadata": {
    "hidden": true,
    "scrolled": true
   },
   "outputs": [
    {
     "data": {
      "text/plain": [
       "Index(['AbstractGameRank', 'BoardGameRank', 'Children'sGameRank',\n",
       "       'CustomizableRank', 'FamilyGameRank', 'PartyGameRank', 'RPGItemRank',\n",
       "       'StrategyGameRank', 'ThematicRank', 'WarGameRank', 'average',\n",
       "       'averageweight', 'bayesaverage', 'boardgameartist', 'boardgamecategory',\n",
       "       'boardgamedesigner', 'boardgamefamily', 'boardgamemechanic',\n",
       "       'boardgamepublisher', 'id', 'maxplayers', 'maxplaytime', 'median',\n",
       "       'minage', 'minplayers', 'minplaytime', 'name', 'num_of_rankings',\n",
       "       'numcomments', 'numweights', 'owned', 'playingtime', 'stddev',\n",
       "       'trading', 'usersrated', 'wanting', 'wishing', 'yearpublished'],\n",
       "      dtype='object')"
      ]
     },
     "execution_count": 11,
     "metadata": {},
     "output_type": "execute_result"
    }
   ],
   "source": [
    "df_gms_lst.columns"
   ]
  },
  {
   "cell_type": "code",
   "execution_count": 31,
   "metadata": {
    "hidden": true
   },
   "outputs": [],
   "source": [
    "metadata_dict = {\"title\": \"BGG Top 2000\",\n",
    "                 \"subtitle\": \"Board Game Geek top 2000 games rankings\",\n",
    "                 \"description\": \"Board Game Geek top 2000 games rankings and other info\",\n",
    "                \"id\": \"mseinstein/bgg_top2000\",\n",
    "                \"licenses\": [{\"name\": \"CC-BY-SA-4.0\"}],\n",
    "                \"resources\":[\n",
    "                    {\"path\": \"bgg_top2000_2018-10-06.csv\",\n",
    "                     \"description\": \"Board Game Geek top 2000 games on 2018-10-06\"\n",
    "                    }\n",
    "                ] }"
   ]
  },
  {
   "cell_type": "code",
   "execution_count": 33,
   "metadata": {
    "hidden": true
   },
   "outputs": [],
   "source": [
    "with open('../data/kaggle/dataset-metadata.json', 'w') as fp:\n",
    "    json.dump(metadata_dict, fp)"
   ]
  },
  {
   "cell_type": "markdown",
   "metadata": {},
   "source": [
    "# Get the id's of the top 2000 board games"
   ]
  },
  {
   "cell_type": "code",
   "execution_count": 3,
   "metadata": {
    "ExecuteTime": {
     "end_time": "2018-12-29T21:25:34.375845Z",
     "start_time": "2018-12-29T21:25:34.373396Z"
    },
    "init_cell": true
   },
   "outputs": [],
   "source": [
    "pg_gm_rnks = 'https://boardgamegeek.com/browse/boardgame/page/'"
   ]
  },
  {
   "cell_type": "code",
   "execution_count": 4,
   "metadata": {
    "ExecuteTime": {
     "end_time": "2018-12-29T21:25:34.910680Z",
     "start_time": "2018-12-29T21:25:34.906111Z"
    },
    "init_cell": true
   },
   "outputs": [],
   "source": [
    "def extract_gm_id(soup):\n",
    "    rows = soup.find('div', {'id': 'collection'}).find_all('tr')[1:]\n",
    "    id_list = []\n",
    "    for row in rows:\n",
    "        id_list.append(int(row.find_all('a')[1]['href'].split('/')[2]))\n",
    "    return id_list"
   ]
  },
  {
   "cell_type": "code",
   "execution_count": 5,
   "metadata": {
    "ExecuteTime": {
     "end_time": "2018-12-29T21:25:36.513938Z",
     "start_time": "2018-12-29T21:25:36.510482Z"
    },
    "init_cell": true
   },
   "outputs": [],
   "source": [
    "def top_2k_gms(pg_gm_rnks):\n",
    "    gm_ids = []\n",
    "    for pg_num in range(1,21):\n",
    "        pg = request.urlopen(f'{pg_gm_rnks}{str(pg_num)}')\n",
    "        soup = BeautifulSoup(pg, 'html.parser')\n",
    "        gm_ids += extract_gm_id(soup)\n",
    "    return gm_ids"
   ]
  },
  {
   "cell_type": "code",
   "execution_count": 6,
   "metadata": {
    "ExecuteTime": {
     "end_time": "2018-12-29T21:25:48.793371Z",
     "start_time": "2018-12-29T21:25:37.517551Z"
    }
   },
   "outputs": [
    {
     "data": {
      "text/plain": [
       "2000"
      ]
     },
     "execution_count": 6,
     "metadata": {},
     "output_type": "execute_result"
    }
   ],
   "source": [
    "gm_ids = top_2k_gms(pg_gm_rnks)\n",
    "len(gm_ids)"
   ]
  },
  {
   "cell_type": "markdown",
   "metadata": {},
   "source": [
    "# Extract the info for each game in the top 2k using the extracted game id's"
   ]
  },
  {
   "cell_type": "code",
   "execution_count": 7,
   "metadata": {
    "ExecuteTime": {
     "end_time": "2018-12-29T21:25:48.796972Z",
     "start_time": "2018-12-29T21:25:48.794967Z"
    }
   },
   "outputs": [],
   "source": [
    "bs_pg = 'https://www.boardgamegeek.com/xmlapi2/'\n",
    "bs_pg_gm = f'{bs_pg}thing?type=boardgame&stats=1&ratingcomments=1&page=1&pagesize=10&id='"
   ]
  },
  {
   "cell_type": "code",
   "execution_count": 8,
   "metadata": {
    "ExecuteTime": {
     "end_time": "2018-12-29T21:25:48.807906Z",
     "start_time": "2018-12-29T21:25:48.798284Z"
    }
   },
   "outputs": [],
   "source": [
    "def extract_game_item(item):\n",
    "    gm_dict = {}\n",
    "    field_int = ['yearpublished', 'minplayers', 'maxplayers', 'playingtime', 'minplaytime', 'maxplaytime', 'minage']\n",
    "    field_categ = ['boardgamecategory', 'boardgamemechanic', 'boardgamefamily','boardgamedesigner', 'boardgameartist', 'boardgamepublisher']\n",
    "    field_rank = [x['friendlyname'] for x in item.find_all('rank')]\n",
    "    field_stats = ['usersrated', 'average', 'bayesaverage', 'stddev', 'median', 'owned', 'trading', 'wanting', 'wishing', 'numcomments', 'numweights', 'averageweight']\n",
    "    gm_dict['name'] = item.find('name')['value']\n",
    "    gm_dict['id'] = item['id']\n",
    "    gm_dict['num_of_rankings'] = int(item.find('comments')['totalitems'])\n",
    "    for i in field_int:\n",
    "        field_val = item.find(i)\n",
    "        if field_val is None:\n",
    "            gm_dict[i] = -1\n",
    "        else:\n",
    "            gm_dict[i] = int(field_val['value'])\n",
    "    for i in field_categ:\n",
    "        gm_dict[i] = [x['value'] for x in item.find_all('link',{'type':i})]\n",
    "    for i in field_rank:\n",
    "        field_val = item.find('rank',{'friendlyname':i})\n",
    "        if field_val is None or field_val['value'] == 'Not Ranked':\n",
    "            gm_dict[i.replace(' ','')] = -1\n",
    "        else:\n",
    "            gm_dict[i.replace(' ','')] = int(field_val['value'])\n",
    "    for i in field_stats:\n",
    "        field_val = item.find(i)\n",
    "        if field_val is None:\n",
    "            gm_dict[i] = -1\n",
    "        else:\n",
    "            gm_dict[i] = float(field_val['value'])\n",
    "    return gm_dict"
   ]
  },
  {
   "cell_type": "code",
   "execution_count": 9,
   "metadata": {
    "ExecuteTime": {
     "end_time": "2018-12-29T21:25:48.820025Z",
     "start_time": "2018-12-29T21:25:48.809459Z"
    },
    "scrolled": true
   },
   "outputs": [
    {
     "data": {
      "text/plain": [
       "2000"
      ]
     },
     "execution_count": 9,
     "metadata": {},
     "output_type": "execute_result"
    }
   ],
   "source": [
    "len(gm_ids)"
   ]
  },
  {
   "cell_type": "code",
   "execution_count": 10,
   "metadata": {
    "ExecuteTime": {
     "end_time": "2018-12-29T21:28:06.052560Z",
     "start_time": "2018-12-29T21:25:51.088175Z"
    }
   },
   "outputs": [
    {
     "data": {
      "text/plain": [
       "(1000, 37)"
      ]
     },
     "execution_count": 10,
     "metadata": {},
     "output_type": "execute_result"
    }
   ],
   "source": [
    "gm_list = []\n",
    "idx_split = 4\n",
    "idx_size = int(len(gm_ids)/idx_split)\n",
    "for i in range(idx_split):\n",
    "    idx = str(gm_ids[i*idx_size:(i+1)*idx_size]).replace(' ','')[1:-1]   \n",
    "    pg = request.urlopen(f'{bs_pg_gm}{str(idx)}')\n",
    "    item_ct = 0\n",
    "    xsoup = BeautifulSoup(pg, 'xml')\n",
    "#     while item_ct < 500:\n",
    "#         xsoup = BeautifulSoup(pg, 'xml')\n",
    "#         item_ct = len(xsoup.find_all('item'))\n",
    "    gm_list += [extract_game_item(x) for x in xsoup.find_all('item')]\n",
    "#     break\n",
    "df2 = pd.DataFrame(gm_list)\n",
    "df2.shape"
   ]
  },
  {
   "cell_type": "code",
   "execution_count": 11,
   "metadata": {
    "ExecuteTime": {
     "end_time": "2018-12-30T00:41:28.878299Z",
     "start_time": "2018-12-30T00:41:28.851406Z"
    },
    "scrolled": true
   },
   "outputs": [
    {
     "data": {
      "text/html": [
       "<div>\n",
       "<style scoped>\n",
       "    .dataframe tbody tr th:only-of-type {\n",
       "        vertical-align: middle;\n",
       "    }\n",
       "\n",
       "    .dataframe tbody tr th {\n",
       "        vertical-align: top;\n",
       "    }\n",
       "\n",
       "    .dataframe thead th {\n",
       "        text-align: right;\n",
       "    }\n",
       "</style>\n",
       "<table border=\"1\" class=\"dataframe\">\n",
       "  <thead>\n",
       "    <tr style=\"text-align: right;\">\n",
       "      <th></th>\n",
       "      <th>AbstractGameRank</th>\n",
       "      <th>BoardGameRank</th>\n",
       "      <th>Children'sGameRank</th>\n",
       "      <th>CustomizableRank</th>\n",
       "      <th>FamilyGameRank</th>\n",
       "      <th>PartyGameRank</th>\n",
       "      <th>StrategyGameRank</th>\n",
       "      <th>ThematicRank</th>\n",
       "      <th>WarGameRank</th>\n",
       "      <th>average</th>\n",
       "      <th>...</th>\n",
       "      <th>numcomments</th>\n",
       "      <th>numweights</th>\n",
       "      <th>owned</th>\n",
       "      <th>playingtime</th>\n",
       "      <th>stddev</th>\n",
       "      <th>trading</th>\n",
       "      <th>usersrated</th>\n",
       "      <th>wanting</th>\n",
       "      <th>wishing</th>\n",
       "      <th>yearpublished</th>\n",
       "    </tr>\n",
       "  </thead>\n",
       "  <tbody>\n",
       "    <tr>\n",
       "      <th>0</th>\n",
       "      <td>NaN</td>\n",
       "      <td>1</td>\n",
       "      <td>NaN</td>\n",
       "      <td>NaN</td>\n",
       "      <td>NaN</td>\n",
       "      <td>NaN</td>\n",
       "      <td>1.0</td>\n",
       "      <td>1.0</td>\n",
       "      <td>NaN</td>\n",
       "      <td>8.92506</td>\n",
       "      <td>...</td>\n",
       "      <td>4295.0</td>\n",
       "      <td>895.0</td>\n",
       "      <td>34695.0</td>\n",
       "      <td>120</td>\n",
       "      <td>1.62076</td>\n",
       "      <td>153.0</td>\n",
       "      <td>21007.0</td>\n",
       "      <td>1335.0</td>\n",
       "      <td>11239.0</td>\n",
       "      <td>2017</td>\n",
       "    </tr>\n",
       "    <tr>\n",
       "      <th>1</th>\n",
       "      <td>NaN</td>\n",
       "      <td>2</td>\n",
       "      <td>NaN</td>\n",
       "      <td>NaN</td>\n",
       "      <td>NaN</td>\n",
       "      <td>NaN</td>\n",
       "      <td>2.0</td>\n",
       "      <td>2.0</td>\n",
       "      <td>NaN</td>\n",
       "      <td>8.65055</td>\n",
       "      <td>...</td>\n",
       "      <td>4665.0</td>\n",
       "      <td>822.0</td>\n",
       "      <td>46219.0</td>\n",
       "      <td>60</td>\n",
       "      <td>1.62377</td>\n",
       "      <td>200.0</td>\n",
       "      <td>28933.0</td>\n",
       "      <td>773.0</td>\n",
       "      <td>8115.0</td>\n",
       "      <td>2015</td>\n",
       "    </tr>\n",
       "    <tr>\n",
       "      <th>2</th>\n",
       "      <td>NaN</td>\n",
       "      <td>3</td>\n",
       "      <td>NaN</td>\n",
       "      <td>NaN</td>\n",
       "      <td>NaN</td>\n",
       "      <td>NaN</td>\n",
       "      <td>3.0</td>\n",
       "      <td>NaN</td>\n",
       "      <td>NaN</td>\n",
       "      <td>8.56126</td>\n",
       "      <td>...</td>\n",
       "      <td>2106.0</td>\n",
       "      <td>702.0</td>\n",
       "      <td>17986.0</td>\n",
       "      <td>240</td>\n",
       "      <td>1.48883</td>\n",
       "      <td>215.0</td>\n",
       "      <td>14304.0</td>\n",
       "      <td>1032.0</td>\n",
       "      <td>6150.0</td>\n",
       "      <td>2015</td>\n",
       "    </tr>\n",
       "    <tr>\n",
       "      <th>3</th>\n",
       "      <td>NaN</td>\n",
       "      <td>4</td>\n",
       "      <td>NaN</td>\n",
       "      <td>NaN</td>\n",
       "      <td>NaN</td>\n",
       "      <td>NaN</td>\n",
       "      <td>4.0</td>\n",
       "      <td>NaN</td>\n",
       "      <td>NaN</td>\n",
       "      <td>8.39267</td>\n",
       "      <td>...</td>\n",
       "      <td>5065.0</td>\n",
       "      <td>1174.0</td>\n",
       "      <td>42500.0</td>\n",
       "      <td>120</td>\n",
       "      <td>1.35581</td>\n",
       "      <td>185.0</td>\n",
       "      <td>33207.0</td>\n",
       "      <td>2002.0</td>\n",
       "      <td>12190.0</td>\n",
       "      <td>2016</td>\n",
       "    </tr>\n",
       "    <tr>\n",
       "      <th>4</th>\n",
       "      <td>NaN</td>\n",
       "      <td>5</td>\n",
       "      <td>NaN</td>\n",
       "      <td>NaN</td>\n",
       "      <td>NaN</td>\n",
       "      <td>NaN</td>\n",
       "      <td>7.0</td>\n",
       "      <td>NaN</td>\n",
       "      <td>1.0</td>\n",
       "      <td>8.32992</td>\n",
       "      <td>...</td>\n",
       "      <td>7552.0</td>\n",
       "      <td>3181.0</td>\n",
       "      <td>45308.0</td>\n",
       "      <td>180</td>\n",
       "      <td>1.59035</td>\n",
       "      <td>712.0</td>\n",
       "      <td>33053.0</td>\n",
       "      <td>1337.0</td>\n",
       "      <td>8676.0</td>\n",
       "      <td>2005</td>\n",
       "    </tr>\n",
       "  </tbody>\n",
       "</table>\n",
       "<p>5 rows × 37 columns</p>\n",
       "</div>"
      ],
      "text/plain": [
       "   AbstractGameRank  BoardGameRank  Children'sGameRank  CustomizableRank  \\\n",
       "0               NaN              1                 NaN               NaN   \n",
       "1               NaN              2                 NaN               NaN   \n",
       "2               NaN              3                 NaN               NaN   \n",
       "3               NaN              4                 NaN               NaN   \n",
       "4               NaN              5                 NaN               NaN   \n",
       "\n",
       "   FamilyGameRank  PartyGameRank  StrategyGameRank  ThematicRank  WarGameRank  \\\n",
       "0             NaN            NaN               1.0           1.0          NaN   \n",
       "1             NaN            NaN               2.0           2.0          NaN   \n",
       "2             NaN            NaN               3.0           NaN          NaN   \n",
       "3             NaN            NaN               4.0           NaN          NaN   \n",
       "4             NaN            NaN               7.0           NaN          1.0   \n",
       "\n",
       "   average      ...        numcomments  numweights    owned playingtime  \\\n",
       "0  8.92506      ...             4295.0       895.0  34695.0         120   \n",
       "1  8.65055      ...             4665.0       822.0  46219.0          60   \n",
       "2  8.56126      ...             2106.0       702.0  17986.0         240   \n",
       "3  8.39267      ...             5065.0      1174.0  42500.0         120   \n",
       "4  8.32992      ...             7552.0      3181.0  45308.0         180   \n",
       "\n",
       "    stddev trading usersrated wanting  wishing  yearpublished  \n",
       "0  1.62076   153.0    21007.0  1335.0  11239.0           2017  \n",
       "1  1.62377   200.0    28933.0   773.0   8115.0           2015  \n",
       "2  1.48883   215.0    14304.0  1032.0   6150.0           2015  \n",
       "3  1.35581   185.0    33207.0  2002.0  12190.0           2016  \n",
       "4  1.59035   712.0    33053.0  1337.0   8676.0           2005  \n",
       "\n",
       "[5 rows x 37 columns]"
      ]
     },
     "execution_count": 11,
     "metadata": {},
     "output_type": "execute_result"
    }
   ],
   "source": [
    "df2.head()"
   ]
  },
  {
   "cell_type": "code",
   "execution_count": 19,
   "metadata": {
    "ExecuteTime": {
     "end_time": "2018-12-30T01:30:17.677774Z",
     "start_time": "2018-12-30T01:30:17.658069Z"
    }
   },
   "outputs": [
    {
     "data": {
      "text/html": [
       "<div>\n",
       "<style scoped>\n",
       "    .dataframe tbody tr th:only-of-type {\n",
       "        vertical-align: middle;\n",
       "    }\n",
       "\n",
       "    .dataframe tbody tr th {\n",
       "        vertical-align: top;\n",
       "    }\n",
       "\n",
       "    .dataframe thead th {\n",
       "        text-align: right;\n",
       "    }\n",
       "</style>\n",
       "<table border=\"1\" class=\"dataframe\">\n",
       "  <thead>\n",
       "    <tr style=\"text-align: right;\">\n",
       "      <th></th>\n",
       "      <th>552</th>\n",
       "      <th>732</th>\n",
       "      <th>787</th>\n",
       "      <th>882</th>\n",
       "      <th>916</th>\n",
       "    </tr>\n",
       "  </thead>\n",
       "  <tbody>\n",
       "    <tr>\n",
       "      <th>AbstractGameRank</th>\n",
       "      <td>NaN</td>\n",
       "      <td>NaN</td>\n",
       "      <td>NaN</td>\n",
       "      <td>NaN</td>\n",
       "      <td>NaN</td>\n",
       "    </tr>\n",
       "    <tr>\n",
       "      <th>BoardGameRank</th>\n",
       "      <td>1553</td>\n",
       "      <td>1733</td>\n",
       "      <td>1788</td>\n",
       "      <td>1883</td>\n",
       "      <td>1917</td>\n",
       "    </tr>\n",
       "    <tr>\n",
       "      <th>Children'sGameRank</th>\n",
       "      <td>24</td>\n",
       "      <td>15</td>\n",
       "      <td>23</td>\n",
       "      <td>38</td>\n",
       "      <td>36</td>\n",
       "    </tr>\n",
       "    <tr>\n",
       "      <th>CustomizableRank</th>\n",
       "      <td>NaN</td>\n",
       "      <td>NaN</td>\n",
       "      <td>NaN</td>\n",
       "      <td>NaN</td>\n",
       "      <td>NaN</td>\n",
       "    </tr>\n",
       "    <tr>\n",
       "      <th>FamilyGameRank</th>\n",
       "      <td>428</td>\n",
       "      <td>NaN</td>\n",
       "      <td>NaN</td>\n",
       "      <td>NaN</td>\n",
       "      <td>NaN</td>\n",
       "    </tr>\n",
       "    <tr>\n",
       "      <th>PartyGameRank</th>\n",
       "      <td>NaN</td>\n",
       "      <td>NaN</td>\n",
       "      <td>NaN</td>\n",
       "      <td>125</td>\n",
       "      <td>NaN</td>\n",
       "    </tr>\n",
       "    <tr>\n",
       "      <th>StrategyGameRank</th>\n",
       "      <td>NaN</td>\n",
       "      <td>NaN</td>\n",
       "      <td>NaN</td>\n",
       "      <td>NaN</td>\n",
       "      <td>NaN</td>\n",
       "    </tr>\n",
       "    <tr>\n",
       "      <th>ThematicRank</th>\n",
       "      <td>NaN</td>\n",
       "      <td>NaN</td>\n",
       "      <td>NaN</td>\n",
       "      <td>NaN</td>\n",
       "      <td>NaN</td>\n",
       "    </tr>\n",
       "    <tr>\n",
       "      <th>WarGameRank</th>\n",
       "      <td>NaN</td>\n",
       "      <td>NaN</td>\n",
       "      <td>NaN</td>\n",
       "      <td>NaN</td>\n",
       "      <td>NaN</td>\n",
       "    </tr>\n",
       "    <tr>\n",
       "      <th>average</th>\n",
       "      <td>6.68538</td>\n",
       "      <td>6.85383</td>\n",
       "      <td>6.73775</td>\n",
       "      <td>6.43996</td>\n",
       "      <td>6.61602</td>\n",
       "    </tr>\n",
       "    <tr>\n",
       "      <th>averageweight</th>\n",
       "      <td>1.5222</td>\n",
       "      <td>1.0928</td>\n",
       "      <td>1.1481</td>\n",
       "      <td>1.05</td>\n",
       "      <td>1.0494</td>\n",
       "    </tr>\n",
       "    <tr>\n",
       "      <th>bayesaverage</th>\n",
       "      <td>6.19182</td>\n",
       "      <td>6.12344</td>\n",
       "      <td>6.10537</td>\n",
       "      <td>6.07813</td>\n",
       "      <td>6.06634</td>\n",
       "    </tr>\n",
       "    <tr>\n",
       "      <th>boardgameartist</th>\n",
       "      <td>[Patricia Raubo]</td>\n",
       "      <td>[Barbara Kinzebach, Manfred Ludwig, Anne Pätzke]</td>\n",
       "      <td>[Michael Menzel]</td>\n",
       "      <td>[Martina Leykamm]</td>\n",
       "      <td>[Haralds Klavinius]</td>\n",
       "    </tr>\n",
       "    <tr>\n",
       "      <th>boardgamecategory</th>\n",
       "      <td>[Children's Game, Nautical, Pirates]</td>\n",
       "      <td>[Animals, Children's Game, Dice]</td>\n",
       "      <td>[Children's Game, Memory, Prehistoric]</td>\n",
       "      <td>[Action / Dexterity, Children's Game, Dice, Hu...</td>\n",
       "      <td>[Children's Game, Dice, Racing, Sports]</td>\n",
       "    </tr>\n",
       "    <tr>\n",
       "      <th>boardgamedesigner</th>\n",
       "      <td>[Klaus Teuber]</td>\n",
       "      <td>[Manfred Ludwig]</td>\n",
       "      <td>[Marco Teubner]</td>\n",
       "      <td>[Roberto Fraga]</td>\n",
       "      <td>[Jürgen P. Grunau]</td>\n",
       "    </tr>\n",
       "    <tr>\n",
       "      <th>boardgamefamily</th>\n",
       "      <td>[Catan]</td>\n",
       "      <td>[Animals: Mice, Pegasus Children's Games]</td>\n",
       "      <td>[Stone Age]</td>\n",
       "      <td>[HABA Mitbringspiele series]</td>\n",
       "      <td>[HABA Mitbringspiele series, Sports: Auto Racing]</td>\n",
       "    </tr>\n",
       "    <tr>\n",
       "      <th>boardgamemechanic</th>\n",
       "      <td>[Dice Rolling, Route/Network Building]</td>\n",
       "      <td>[Press Your Luck, Roll / Spin and Move]</td>\n",
       "      <td>[Memory, Set Collection]</td>\n",
       "      <td>[Dice Rolling]</td>\n",
       "      <td>[Dice Rolling, Roll / Spin and Move]</td>\n",
       "    </tr>\n",
       "    <tr>\n",
       "      <th>boardgamepublisher</th>\n",
       "      <td>[Catan GmbH, Catan Studio, Mayfair Games]</td>\n",
       "      <td>[Compaya.hu - Gamer Café Kft., Competo / Marek...</td>\n",
       "      <td>[999 Games, Bard Centrum Gier, Devir, Filosofi...</td>\n",
       "      <td>[GoKids 玩樂小子, HABA - Habermaaß GmbH]</td>\n",
       "      <td>[HABA - Habermaaß GmbH]</td>\n",
       "    </tr>\n",
       "    <tr>\n",
       "      <th>id</th>\n",
       "      <td>125921</td>\n",
       "      <td>8195</td>\n",
       "      <td>191004</td>\n",
       "      <td>8924</td>\n",
       "      <td>4209</td>\n",
       "    </tr>\n",
       "    <tr>\n",
       "      <th>maxplayers</th>\n",
       "      <td>4</td>\n",
       "      <td>4</td>\n",
       "      <td>4</td>\n",
       "      <td>4</td>\n",
       "      <td>6</td>\n",
       "    </tr>\n",
       "    <tr>\n",
       "      <th>maxplaytime</th>\n",
       "      <td>30</td>\n",
       "      <td>30</td>\n",
       "      <td>15</td>\n",
       "      <td>10</td>\n",
       "      <td>10</td>\n",
       "    </tr>\n",
       "    <tr>\n",
       "      <th>median</th>\n",
       "      <td>0</td>\n",
       "      <td>0</td>\n",
       "      <td>0</td>\n",
       "      <td>0</td>\n",
       "      <td>0</td>\n",
       "    </tr>\n",
       "    <tr>\n",
       "      <th>minage</th>\n",
       "      <td>6</td>\n",
       "      <td>4</td>\n",
       "      <td>5</td>\n",
       "      <td>5</td>\n",
       "      <td>5</td>\n",
       "    </tr>\n",
       "    <tr>\n",
       "      <th>minplayers</th>\n",
       "      <td>2</td>\n",
       "      <td>2</td>\n",
       "      <td>2</td>\n",
       "      <td>2</td>\n",
       "      <td>2</td>\n",
       "    </tr>\n",
       "    <tr>\n",
       "      <th>minplaytime</th>\n",
       "      <td>30</td>\n",
       "      <td>20</td>\n",
       "      <td>15</td>\n",
       "      <td>10</td>\n",
       "      <td>10</td>\n",
       "    </tr>\n",
       "    <tr>\n",
       "      <th>name</th>\n",
       "      <td>Catan: Junior</td>\n",
       "      <td>Viva Topo!</td>\n",
       "      <td>My First Stone Age</td>\n",
       "      <td>Dancing Eggs</td>\n",
       "      <td>Monza</td>\n",
       "    </tr>\n",
       "    <tr>\n",
       "      <th>num_of_rankings</th>\n",
       "      <td>1890</td>\n",
       "      <td>1053</td>\n",
       "      <td>1210</td>\n",
       "      <td>1982</td>\n",
       "      <td>1289</td>\n",
       "    </tr>\n",
       "    <tr>\n",
       "      <th>numcomments</th>\n",
       "      <td>554</td>\n",
       "      <td>416</td>\n",
       "      <td>297</td>\n",
       "      <td>673</td>\n",
       "      <td>445</td>\n",
       "    </tr>\n",
       "    <tr>\n",
       "      <th>numweights</th>\n",
       "      <td>90</td>\n",
       "      <td>97</td>\n",
       "      <td>27</td>\n",
       "      <td>160</td>\n",
       "      <td>81</td>\n",
       "    </tr>\n",
       "    <tr>\n",
       "      <th>owned</th>\n",
       "      <td>4243</td>\n",
       "      <td>1680</td>\n",
       "      <td>2653</td>\n",
       "      <td>3443</td>\n",
       "      <td>2318</td>\n",
       "    </tr>\n",
       "    <tr>\n",
       "      <th>playingtime</th>\n",
       "      <td>30</td>\n",
       "      <td>30</td>\n",
       "      <td>15</td>\n",
       "      <td>10</td>\n",
       "      <td>10</td>\n",
       "    </tr>\n",
       "    <tr>\n",
       "      <th>stddev</th>\n",
       "      <td>1.25818</td>\n",
       "      <td>1.23012</td>\n",
       "      <td>1.29143</td>\n",
       "      <td>1.38099</td>\n",
       "      <td>1.20659</td>\n",
       "    </tr>\n",
       "    <tr>\n",
       "      <th>trading</th>\n",
       "      <td>114</td>\n",
       "      <td>35</td>\n",
       "      <td>40</td>\n",
       "      <td>85</td>\n",
       "      <td>39</td>\n",
       "    </tr>\n",
       "    <tr>\n",
       "      <th>usersrated</th>\n",
       "      <td>1887</td>\n",
       "      <td>1050</td>\n",
       "      <td>1206</td>\n",
       "      <td>1965</td>\n",
       "      <td>1284</td>\n",
       "    </tr>\n",
       "    <tr>\n",
       "      <th>wanting</th>\n",
       "      <td>58</td>\n",
       "      <td>85</td>\n",
       "      <td>93</td>\n",
       "      <td>103</td>\n",
       "      <td>79</td>\n",
       "    </tr>\n",
       "    <tr>\n",
       "      <th>wishing</th>\n",
       "      <td>255</td>\n",
       "      <td>312</td>\n",
       "      <td>388</td>\n",
       "      <td>395</td>\n",
       "      <td>255</td>\n",
       "    </tr>\n",
       "    <tr>\n",
       "      <th>yearpublished</th>\n",
       "      <td>2012</td>\n",
       "      <td>2002</td>\n",
       "      <td>2016</td>\n",
       "      <td>2003</td>\n",
       "      <td>2000</td>\n",
       "    </tr>\n",
       "  </tbody>\n",
       "</table>\n",
       "</div>"
      ],
      "text/plain": [
       "                                                          552  \\\n",
       "AbstractGameRank                                          NaN   \n",
       "BoardGameRank                                            1553   \n",
       "Children'sGameRank                                         24   \n",
       "CustomizableRank                                          NaN   \n",
       "FamilyGameRank                                            428   \n",
       "PartyGameRank                                             NaN   \n",
       "StrategyGameRank                                          NaN   \n",
       "ThematicRank                                              NaN   \n",
       "WarGameRank                                               NaN   \n",
       "average                                               6.68538   \n",
       "averageweight                                          1.5222   \n",
       "bayesaverage                                          6.19182   \n",
       "boardgameartist                              [Patricia Raubo]   \n",
       "boardgamecategory        [Children's Game, Nautical, Pirates]   \n",
       "boardgamedesigner                              [Klaus Teuber]   \n",
       "boardgamefamily                                       [Catan]   \n",
       "boardgamemechanic      [Dice Rolling, Route/Network Building]   \n",
       "boardgamepublisher  [Catan GmbH, Catan Studio, Mayfair Games]   \n",
       "id                                                     125921   \n",
       "maxplayers                                                  4   \n",
       "maxplaytime                                                30   \n",
       "median                                                      0   \n",
       "minage                                                      6   \n",
       "minplayers                                                  2   \n",
       "minplaytime                                                30   \n",
       "name                                            Catan: Junior   \n",
       "num_of_rankings                                          1890   \n",
       "numcomments                                               554   \n",
       "numweights                                                 90   \n",
       "owned                                                    4243   \n",
       "playingtime                                                30   \n",
       "stddev                                                1.25818   \n",
       "trading                                                   114   \n",
       "usersrated                                               1887   \n",
       "wanting                                                    58   \n",
       "wishing                                                   255   \n",
       "yearpublished                                            2012   \n",
       "\n",
       "                                                                  732  \\\n",
       "AbstractGameRank                                                  NaN   \n",
       "BoardGameRank                                                    1733   \n",
       "Children'sGameRank                                                 15   \n",
       "CustomizableRank                                                  NaN   \n",
       "FamilyGameRank                                                    NaN   \n",
       "PartyGameRank                                                     NaN   \n",
       "StrategyGameRank                                                  NaN   \n",
       "ThematicRank                                                      NaN   \n",
       "WarGameRank                                                       NaN   \n",
       "average                                                       6.85383   \n",
       "averageweight                                                  1.0928   \n",
       "bayesaverage                                                  6.12344   \n",
       "boardgameartist      [Barbara Kinzebach, Manfred Ludwig, Anne Pätzke]   \n",
       "boardgamecategory                    [Animals, Children's Game, Dice]   \n",
       "boardgamedesigner                                    [Manfred Ludwig]   \n",
       "boardgamefamily             [Animals: Mice, Pegasus Children's Games]   \n",
       "boardgamemechanic             [Press Your Luck, Roll / Spin and Move]   \n",
       "boardgamepublisher  [Compaya.hu - Gamer Café Kft., Competo / Marek...   \n",
       "id                                                               8195   \n",
       "maxplayers                                                          4   \n",
       "maxplaytime                                                        30   \n",
       "median                                                              0   \n",
       "minage                                                              4   \n",
       "minplayers                                                          2   \n",
       "minplaytime                                                        20   \n",
       "name                                                       Viva Topo!   \n",
       "num_of_rankings                                                  1053   \n",
       "numcomments                                                       416   \n",
       "numweights                                                         97   \n",
       "owned                                                            1680   \n",
       "playingtime                                                        30   \n",
       "stddev                                                        1.23012   \n",
       "trading                                                            35   \n",
       "usersrated                                                       1050   \n",
       "wanting                                                            85   \n",
       "wishing                                                           312   \n",
       "yearpublished                                                    2002   \n",
       "\n",
       "                                                                  787  \\\n",
       "AbstractGameRank                                                  NaN   \n",
       "BoardGameRank                                                    1788   \n",
       "Children'sGameRank                                                 23   \n",
       "CustomizableRank                                                  NaN   \n",
       "FamilyGameRank                                                    NaN   \n",
       "PartyGameRank                                                     NaN   \n",
       "StrategyGameRank                                                  NaN   \n",
       "ThematicRank                                                      NaN   \n",
       "WarGameRank                                                       NaN   \n",
       "average                                                       6.73775   \n",
       "averageweight                                                  1.1481   \n",
       "bayesaverage                                                  6.10537   \n",
       "boardgameartist                                      [Michael Menzel]   \n",
       "boardgamecategory              [Children's Game, Memory, Prehistoric]   \n",
       "boardgamedesigner                                     [Marco Teubner]   \n",
       "boardgamefamily                                           [Stone Age]   \n",
       "boardgamemechanic                            [Memory, Set Collection]   \n",
       "boardgamepublisher  [999 Games, Bard Centrum Gier, Devir, Filosofi...   \n",
       "id                                                             191004   \n",
       "maxplayers                                                          4   \n",
       "maxplaytime                                                        15   \n",
       "median                                                              0   \n",
       "minage                                                              5   \n",
       "minplayers                                                          2   \n",
       "minplaytime                                                        15   \n",
       "name                                               My First Stone Age   \n",
       "num_of_rankings                                                  1210   \n",
       "numcomments                                                       297   \n",
       "numweights                                                         27   \n",
       "owned                                                            2653   \n",
       "playingtime                                                        15   \n",
       "stddev                                                        1.29143   \n",
       "trading                                                            40   \n",
       "usersrated                                                       1206   \n",
       "wanting                                                            93   \n",
       "wishing                                                           388   \n",
       "yearpublished                                                    2016   \n",
       "\n",
       "                                                                  882  \\\n",
       "AbstractGameRank                                                  NaN   \n",
       "BoardGameRank                                                    1883   \n",
       "Children'sGameRank                                                 38   \n",
       "CustomizableRank                                                  NaN   \n",
       "FamilyGameRank                                                    NaN   \n",
       "PartyGameRank                                                     125   \n",
       "StrategyGameRank                                                  NaN   \n",
       "ThematicRank                                                      NaN   \n",
       "WarGameRank                                                       NaN   \n",
       "average                                                       6.43996   \n",
       "averageweight                                                    1.05   \n",
       "bayesaverage                                                  6.07813   \n",
       "boardgameartist                                     [Martina Leykamm]   \n",
       "boardgamecategory   [Action / Dexterity, Children's Game, Dice, Hu...   \n",
       "boardgamedesigner                                     [Roberto Fraga]   \n",
       "boardgamefamily                          [HABA Mitbringspiele series]   \n",
       "boardgamemechanic                                      [Dice Rolling]   \n",
       "boardgamepublisher               [GoKids 玩樂小子, HABA - Habermaaß GmbH]   \n",
       "id                                                               8924   \n",
       "maxplayers                                                          4   \n",
       "maxplaytime                                                        10   \n",
       "median                                                              0   \n",
       "minage                                                              5   \n",
       "minplayers                                                          2   \n",
       "minplaytime                                                        10   \n",
       "name                                                     Dancing Eggs   \n",
       "num_of_rankings                                                  1982   \n",
       "numcomments                                                       673   \n",
       "numweights                                                        160   \n",
       "owned                                                            3443   \n",
       "playingtime                                                        10   \n",
       "stddev                                                        1.38099   \n",
       "trading                                                            85   \n",
       "usersrated                                                       1965   \n",
       "wanting                                                           103   \n",
       "wishing                                                           395   \n",
       "yearpublished                                                    2003   \n",
       "\n",
       "                                                                  916  \n",
       "AbstractGameRank                                                  NaN  \n",
       "BoardGameRank                                                    1917  \n",
       "Children'sGameRank                                                 36  \n",
       "CustomizableRank                                                  NaN  \n",
       "FamilyGameRank                                                    NaN  \n",
       "PartyGameRank                                                     NaN  \n",
       "StrategyGameRank                                                  NaN  \n",
       "ThematicRank                                                      NaN  \n",
       "WarGameRank                                                       NaN  \n",
       "average                                                       6.61602  \n",
       "averageweight                                                  1.0494  \n",
       "bayesaverage                                                  6.06634  \n",
       "boardgameartist                                   [Haralds Klavinius]  \n",
       "boardgamecategory             [Children's Game, Dice, Racing, Sports]  \n",
       "boardgamedesigner                                  [Jürgen P. Grunau]  \n",
       "boardgamefamily     [HABA Mitbringspiele series, Sports: Auto Racing]  \n",
       "boardgamemechanic                [Dice Rolling, Roll / Spin and Move]  \n",
       "boardgamepublisher                            [HABA - Habermaaß GmbH]  \n",
       "id                                                               4209  \n",
       "maxplayers                                                          6  \n",
       "maxplaytime                                                        10  \n",
       "median                                                              0  \n",
       "minage                                                              5  \n",
       "minplayers                                                          2  \n",
       "minplaytime                                                        10  \n",
       "name                                                            Monza  \n",
       "num_of_rankings                                                  1289  \n",
       "numcomments                                                       445  \n",
       "numweights                                                         81  \n",
       "owned                                                            2318  \n",
       "playingtime                                                        10  \n",
       "stddev                                                        1.20659  \n",
       "trading                                                            39  \n",
       "usersrated                                                       1284  \n",
       "wanting                                                            79  \n",
       "wishing                                                           255  \n",
       "yearpublished                                                    2000  "
      ]
     },
     "execution_count": 19,
     "metadata": {},
     "output_type": "execute_result"
    }
   ],
   "source": [
    "df2.loc[df2[\"Children'sGameRank\"].notnull(),:].head().T"
   ]
  },
  {
   "cell_type": "code",
   "execution_count": 17,
   "metadata": {
    "ExecuteTime": {
     "end_time": "2018-12-30T01:20:46.059728Z",
     "start_time": "2018-12-30T01:20:46.051919Z"
    }
   },
   "outputs": [
    {
     "data": {
      "text/plain": [
       "AbstractGameRank      960\n",
       "BoardGameRank           0\n",
       "Children'sGameRank    992\n",
       "CustomizableRank      964\n",
       "FamilyGameRank        759\n",
       "PartyGameRank         941\n",
       "StrategyGameRank      540\n",
       "ThematicRank          804\n",
       "WarGameRank           891\n",
       "average                 0\n",
       "averageweight           0\n",
       "bayesaverage            0\n",
       "boardgameartist         0\n",
       "boardgamecategory       0\n",
       "boardgamedesigner       0\n",
       "boardgamefamily         0\n",
       "boardgamemechanic       0\n",
       "boardgamepublisher      0\n",
       "id                      0\n",
       "maxplayers              0\n",
       "maxplaytime             0\n",
       "median                  0\n",
       "minage                  0\n",
       "minplayers              0\n",
       "minplaytime             0\n",
       "name                    0\n",
       "num_of_rankings         0\n",
       "numcomments             0\n",
       "numweights              0\n",
       "owned                   0\n",
       "playingtime             0\n",
       "stddev                  0\n",
       "trading                 0\n",
       "usersrated              0\n",
       "wanting                 0\n",
       "wishing                 0\n",
       "yearpublished           0\n",
       "dtype: int64"
      ]
     },
     "execution_count": 17,
     "metadata": {},
     "output_type": "execute_result"
    }
   ],
   "source": [
    "df2.isnull().sum()"
   ]
  },
  {
   "cell_type": "code",
   "execution_count": 9,
   "metadata": {
    "ExecuteTime": {
     "end_time": "2018-12-20T02:31:00.900291Z",
     "start_time": "2018-12-20T02:31:00.884691Z"
    }
   },
   "outputs": [],
   "source": [
    "gm_list = []\n",
    "idx_split = 200\n",
    "idx_size = int(len(gm_ids)/idx_split)\n",
    "for i in range(idx_split):\n",
    "    idx = str(gm_ids[i*idx_size:(i+1)*idx_size]).replace(' ','')[1:-1]   \n",
    "    break\n",
    "#     pg = request.urlopen(f'{bs_pg_gm}{str(idx)}')\n",
    "#     item_ct = 0\n",
    "#     xsoup = BeautifulSoup(pg, 'xml')\n",
    "# #     while item_ct < 500:\n",
    "# #         xsoup = BeautifulSoup(pg, 'xml')\n",
    "# #         item_ct = len(xsoup.find_all('item'))\n",
    "#     gm_list += [extract_game_item(x) for x in xsoup.find_all('item')]\n",
    "# #     break\n",
    "# df2 = pd.DataFrame(gm_list)\n",
    "# df2.shape"
   ]
  },
  {
   "cell_type": "code",
   "execution_count": 10,
   "metadata": {
    "ExecuteTime": {
     "end_time": "2018-12-20T02:31:04.936629Z",
     "start_time": "2018-12-20T02:31:04.921029Z"
    }
   },
   "outputs": [
    {
     "data": {
      "text/plain": [
       "'174430,161936,182028,167791,12333,187645,169786,220308,193738,120677'"
      ]
     },
     "execution_count": 10,
     "metadata": {},
     "output_type": "execute_result"
    }
   ],
   "source": [
    "idx"
   ]
  },
  {
   "cell_type": "code",
   "execution_count": 9,
   "metadata": {
    "ExecuteTime": {
     "end_time": "2018-11-03T21:07:13.512888Z",
     "start_time": "2018-11-03T21:07:13.503888Z"
    }
   },
   "outputs": [],
   "source": [
    "def create_df_gm_ranks(gm_ids, bs_pg_gm):\n",
    "    gm_list = []\n",
    "    idx_split = 4\n",
    "    idx_size = int(len(gm_ids)/idx_split)\n",
    "    for i in range(idx_split):\n",
    "        idx = str(gm_ids[i*idx_size:(i+1)*idx_size]).replace(' ','')[1:-1]   \n",
    "        pg = request.urlopen(f'{bs_pg_gm}{str(idx)}')\n",
    "        xsoup = BeautifulSoup(pg, 'xml')\n",
    "        gm_list += [extract_game_item(x) for x in xsoup.find_all('item')]\n",
    "    df = pd.DataFrame(gm_list)\n",
    "    return df"
   ]
  },
  {
   "cell_type": "code",
   "execution_count": 10,
   "metadata": {
    "ExecuteTime": {
     "end_time": "2018-11-03T21:10:11.073044Z",
     "start_time": "2018-11-03T21:07:13.514888Z"
    },
    "scrolled": false
   },
   "outputs": [],
   "source": [
    "df = create_df_gm_ranks(gm_ids, bs_pg_gm)"
   ]
  },
  {
   "cell_type": "code",
   "execution_count": 12,
   "metadata": {
    "ExecuteTime": {
     "end_time": "2018-12-23T01:47:38.703147Z",
     "start_time": "2018-12-23T01:47:38.547742Z"
    },
    "scrolled": true
   },
   "outputs": [],
   "source": [
    "df2.to_csv(f'../data/kaggle/{str(datetime.now().date())}_bgg_top{len(gm_ids)}.csv', index=False)"
   ]
  },
  {
   "cell_type": "code",
   "execution_count": 13,
   "metadata": {
    "ExecuteTime": {
     "end_time": "2018-12-23T01:47:39.757587Z",
     "start_time": "2018-12-23T01:47:39.735987Z"
    }
   },
   "outputs": [],
   "source": [
    "with open('../data/kaggle/dataset-metadata.json', 'rb') as f:\n",
    "    meta_dict = json.load(f)"
   ]
  },
  {
   "cell_type": "code",
   "execution_count": 14,
   "metadata": {
    "ExecuteTime": {
     "end_time": "2018-12-23T01:47:40.470822Z",
     "start_time": "2018-12-23T01:47:40.465822Z"
    }
   },
   "outputs": [],
   "source": [
    "meta_dict['resources'].append({\n",
    "    'path': f'{str(datetime.now().date())}_bgg_top{len(gm_ids)}.csv',\n",
    "    'description': f'Board Game Geek top 2000 games on {str(datetime.now().date())}'\n",
    "})"
   ]
  },
  {
   "cell_type": "code",
   "execution_count": 15,
   "metadata": {
    "ExecuteTime": {
     "end_time": "2018-12-23T01:47:41.413876Z",
     "start_time": "2018-12-23T01:47:41.402875Z"
    },
    "scrolled": true
   },
   "outputs": [
    {
     "data": {
      "text/plain": [
       "{'title': 'Board Game Geek (BGG) Top 2000',\n",
       " 'subtitle': 'Board Game Geek top 2000 games rankings',\n",
       " 'description': 'Board Game Geek top 2000 games rankings and other info',\n",
       " 'id': 'mseinstein/bgg_top2000',\n",
       " 'licenses': [{'name': 'CC-BY-SA-4.0'}],\n",
       " 'resources': [{'path': '2018-10-06_bgg_top2000.csv',\n",
       "   'description': 'Board Game Geek top 2000 games on 2018-10-06'},\n",
       "  {'path': '2018-10-13_bgg_top2000.csv',\n",
       "   'description': 'Board Game Geek top 2000 games on 2018-10-13'},\n",
       "  {'path': '2018-10-20_bgg_top2000.csv',\n",
       "   'description': 'Board Game Geek top 2000 games on 2018-10-20'},\n",
       "  {'path': '2018-10-27_bgg_top2000.csv',\n",
       "   'description': 'Board Game Geek top 2000 games on 2018-10-27'},\n",
       "  {'path': '2018-11-03_bgg_top2000.csv',\n",
       "   'description': 'Board Game Geek top 2000 games on 2018-11-03'},\n",
       "  {'path': '2018-11-09_bgg_top2000.csv',\n",
       "   'description': 'Board Game Geek top 2000 games on 2018-11-09'},\n",
       "  {'path': '2018-11-17_bgg_top2000.csv',\n",
       "   'description': 'Board Game Geek top 2000 games on 2018-11-17'},\n",
       "  {'path': '2018-11-24_bgg_top2000.csv',\n",
       "   'description': 'Board Game Geek top 2000 games on 2018-11-24'},\n",
       "  {'path': '2018-12-01_bgg_top2000.csv',\n",
       "   'description': 'Board Game Geek top 2000 games on 2018-12-01'},\n",
       "  {'path': '2018-12-08_bgg_top2000.csv',\n",
       "   'description': 'Board Game Geek top 2000 games on 2018-12-08'},\n",
       "  {'path': '2018-12-15_bgg_top2000.csv',\n",
       "   'description': 'Board Game Geek top 2000 games on 2018-12-15'},\n",
       "  {'path': '2018-12-22_bgg_top2000.csv',\n",
       "   'description': 'Board Game Geek top 2000 games on 2018-12-22'}]}"
      ]
     },
     "execution_count": 15,
     "metadata": {},
     "output_type": "execute_result"
    }
   ],
   "source": [
    "meta_dict"
   ]
  },
  {
   "cell_type": "code",
   "execution_count": 58,
   "metadata": {
    "ExecuteTime": {
     "end_time": "2018-11-25T02:57:54.953906Z",
     "start_time": "2018-11-25T02:57:54.948906Z"
    }
   },
   "outputs": [],
   "source": [
    "meta_dict['title'] = 'Board Game Geek (BGG) Top 2000'"
   ]
  },
  {
   "cell_type": "code",
   "execution_count": 15,
   "metadata": {
    "ExecuteTime": {
     "end_time": "2018-12-17T11:25:01.965536Z",
     "start_time": "2018-12-17T11:25:01.959535Z"
    }
   },
   "outputs": [],
   "source": [
    "meta_dict['resources'][-1]['path'] = '2018-12-15_bgg_top2000.csv'\n",
    "meta_dict['resources'][-1]['description']= 'Board Game Geek top 2000 games on 2018-12-15'"
   ]
  },
  {
   "cell_type": "code",
   "execution_count": 16,
   "metadata": {
    "ExecuteTime": {
     "end_time": "2018-12-23T01:48:00.763900Z",
     "start_time": "2018-12-23T01:48:00.732700Z"
    }
   },
   "outputs": [],
   "source": [
    "with open('../data/kaggle/dataset-metadata.json', 'w') as fp:\n",
    "    json.dump(meta_dict, fp)"
   ]
  },
  {
   "cell_type": "markdown",
   "metadata": {},
   "source": [
    "Code for kaggle\n",
    "\n",
    "kaggle datasets version -m \"week of 2018-10-20\" -p .\\ -d"
   ]
  },
  {
   "cell_type": "code",
   "execution_count": 16,
   "metadata": {
    "ExecuteTime": {
     "end_time": "2018-12-17T11:25:07.025825Z",
     "start_time": "2018-12-17T11:25:07.020825Z"
    }
   },
   "outputs": [
    {
     "data": {
      "text/plain": [
       "{'title': 'Board Game Geek (BGG) Top 2000',\n",
       " 'subtitle': 'Board Game Geek top 2000 games rankings',\n",
       " 'description': 'Board Game Geek top 2000 games rankings and other info',\n",
       " 'id': 'mseinstein/bgg_top2000',\n",
       " 'licenses': [{'name': 'CC-BY-SA-4.0'}],\n",
       " 'resources': [{'path': '2018-10-06_bgg_top2000.csv',\n",
       "   'description': 'Board Game Geek top 2000 games on 2018-10-06'},\n",
       "  {'path': '2018-10-13_bgg_top2000.csv',\n",
       "   'description': 'Board Game Geek top 2000 games on 2018-10-13'},\n",
       "  {'path': '2018-10-20_bgg_top2000.csv',\n",
       "   'description': 'Board Game Geek top 2000 games on 2018-10-20'},\n",
       "  {'path': '2018-10-27_bgg_top2000.csv',\n",
       "   'description': 'Board Game Geek top 2000 games on 2018-10-27'},\n",
       "  {'path': '2018-11-03_bgg_top2000.csv',\n",
       "   'description': 'Board Game Geek top 2000 games on 2018-11-03'},\n",
       "  {'path': '2018-11-09_bgg_top2000.csv',\n",
       "   'description': 'Board Game Geek top 2000 games on 2018-11-09'},\n",
       "  {'path': '2018-11-17_bgg_top2000.csv',\n",
       "   'description': 'Board Game Geek top 2000 games on 2018-11-17'},\n",
       "  {'path': '2018-11-24_bgg_top2000.csv',\n",
       "   'description': 'Board Game Geek top 2000 games on 2018-11-24'},\n",
       "  {'path': '2018-12-01_bgg_top2000.csv',\n",
       "   'description': 'Board Game Geek top 2000 games on 2018-12-01'},\n",
       "  {'path': '2018-12-08_bgg_top2000.csv',\n",
       "   'description': 'Board Game Geek top 2000 games on 2018-12-08'},\n",
       "  {'path': '2018-12-15_bgg_top2000.csv',\n",
       "   'description': 'Board Game Geek top 2000 games on 2018-12-15'}]}"
      ]
     },
     "execution_count": 16,
     "metadata": {},
     "output_type": "execute_result"
    }
   ],
   "source": [
    "meta_dict"
   ]
  },
  {
   "cell_type": "code",
   "execution_count": null,
   "metadata": {},
   "outputs": [],
   "source": []
  },
  {
   "cell_type": "code",
   "execution_count": 13,
   "metadata": {},
   "outputs": [],
   "source": [
    "gm_list = []\n",
    "idx_split = 4\n",
    "idx_size = int(len(gm_ids)/idx_split)\n",
    "for i in range(idx_split):\n",
    "    idx = str(gm_ids[i*idx_size:(i+1)*idx_size]).replace(' ','')[1:-1]   \n",
    "    break"
   ]
  },
  {
   "cell_type": "code",
   "execution_count": 16,
   "metadata": {},
   "outputs": [],
   "source": [
    "idx2 = '174430,161936,182028,167791,12333,187645,169786,220308,120677,193738,84876,173346,180263,115746,3076,102794,205637'"
   ]
  },
  {
   "cell_type": "code",
   "execution_count": 21,
   "metadata": {},
   "outputs": [],
   "source": [
    "pg = request.urlopen(f'{bs_pg_gm}{str(idx)}')"
   ]
  },
  {
   "cell_type": "code",
   "execution_count": 23,
   "metadata": {},
   "outputs": [],
   "source": [
    "xsoup = BeautifulSoup(pg, 'xml')"
   ]
  },
  {
   "cell_type": "code",
   "execution_count": 29,
   "metadata": {
    "scrolled": true
   },
   "outputs": [
    {
     "data": {
      "text/plain": [
       "500"
      ]
     },
     "execution_count": 29,
     "metadata": {},
     "output_type": "execute_result"
    }
   ],
   "source": [
    "aa = xsoup.find_all('item')\n",
    "len(aa)"
   ]
  },
  {
   "cell_type": "code",
   "execution_count": null,
   "metadata": {},
   "outputs": [],
   "source": [
    "http.urlopen()"
   ]
  },
  {
   "cell_type": "code",
   "execution_count": 19,
   "metadata": {
    "scrolled": false
   },
   "outputs": [
    {
     "name": "stderr",
     "output_type": "stream",
     "text": [
      "/home/msnow/miniconda3/envs/bgg/lib/python3.7/site-packages/urllib3/connectionpool.py:858: InsecureRequestWarning: Unverified HTTPS request is being made. Adding certificate verification is strongly advised. See: https://urllib3.readthedocs.io/en/latest/advanced-usage.html#ssl-warnings\n",
      "  InsecureRequestWarning)\n"
     ]
    }
   ],
   "source": [
    "r = http.request('GET', f'{bs_pg_gm}{str(idx)}')"
   ]
  },
  {
   "cell_type": "code",
   "execution_count": 30,
   "metadata": {},
   "outputs": [],
   "source": [
    "xsoup2 = BeautifulSoup(r.data, 'xml')"
   ]
  },
  {
   "cell_type": "code",
   "execution_count": 31,
   "metadata": {},
   "outputs": [
    {
     "data": {
      "text/plain": [
       "500"
      ]
     },
     "execution_count": 31,
     "metadata": {},
     "output_type": "execute_result"
    }
   ],
   "source": [
    "bb = xsoup.find_all('item')\n",
    "len(bb)"
   ]
  },
  {
   "cell_type": "markdown",
   "metadata": {
    "heading_collapsed": true
   },
   "source": [
    "# XML2 API"
   ]
  },
  {
   "cell_type": "markdown",
   "metadata": {
    "hidden": true
   },
   "source": [
    "Base URI: /xmlapi2/thing?parameters\n",
    "- id=NNN\t\n",
    "  - Specifies the id of the thing(s) to retrieve. To request multiple things with a single query, NNN can specify a comma-delimited list of ids.\n",
    "- type=THINGTYPE\t\n",
    "  - Specifies that, regardless of the type of thing asked for by id, the results are filtered by the THINGTYPE(s) specified. Multiple THINGTYPEs can be specified in a comma-delimited list.\n",
    "- versions=1\t\n",
    "  - Returns version info for the item.\n",
    "- videos = 1\t\n",
    "  - Returns videos for the item.\n",
    "- stats=1\t\t\n",
    "  - Returns ranking and rating stats for the item.\n",
    "- historical=1\t\t\n",
    "  - Returns historical data over time. See page parameter.\n",
    "- marketplace=1\t\t\n",
    "  - Returns marketplace data.\n",
    "- comments=1\t\t\n",
    "  - Returns all comments about the item. Also includes ratings when commented. See page parameter.\n",
    "- ratingcomments=1\t\t\n",
    "  - Returns all ratings for the item. Also includes comments when rated. See page parameter. The ratingcomments and comments parameters cannot be used together, as the output always appears in the \\<comments\\> node of the XML; comments parameter takes precedence if both are specified. Ratings are sorted in descending rating value, based on the highest rating they have assigned to that item (each item in the collection can have a different rating).\n",
    "- page=NNN\t\t\n",
    "  - Defaults to 1, controls the page of data to see for historical info, comments, and ratings data.\n",
    "- pagesize=NNN\t\t\n",
    "  - Set the number of records to return in paging. Minimum is 10, maximum is 100.\n",
    "- from=YYYY-MM-DD\t\t\n",
    "  - Not currently supported.\n",
    "- to=YYYY-MM-DD\t\t\n",
    "  - Not currently supported."
   ]
  }
 ],
 "metadata": {
  "kernelspec": {
   "display_name": "Python 3",
   "language": "python",
   "name": "python3"
  },
  "language_info": {
   "codemirror_mode": {
    "name": "ipython",
    "version": 3
   },
   "file_extension": ".py",
   "mimetype": "text/x-python",
   "name": "python",
   "nbconvert_exporter": "python",
   "pygments_lexer": "ipython3",
   "version": "3.6.7"
  }
 },
 "nbformat": 4,
 "nbformat_minor": 2
}
