{
 "cells": [
  {
   "cell_type": "markdown",
   "metadata": {},
   "source": [
    "# Imports and Paths"
   ]
  },
  {
   "cell_type": "code",
   "execution_count": 1,
   "metadata": {
    "ExecuteTime": {
     "end_time": "2018-10-21T02:58:34.475949Z",
     "start_time": "2018-10-21T02:58:34.447948Z"
    }
   },
   "outputs": [],
   "source": [
    "import urllib3\n",
    "http = urllib3.PoolManager()"
   ]
  },
  {
   "cell_type": "code",
   "execution_count": 2,
   "metadata": {
    "ExecuteTime": {
     "end_time": "2018-10-21T02:58:37.937147Z",
     "start_time": "2018-10-21T02:58:35.476007Z"
    },
    "init_cell": true
   },
   "outputs": [],
   "source": [
    "from urllib import request\n",
    "from bs4 import BeautifulSoup, Comment\n",
    "import pandas as pd\n",
    "from datetime import datetime\n",
    "# from shutil import copyfile\n",
    "# import time\n",
    "import json"
   ]
  },
  {
   "cell_type": "markdown",
   "metadata": {},
   "source": [
    "# Load in previous list of games"
   ]
  },
  {
   "cell_type": "code",
   "execution_count": 9,
   "metadata": {},
   "outputs": [],
   "source": [
    "df_gms_lst = pd.read_csv('../data/bgg_top2000_2018-10-06.csv')"
   ]
  },
  {
   "cell_type": "code",
   "execution_count": 11,
   "metadata": {
    "scrolled": true
   },
   "outputs": [
    {
     "data": {
      "text/plain": [
       "Index(['AbstractGameRank', 'BoardGameRank', 'Children'sGameRank',\n",
       "       'CustomizableRank', 'FamilyGameRank', 'PartyGameRank', 'RPGItemRank',\n",
       "       'StrategyGameRank', 'ThematicRank', 'WarGameRank', 'average',\n",
       "       'averageweight', 'bayesaverage', 'boardgameartist', 'boardgamecategory',\n",
       "       'boardgamedesigner', 'boardgamefamily', 'boardgamemechanic',\n",
       "       'boardgamepublisher', 'id', 'maxplayers', 'maxplaytime', 'median',\n",
       "       'minage', 'minplayers', 'minplaytime', 'name', 'num_of_rankings',\n",
       "       'numcomments', 'numweights', 'owned', 'playingtime', 'stddev',\n",
       "       'trading', 'usersrated', 'wanting', 'wishing', 'yearpublished'],\n",
       "      dtype='object')"
      ]
     },
     "execution_count": 11,
     "metadata": {},
     "output_type": "execute_result"
    }
   ],
   "source": [
    "df_gms_lst.columns"
   ]
  },
  {
   "cell_type": "code",
   "execution_count": 31,
   "metadata": {},
   "outputs": [],
   "source": [
    "metadata_dict = {\"title\": \"BGG Top 2000\",\n",
    "                 \"subtitle\": \"Board Game Geek top 2000 games rankings\",\n",
    "                 \"description\": \"Board Game Geek top 2000 games rankings and other info\",\n",
    "                \"id\": \"mseinstein/bgg_top2000\",\n",
    "                \"licenses\": [{\"name\": \"CC-BY-SA-4.0\"}],\n",
    "                \"resources\":[\n",
    "                    {\"path\": \"bgg_top2000_2018-10-06.csv\",\n",
    "                     \"description\": \"Board Game Geek top 2000 games on 2018-10-06\"\n",
    "                    }\n",
    "                ] }"
   ]
  },
  {
   "cell_type": "code",
   "execution_count": 33,
   "metadata": {},
   "outputs": [],
   "source": [
    "with open('../data/kaggle/dataset-metadata.json', 'w') as fp:\n",
    "    json.dump(metadata_dict, fp)"
   ]
  },
  {
   "cell_type": "markdown",
   "metadata": {},
   "source": [
    "# Get the id's of the top 2000 board games"
   ]
  },
  {
   "cell_type": "code",
   "execution_count": 3,
   "metadata": {
    "ExecuteTime": {
     "end_time": "2018-10-21T02:58:42.951434Z",
     "start_time": "2018-10-21T02:58:42.947434Z"
    },
    "init_cell": true
   },
   "outputs": [],
   "source": [
    "pg_gm_rnks = 'https://boardgamegeek.com/browse/boardgame/page/'"
   ]
  },
  {
   "cell_type": "code",
   "execution_count": 4,
   "metadata": {
    "ExecuteTime": {
     "end_time": "2018-10-21T02:58:43.811483Z",
     "start_time": "2018-10-21T02:58:43.803483Z"
    },
    "init_cell": true
   },
   "outputs": [],
   "source": [
    "def extract_gm_id(soup):\n",
    "    rows = soup.find('div', {'id': 'collection'}).find_all('tr')[1:]\n",
    "    id_list = []\n",
    "    for row in rows:\n",
    "        id_list.append(int(row.find_all('a')[1]['href'].split('/')[2]))\n",
    "    return id_list"
   ]
  },
  {
   "cell_type": "code",
   "execution_count": 5,
   "metadata": {
    "ExecuteTime": {
     "end_time": "2018-10-21T02:58:45.594585Z",
     "start_time": "2018-10-21T02:58:45.586585Z"
    },
    "init_cell": true
   },
   "outputs": [],
   "source": [
    "def top_2k_gms(pg_gm_rnks):\n",
    "    gm_ids = []\n",
    "    for pg_num in range(1,21):\n",
    "        pg = request.urlopen(f'{pg_gm_rnks}{str(pg_num)}')\n",
    "        soup = BeautifulSoup(pg, 'html.parser')\n",
    "        gm_ids += extract_gm_id(soup)\n",
    "    return gm_ids"
   ]
  },
  {
   "cell_type": "code",
   "execution_count": 6,
   "metadata": {
    "ExecuteTime": {
     "end_time": "2018-10-21T02:59:11.576071Z",
     "start_time": "2018-10-21T02:58:47.394688Z"
    }
   },
   "outputs": [
    {
     "data": {
      "text/plain": [
       "2000"
      ]
     },
     "execution_count": 6,
     "metadata": {},
     "output_type": "execute_result"
    }
   ],
   "source": [
    "gm_ids = top_2k_gms(pg_gm_rnks)\n",
    "len(gm_ids)"
   ]
  },
  {
   "cell_type": "markdown",
   "metadata": {},
   "source": [
    "# Extract the info for each game in the top 2k using the extracted game id's"
   ]
  },
  {
   "cell_type": "code",
   "execution_count": 7,
   "metadata": {
    "ExecuteTime": {
     "end_time": "2018-10-21T02:59:12.663134Z",
     "start_time": "2018-10-21T02:59:12.659133Z"
    }
   },
   "outputs": [],
   "source": [
    "bs_pg = 'https://www.boardgamegeek.com/xmlapi2/'\n",
    "bs_pg_gm = f'{bs_pg}thing?type=boardgame&stats=1&ratingcomments=1&page=1&pagesize=10&id='"
   ]
  },
  {
   "cell_type": "code",
   "execution_count": 8,
   "metadata": {
    "ExecuteTime": {
     "end_time": "2018-10-21T02:59:13.499181Z",
     "start_time": "2018-10-21T02:59:13.475180Z"
    }
   },
   "outputs": [],
   "source": [
    "def extract_game_item(item):\n",
    "    gm_dict = {}\n",
    "    field_int = ['yearpublished', 'minplayers', 'maxplayers', 'playingtime', 'minplaytime', 'maxplaytime', 'minage']\n",
    "    field_categ = ['boardgamecategory', 'boardgamemechanic', 'boardgamefamily','boardgamedesigner', 'boardgameartist', 'boardgamepublisher']\n",
    "    field_rank = [x['friendlyname'] for x in item.find_all('rank')]\n",
    "    field_stats = ['usersrated', 'average', 'bayesaverage', 'stddev', 'median', 'owned', 'trading', 'wanting', 'wishing', 'numcomments', 'numweights', 'averageweight']\n",
    "    gm_dict['name'] = item.find('name')['value']\n",
    "    gm_dict['id'] = item['id']\n",
    "    gm_dict['num_of_rankings'] = int(item.find('comments')['totalitems'])\n",
    "    for i in field_int:\n",
    "        field_val = item.find(i)\n",
    "        if field_val is None:\n",
    "            gm_dict[i] = -1\n",
    "        else:\n",
    "            gm_dict[i] = int(field_val['value'])\n",
    "    for i in field_categ:\n",
    "        gm_dict[i] = [x['value'] for x in item.find_all('link',{'type':i})]\n",
    "    for i in field_rank:\n",
    "        field_val = item.find('rank',{'friendlyname':i})\n",
    "        if field_val is None or field_val['value'] == 'Not Ranked':\n",
    "            gm_dict[i.replace(' ','')] = -1\n",
    "        else:\n",
    "            gm_dict[i.replace(' ','')] = int(field_val['value'])\n",
    "    for i in field_stats:\n",
    "        field_val = item.find(i)\n",
    "        if field_val is None:\n",
    "            gm_dict[i] = -1\n",
    "        else:\n",
    "            gm_dict[i] = float(field_val['value'])\n",
    "    return gm_dict"
   ]
  },
  {
   "cell_type": "code",
   "execution_count": 9,
   "metadata": {
    "ExecuteTime": {
     "end_time": "2018-10-21T02:59:14.789255Z",
     "start_time": "2018-10-21T02:59:14.779255Z"
    }
   },
   "outputs": [],
   "source": [
    "def create_df_gm_ranks(gm_ids, bs_pg_gm):\n",
    "    gm_list = []\n",
    "    idx_split = 4\n",
    "    idx_size = int(len(gm_ids)/idx_split)\n",
    "    for i in range(idx_split):\n",
    "        idx = str(gm_ids[i*idx_size:(i+1)*idx_size]).replace(' ','')[1:-1]   \n",
    "        pg = request.urlopen(f'{bs_pg_gm}{str(idx)}')\n",
    "        xsoup = BeautifulSoup(pg, 'xml')\n",
    "        gm_list += [extract_game_item(x) for x in xsoup.find_all('item')]\n",
    "    df = pd.DataFrame(gm_list)\n",
    "    return df"
   ]
  },
  {
   "cell_type": "code",
   "execution_count": 10,
   "metadata": {
    "ExecuteTime": {
     "end_time": "2018-10-21T03:02:10.145285Z",
     "start_time": "2018-10-21T02:59:25.382861Z"
    },
    "scrolled": true
   },
   "outputs": [],
   "source": [
    "df = create_df_gm_ranks(gm_ids, bs_pg_gm)"
   ]
  },
  {
   "cell_type": "code",
   "execution_count": 20,
   "metadata": {
    "ExecuteTime": {
     "end_time": "2018-10-21T03:10:55.708345Z",
     "start_time": "2018-10-21T03:10:55.592339Z"
    },
    "scrolled": true
   },
   "outputs": [],
   "source": [
    "df.to_csv(f'../data/kaggle/{str(datetime.now().date())}_bgg_top{len(gm_ids)}.csv', index=False)"
   ]
  },
  {
   "cell_type": "code",
   "execution_count": 11,
   "metadata": {
    "ExecuteTime": {
     "end_time": "2018-10-21T03:02:29.888414Z",
     "start_time": "2018-10-21T03:02:29.881414Z"
    },
    "scrolled": true
   },
   "outputs": [
    {
     "data": {
      "text/plain": [
       "(2000, 38)"
      ]
     },
     "execution_count": 11,
     "metadata": {},
     "output_type": "execute_result"
    }
   ],
   "source": [
    "df.shape"
   ]
  },
  {
   "cell_type": "code",
   "execution_count": 14,
   "metadata": {
    "ExecuteTime": {
     "end_time": "2018-10-21T03:02:49.422531Z",
     "start_time": "2018-10-21T03:02:49.393530Z"
    }
   },
   "outputs": [],
   "source": [
    "with open('../data/kaggle/dataset-metadata.json', 'rb') as f:\n",
    "    meta_dict = json.load(f)"
   ]
  },
  {
   "cell_type": "code",
   "execution_count": 13,
   "metadata": {},
   "outputs": [],
   "source": [
    "gm_list = []\n",
    "idx_split = 4\n",
    "idx_size = int(len(gm_ids)/idx_split)\n",
    "for i in range(idx_split):\n",
    "    idx = str(gm_ids[i*idx_size:(i+1)*idx_size]).replace(' ','')[1:-1]   \n",
    "    break"
   ]
  },
  {
   "cell_type": "code",
   "execution_count": 16,
   "metadata": {},
   "outputs": [],
   "source": [
    "idx2 = '174430,161936,182028,167791,12333,187645,169786,220308,120677,193738,84876,173346,180263,115746,3076,102794,205637'"
   ]
  },
  {
   "cell_type": "code",
   "execution_count": 21,
   "metadata": {},
   "outputs": [],
   "source": [
    "pg = request.urlopen(f'{bs_pg_gm}{str(idx)}')"
   ]
  },
  {
   "cell_type": "code",
   "execution_count": 23,
   "metadata": {},
   "outputs": [],
   "source": [
    "xsoup = BeautifulSoup(pg, 'xml')"
   ]
  },
  {
   "cell_type": "code",
   "execution_count": 29,
   "metadata": {},
   "outputs": [
    {
     "data": {
      "text/plain": [
       "500"
      ]
     },
     "execution_count": 29,
     "metadata": {},
     "output_type": "execute_result"
    }
   ],
   "source": [
    "aa = xsoup.find_all('item')\n",
    "len(aa)"
   ]
  },
  {
   "cell_type": "code",
   "execution_count": null,
   "metadata": {},
   "outputs": [],
   "source": [
    "http.urlopen()"
   ]
  },
  {
   "cell_type": "code",
   "execution_count": 19,
   "metadata": {
    "scrolled": true
   },
   "outputs": [
    {
     "name": "stderr",
     "output_type": "stream",
     "text": [
      "/home/msnow/miniconda3/envs/bgg/lib/python3.7/site-packages/urllib3/connectionpool.py:858: InsecureRequestWarning: Unverified HTTPS request is being made. Adding certificate verification is strongly advised. See: https://urllib3.readthedocs.io/en/latest/advanced-usage.html#ssl-warnings\n",
      "  InsecureRequestWarning)\n"
     ]
    }
   ],
   "source": [
    "r = http.request('GET', f'{bs_pg_gm}{str(idx)}')"
   ]
  },
  {
   "cell_type": "code",
   "execution_count": 30,
   "metadata": {},
   "outputs": [],
   "source": [
    "xsoup2 = BeautifulSoup(r.data, 'xml')"
   ]
  },
  {
   "cell_type": "code",
   "execution_count": 31,
   "metadata": {},
   "outputs": [
    {
     "data": {
      "text/plain": [
       "500"
      ]
     },
     "execution_count": 31,
     "metadata": {},
     "output_type": "execute_result"
    }
   ],
   "source": [
    "bb = xsoup.find_all('item')\n",
    "len(bb)"
   ]
  },
  {
   "cell_type": "code",
   "execution_count": 16,
   "metadata": {
    "ExecuteTime": {
     "end_time": "2018-10-21T03:03:08.703634Z",
     "start_time": "2018-10-21T03:03:08.700634Z"
    }
   },
   "outputs": [],
   "source": [
    "meta_dict['resources'].append({\n",
    "    'path': f'bgg_top{len(gm_ids)}_{str(datetime.now().date())}.csv',\n",
    "    'description': f'Board Game Geek top 2000 games on {str(datetime.now().date())}'\n",
    "})"
   ]
  },
  {
   "cell_type": "code",
   "execution_count": 17,
   "metadata": {
    "ExecuteTime": {
     "end_time": "2018-10-21T03:03:12.816870Z",
     "start_time": "2018-10-21T03:03:12.809869Z"
    }
   },
   "outputs": [
    {
     "data": {
      "text/plain": [
       "{'title': 'BGG Top 2000',\n",
       " 'subtitle': 'Board Game Geek top 2000 games rankings',\n",
       " 'description': 'Board Game Geek top 2000 games rankings and other info',\n",
       " 'id': 'mseinstein/bgg_top2000',\n",
       " 'licenses': [{'name': 'CC-BY-SA-4.0'}],\n",
       " 'resources': [{'path': 'bgg_top2000_2018-10-06.csv',\n",
       "   'description': 'Board Game Geek top 2000 games on 2018-10-06'},\n",
       "  {'path': 'bgg_top2000_2018-10-13.csv',\n",
       "   'description': 'Board Game Geek top 2000 games on 2018-10-13'},\n",
       "  {'path': 'bgg_top2000_2018-10-20.csv',\n",
       "   'description': 'Board Game Geek top 2000 games on 2018-10-20'}]}"
      ]
     },
     "execution_count": 17,
     "metadata": {},
     "output_type": "execute_result"
    }
   ],
   "source": [
    "meta_dict"
   ]
  },
  {
   "cell_type": "code",
   "execution_count": 19,
   "metadata": {
    "ExecuteTime": {
     "end_time": "2018-10-21T03:04:18.760641Z",
     "start_time": "2018-10-21T03:04:18.748641Z"
    }
   },
   "outputs": [],
   "source": [
    "with open('../data/kaggle/dataset-metadata.json', 'w') as fp:\n",
    "    json.dump(meta_dict, fp)"
   ]
  },
  {
   "cell_type": "markdown",
   "metadata": {
    "heading_collapsed": true
   },
   "source": [
    "# XML2 API"
   ]
  },
  {
   "cell_type": "markdown",
   "metadata": {
    "hidden": true
   },
   "source": [
    "Base URI: /xmlapi2/thing?parameters\n",
    "- id=NNN\t\n",
    "  - Specifies the id of the thing(s) to retrieve. To request multiple things with a single query, NNN can specify a comma-delimited list of ids.\n",
    "- type=THINGTYPE\t\n",
    "  - Specifies that, regardless of the type of thing asked for by id, the results are filtered by the THINGTYPE(s) specified. Multiple THINGTYPEs can be specified in a comma-delimited list.\n",
    "- versions=1\t\n",
    "  - Returns version info for the item.\n",
    "- videos = 1\t\n",
    "  - Returns videos for the item.\n",
    "- stats=1\t\t\n",
    "  - Returns ranking and rating stats for the item.\n",
    "- historical=1\t\t\n",
    "  - Returns historical data over time. See page parameter.\n",
    "- marketplace=1\t\t\n",
    "  - Returns marketplace data.\n",
    "- comments=1\t\t\n",
    "  - Returns all comments about the item. Also includes ratings when commented. See page parameter.\n",
    "- ratingcomments=1\t\t\n",
    "  - Returns all ratings for the item. Also includes comments when rated. See page parameter. The ratingcomments and comments parameters cannot be used together, as the output always appears in the \\<comments\\> node of the XML; comments parameter takes precedence if both are specified. Ratings are sorted in descending rating value, based on the highest rating they have assigned to that item (each item in the collection can have a different rating).\n",
    "- page=NNN\t\t\n",
    "  - Defaults to 1, controls the page of data to see for historical info, comments, and ratings data.\n",
    "- pagesize=NNN\t\t\n",
    "  - Set the number of records to return in paging. Minimum is 10, maximum is 100.\n",
    "- from=YYYY-MM-DD\t\t\n",
    "  - Not currently supported.\n",
    "- to=YYYY-MM-DD\t\t\n",
    "  - Not currently supported."
   ]
  }
 ],
 "metadata": {
  "kernelspec": {
   "display_name": "Python 3",
   "language": "python",
   "name": "python3"
  },
  "language_info": {
   "codemirror_mode": {
    "name": "ipython",
    "version": 3
   },
   "file_extension": ".py",
   "mimetype": "text/x-python",
   "name": "python",
   "nbconvert_exporter": "python",
   "pygments_lexer": "ipython3",
   "version": "3.7.0"
  }
 },
 "nbformat": 4,
 "nbformat_minor": 2
}
